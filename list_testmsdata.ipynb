{
 "cells": [
  {
   "cell_type": "markdown",
   "metadata": {},
   "source": [
    "# Check contents of the MS data in casatestdata\n",
    "\n",
    "When writing new unittests, it is often a bit combersome to figure out if there is suitable MS data already\n",
    "exists in casatestdata. \n",
    "This notebook scan subset of the directory contains MS data in casatestdata (either /home/casa or local copy)\n",
    "to list some basic parameters (nchan, nspw, nrows, frequencies, etc)\n",
    "\n",
    "This uses the inter\n",
    "***"
   ]
  },
  {
   "cell_type": "markdown",
   "metadata": {},
   "source": [
    "__Install and Import__\n",
    "\n",
    "use local modular casa installion along with jupyter notebook and pandas\n",
    "\n",
    "    export PPY=`which python3`\n",
    "    virtualenv -p $PPY --setuptools ./local_python3\n",
    "    ./local_python3/bin/pip install --upgrade pip\n",
    "    ./local_python3/bin/pip install --upgrade numpy matplotlib ipython astropy\n",
    "    ./local_python3/bin/pip install --extra-index-url https://casa-pip.nrao.edu/repository/pypi-group/simple casatools\n",
    "    ./local_python3/bin/pip install --extra-index-url https://casa-pip.nrao.edu/repository/pypi-group/simple casatasks\n",
    "    ./local_python3/bin/pip3 install jupyter\n",
    "    ./local_python3/bin/pip3 install pandas\n",
    "\n",
    "\n",
    "***"
   ]
  },
  {
   "cell_type": "markdown",
   "metadata": {},
   "source": [
    "__Import Libraries__"
   ]
  },
  {
   "cell_type": "code",
   "execution_count": 7,
   "metadata": {},
   "outputs": [],
   "source": [
    "# Import required tools/tasks\n",
    "from casatools import msmetadata\n",
    "from casatasks import listobs\n",
    "\n",
    "import os\n",
    "#import pylab as pl\n",
    "import numpy as np\n",
    "#from astropy.io import fits\n",
    "#from astropy.wcs import WCS\n",
    "from ipywidgets import interact\n",
    "\n",
    "# Instantiate all the required tools\n",
    "msmd = msmetadata()"
   ]
  },
  {
   "cell_type": "markdown",
   "metadata": {},
   "source": [
    "__Point to the casatestdata dir__"
   ]
  },
  {
   "cell_type": "code",
   "execution_count": 8,
   "metadata": {},
   "outputs": [],
   "source": [
    "datadir='/Volumes/ssd1/casatestdata/measurementset/'"
   ]
  },
  {
   "cell_type": "markdown",
   "metadata": {},
   "source": [
    "__Check sub directories__ "
   ]
  },
  {
   "cell_type": "code",
   "execution_count": 9,
   "metadata": {},
   "outputs": [
    {
     "name": "stdout",
     "output_type": "stream",
     "text": [
      "['alma', 'almasd', 'evla', 'other', 'vla']\n"
     ]
    }
   ],
   "source": [
    "import glob\n",
    "diroptionfull=glob.glob(datadir+'*')\n",
    "diroption=[os.path.basename(x) for x in diroptionfull]\n",
    "print(diroption)"
   ]
  },
  {
   "cell_type": "markdown",
   "metadata": {},
   "source": [
    "__Define interactive drop-down menu for sub-directory selection__"
   ]
  },
  {
   "cell_type": "code",
   "execution_count": 10,
   "metadata": {},
   "outputs": [],
   "source": [
    "# some handy functions to use along widgets\n",
    "from IPython.display import display, Markdown, clear_output\n",
    "# widget packages\n",
    "import ipywidgets as widgets\n",
    "# defining some widgets\n",
    "text = widgets.Text(\n",
    "       value='My Text',\n",
    "       description='Title', )\n",
    "calendar = widgets.DatePicker(\n",
    "           description='Select Date')\n",
    "slider = widgets.FloatSlider(\n",
    "         value=1,\n",
    "         min=0,\n",
    "         max=10.0,\n",
    "         step=0.1,)\n",
    "menu = widgets.Dropdown(\n",
    "       options=diroption,\n",
    "       value=diroption[0],\n",
    "       description=datadir)\n",
    "checkbox = widgets.Checkbox(\n",
    "           description='Check to invert',)\n"
   ]
  },
  {
   "cell_type": "markdown",
   "metadata": {},
   "source": [
    "__Select subdirectory from the drop-down menu__"
   ]
  },
  {
   "cell_type": "code",
   "execution_count": 25,
   "metadata": {},
   "outputs": [
    {
     "data": {
      "application/vnd.jupyter.widget-view+json": {
       "model_id": "549f7d14d93c49d8b82f18697da7873b",
       "version_major": 2,
       "version_minor": 0
      },
      "text/plain": [
       "Dropdown(description='/Volumes/ssd1/casatestdata/measurementset/', index=2, options=('alma', 'almasd', 'evla',…"
      ]
     },
     "execution_count": 25,
     "metadata": {},
     "output_type": "execute_result"
    }
   ],
   "source": [
    "menu"
   ]
  },
  {
   "cell_type": "markdown",
   "metadata": {},
   "source": [
    "Create a directory under the current working directory to store listobs output"
   ]
  },
  {
   "cell_type": "code",
   "execution_count": 29,
   "metadata": {},
   "outputs": [
    {
     "name": "stdout",
     "output_type": "stream",
     "text": [
      "Created listobs output directory, evla_runs\n"
     ]
    }
   ],
   "source": [
    "if os.path.exists(f'{menu.value}_runs'):\n",
    "    os.system(f'rm -rf {menu.value}_runs')\n",
    "os.system(f'mkdir {menu.value}_runs')\n",
    "print(f'Created listobs output directory, {menu.value}_runs')"
   ]
  },
  {
   "cell_type": "markdown",
   "metadata": {},
   "source": [
    "__Run listobs on the MS data in the selected subdirectory__"
   ]
  },
  {
   "cell_type": "code",
   "execution_count": 30,
   "metadata": {},
   "outputs": [],
   "source": [
    "datalist=glob.glob(datadir+menu.value+'/*')"
   ]
  },
  {
   "cell_type": "code",
   "execution_count": 31,
   "metadata": {},
   "outputs": [
    {
     "name": "stderr",
     "output_type": "stream",
     "text": [
      "2023-09-18 21:25:55\tSEVERE\tlistobs::ms::summary\tException Reported: Exception: File: runs/3C138Ka.ms.listobs.txt already exists; delete it, choose another name, or set overwrite=true..\n",
      "2023-09-18 21:25:55\tSEVERE\tlistobs::ms::summary+\t... thrown by casac::record *casac::ms::summary(bool, const std::__1::string &, bool, double, bool, bool) at File: src/tools/ms/ms_cmpt.cc, line: 798\n",
      "2023-09-18 21:25:55\tSEVERE\tlistobs::::casa\tTask listobs raised an exception of class RuntimeError with the following message: Exception: File: runs/3C138Ka.ms.listobs.txt already exists; delete it, choose another name, or set overwrite=true..\n",
      "2023-09-18 21:25:55\tSEVERE\tlistobs::::casa+\t... thrown by casac::record *casac::ms::summary(bool, const std::__1::string &, bool, double, bool, bool) at File: src/tools/ms/ms_cmpt.cc, line: 798\n",
      "2023-09-18 21:25:56\tSEVERE\tlistobs::ms::summary\tException Reported: Exception: File: runs/3C147Ka.ms.listobs.txt already exists; delete it, choose another name, or set overwrite=true..\n",
      "2023-09-18 21:25:56\tSEVERE\tlistobs::ms::summary+\t... thrown by casac::record *casac::ms::summary(bool, const std::__1::string &, bool, double, bool, bool) at File: src/tools/ms/ms_cmpt.cc, line: 798\n",
      "2023-09-18 21:25:56\tSEVERE\tlistobs::::casa\tTask listobs raised an exception of class RuntimeError with the following message: Exception: File: runs/3C147Ka.ms.listobs.txt already exists; delete it, choose another name, or set overwrite=true..\n",
      "2023-09-18 21:25:56\tSEVERE\tlistobs::::casa+\t... thrown by casac::record *casac::ms::summary(bool, const std::__1::string &, bool, double, bool, bool) at File: src/tools/ms/ms_cmpt.cc, line: 798\n",
      "2023-09-18 21:25:56\tSEVERE\tlistobs::ms::summary\tException Reported: Exception: File: runs/3C286Ka.ms.listobs.txt already exists; delete it, choose another name, or set overwrite=true..\n",
      "2023-09-18 21:25:56\tSEVERE\tlistobs::ms::summary+\t... thrown by casac::record *casac::ms::summary(bool, const std::__1::string &, bool, double, bool, bool) at File: src/tools/ms/ms_cmpt.cc, line: 798\n",
      "2023-09-18 21:25:56\tSEVERE\tlistobs::::casa\tTask listobs raised an exception of class RuntimeError with the following message: Exception: File: runs/3C286Ka.ms.listobs.txt already exists; delete it, choose another name, or set overwrite=true..\n",
      "2023-09-18 21:25:56\tSEVERE\tlistobs::::casa+\t... thrown by casac::record *casac::ms::summary(bool, const std::__1::string &, bool, double, bool, bool) at File: src/tools/ms/ms_cmpt.cc, line: 798\n",
      "2023-09-18 21:25:56\tSEVERE\tlistobs::ms::summary\tException Reported: Exception: File: runs/3C286_syspower_CAS-11860.ms.listobs.txt already exists; delete it, choose another name, or set overwrite=true..\n",
      "2023-09-18 21:25:56\tSEVERE\tlistobs::ms::summary+\t... thrown by casac::record *casac::ms::summary(bool, const std::__1::string &, bool, double, bool, bool) at File: src/tools/ms/ms_cmpt.cc, line: 798\n",
      "2023-09-18 21:25:56\tSEVERE\tlistobs::::casa\tTask listobs raised an exception of class RuntimeError with the following message: Exception: File: runs/3C286_syspower_CAS-11860.ms.listobs.txt already exists; delete it, choose another name, or set overwrite=true..\n",
      "2023-09-18 21:25:56\tSEVERE\tlistobs::::casa+\t... thrown by casac::record *casac::ms::summary(bool, const std::__1::string &, bool, double, bool, bool) at File: src/tools/ms/ms_cmpt.cc, line: 798\n"
     ]
    },
    {
     "name": "stdout",
     "output_type": "stream",
     "text": [
      "/Volumes/ssd1/casatestdata/measurementset/evla/3C138Ka.ms is not valid MS\n",
      "/Volumes/ssd1/casatestdata/measurementset/evla/3C147Ka.ms is not valid MS\n",
      "/Volumes/ssd1/casatestdata/measurementset/evla/3C286Ka.ms is not valid MS\n",
      "/Volumes/ssd1/casatestdata/measurementset/evla/3C286_syspower_CAS-11860.ms is not valid MS\n"
     ]
    },
    {
     "name": "stderr",
     "output_type": "stream",
     "text": [
      "2023-09-18 21:25:56\tSEVERE\tlistobs::ms::summary\tException Reported: Exception: File: runs/3C48Ka.ms.listobs.txt already exists; delete it, choose another name, or set overwrite=true..\n",
      "2023-09-18 21:25:56\tSEVERE\tlistobs::ms::summary+\t... thrown by casac::record *casac::ms::summary(bool, const std::__1::string &, bool, double, bool, bool) at File: src/tools/ms/ms_cmpt.cc, line: 798\n",
      "2023-09-18 21:25:56\tSEVERE\tlistobs::::casa\tTask listobs raised an exception of class RuntimeError with the following message: Exception: File: runs/3C48Ka.ms.listobs.txt already exists; delete it, choose another name, or set overwrite=true..\n",
      "2023-09-18 21:25:56\tSEVERE\tlistobs::::casa+\t... thrown by casac::record *casac::ms::summary(bool, const std::__1::string &, bool, double, bool, bool) at File: src/tools/ms/ms_cmpt.cc, line: 798\n",
      "2023-09-18 21:25:56\tSEVERE\tlistobs::ms::summary\tException Reported: Exception: File: runs/3c391calonly.ms.listobs.txt already exists; delete it, choose another name, or set overwrite=true..\n",
      "2023-09-18 21:25:56\tSEVERE\tlistobs::ms::summary+\t... thrown by casac::record *casac::ms::summary(bool, const std::__1::string &, bool, double, bool, bool) at File: src/tools/ms/ms_cmpt.cc, line: 798\n",
      "2023-09-18 21:25:56\tSEVERE\tlistobs::::casa\tTask listobs raised an exception of class RuntimeError with the following message: Exception: File: runs/3c391calonly.ms.listobs.txt already exists; delete it, choose another name, or set overwrite=true..\n",
      "2023-09-18 21:25:56\tSEVERE\tlistobs::::casa+\t... thrown by casac::record *casac::ms::summary(bool, const std::__1::string &, bool, double, bool, bool) at File: src/tools/ms/ms_cmpt.cc, line: 798\n",
      "2023-09-18 21:25:56\tSEVERE\tlistobs::ms::summary\tException Reported: Exception: File: runs/3c84scan1.ms.listobs.txt already exists; delete it, choose another name, or set overwrite=true..\n",
      "2023-09-18 21:25:56\tSEVERE\tlistobs::ms::summary+\t... thrown by casac::record *casac::ms::summary(bool, const std::__1::string &, bool, double, bool, bool) at File: src/tools/ms/ms_cmpt.cc, line: 798\n",
      "2023-09-18 21:25:56\tSEVERE\tlistobs::::casa\tTask listobs raised an exception of class RuntimeError with the following message: Exception: File: runs/3c84scan1.ms.listobs.txt already exists; delete it, choose another name, or set overwrite=true..\n",
      "2023-09-18 21:25:56\tSEVERE\tlistobs::::casa+\t... thrown by casac::record *casac::ms::summary(bool, const std::__1::string &, bool, double, bool, bool) at File: src/tools/ms/ms_cmpt.cc, line: 798\n",
      "2023-09-18 21:25:56\tSEVERE\tlistobs::ms::summary\tException Reported: Exception: File: runs/A2256LC2_4.5s-1.ms.listobs.txt already exists; delete it, choose another name, or set overwrite=true..\n",
      "2023-09-18 21:25:56\tSEVERE\tlistobs::ms::summary+\t... thrown by casac::record *casac::ms::summary(bool, const std::__1::string &, bool, double, bool, bool) at File: src/tools/ms/ms_cmpt.cc, line: 798\n",
      "2023-09-18 21:25:56\tSEVERE\tlistobs::::casa\tTask listobs raised an exception of class RuntimeError with the following message: Exception: File: runs/A2256LC2_4.5s-1.ms.listobs.txt already exists; delete it, choose another name, or set overwrite=true..\n",
      "2023-09-18 21:25:56\tSEVERE\tlistobs::::casa+\t... thrown by casac::record *casac::ms::summary(bool, const std::__1::string &, bool, double, bool, bool) at File: src/tools/ms/ms_cmpt.cc, line: 798\n"
     ]
    },
    {
     "name": "stdout",
     "output_type": "stream",
     "text": [
      "/Volumes/ssd1/casatestdata/measurementset/evla/3C48Ka.ms is not valid MS\n",
      "/Volumes/ssd1/casatestdata/measurementset/evla/3c391calonly.ms is not valid MS\n",
      "/Volumes/ssd1/casatestdata/measurementset/evla/3c84scan1.ms is not valid MS\n",
      "/Volumes/ssd1/casatestdata/measurementset/evla/A2256LC2_4.5s-1.ms is not valid MS\n"
     ]
    },
    {
     "name": "stderr",
     "output_type": "stream",
     "text": [
      "2023-09-18 21:25:56\tSEVERE\tlistobs::ms::summary\tException Reported: Exception: File: runs/A2256LC2_4.5s-2.ms.listobs.txt already exists; delete it, choose another name, or set overwrite=true..\n",
      "2023-09-18 21:25:56\tSEVERE\tlistobs::ms::summary+\t... thrown by casac::record *casac::ms::summary(bool, const std::__1::string &, bool, double, bool, bool) at File: src/tools/ms/ms_cmpt.cc, line: 798\n",
      "2023-09-18 21:25:56\tSEVERE\tlistobs::::casa\tTask listobs raised an exception of class RuntimeError with the following message: Exception: File: runs/A2256LC2_4.5s-2.ms.listobs.txt already exists; delete it, choose another name, or set overwrite=true..\n",
      "2023-09-18 21:25:56\tSEVERE\tlistobs::::casa+\t... thrown by casac::record *casac::ms::summary(bool, const std::__1::string &, bool, double, bool, bool) at File: src/tools/ms/ms_cmpt.cc, line: 798\n",
      "2023-09-18 21:25:56\tSEVERE\tlistobs::ms::summary\tException Reported: Exception: File: runs/A2256LC2_4.5s-2b.ms.listobs.txt already exists; delete it, choose another name, or set overwrite=true..\n",
      "2023-09-18 21:25:56\tSEVERE\tlistobs::ms::summary+\t... thrown by casac::record *casac::ms::summary(bool, const std::__1::string &, bool, double, bool, bool) at File: src/tools/ms/ms_cmpt.cc, line: 798\n",
      "2023-09-18 21:25:56\tSEVERE\tlistobs::::casa\tTask listobs raised an exception of class RuntimeError with the following message: Exception: File: runs/A2256LC2_4.5s-2b.ms.listobs.txt already exists; delete it, choose another name, or set overwrite=true..\n",
      "2023-09-18 21:25:56\tSEVERE\tlistobs::::casa+\t... thrown by casac::record *casac::ms::summary(bool, const std::__1::string &, bool, double, bool, bool) at File: src/tools/ms/ms_cmpt.cc, line: 798\n",
      "2023-09-18 21:25:56\tSEVERE\tlistobs::ms::summary\tException Reported: Exception: File: runs/CAS-5172-phase-center.ms.listobs.txt already exists; delete it, choose another name, or set overwrite=true..\n",
      "2023-09-18 21:25:56\tSEVERE\tlistobs::ms::summary+\t... thrown by casac::record *casac::ms::summary(bool, const std::__1::string &, bool, double, bool, bool) at File: src/tools/ms/ms_cmpt.cc, line: 798\n",
      "2023-09-18 21:25:56\tSEVERE\tlistobs::::casa\tTask listobs raised an exception of class RuntimeError with the following message: Exception: File: runs/CAS-5172-phase-center.ms.listobs.txt already exists; delete it, choose another name, or set overwrite=true..\n",
      "2023-09-18 21:25:56\tSEVERE\tlistobs::::casa+\t... thrown by casac::record *casac::ms::summary(bool, const std::__1::string &, bool, double, bool, bool) at File: src/tools/ms/ms_cmpt.cc, line: 798\n",
      "2023-09-18 21:25:56\tSEVERE\tlistobs::ms::summary\tException Reported: Exception: File: runs/CAS-6733.ms.listobs.txt already exists; delete it, choose another name, or set overwrite=true..\n",
      "2023-09-18 21:25:56\tSEVERE\tlistobs::ms::summary+\t... thrown by casac::record *casac::ms::summary(bool, const std::__1::string &, bool, double, bool, bool) at File: src/tools/ms/ms_cmpt.cc, line: 798\n",
      "2023-09-18 21:25:56\tSEVERE\tlistobs::::casa\tTask listobs raised an exception of class RuntimeError with the following message: Exception: File: runs/CAS-6733.ms.listobs.txt already exists; delete it, choose another name, or set overwrite=true..\n",
      "2023-09-18 21:25:56\tSEVERE\tlistobs::::casa+\t... thrown by casac::record *casac::ms::summary(bool, const std::__1::string &, bool, double, bool, bool) at File: src/tools/ms/ms_cmpt.cc, line: 798\n"
     ]
    },
    {
     "name": "stdout",
     "output_type": "stream",
     "text": [
      "/Volumes/ssd1/casatestdata/measurementset/evla/A2256LC2_4.5s-2.ms is not valid MS\n",
      "/Volumes/ssd1/casatestdata/measurementset/evla/A2256LC2_4.5s-2b.ms is not valid MS\n",
      "/Volumes/ssd1/casatestdata/measurementset/evla/CAS-5172-phase-center.ms is not valid MS\n",
      "/Volumes/ssd1/casatestdata/measurementset/evla/CAS-6733.ms is not valid MS\n"
     ]
    },
    {
     "name": "stderr",
     "output_type": "stream",
     "text": [
      "2023-09-18 21:25:56\tSEVERE\tlistobs::ms::summary\tException Reported: Exception: File: runs/Four_ants_3C286.mms.listobs.txt already exists; delete it, choose another name, or set overwrite=true..\n",
      "2023-09-18 21:25:56\tSEVERE\tlistobs::ms::summary+\t... thrown by casac::record *casac::ms::summary(bool, const std::__1::string &, bool, double, bool, bool) at File: src/tools/ms/ms_cmpt.cc, line: 798\n",
      "2023-09-18 21:25:56\tSEVERE\tlistobs::::casa\tTask listobs raised an exception of class RuntimeError with the following message: Exception: File: runs/Four_ants_3C286.mms.listobs.txt already exists; delete it, choose another name, or set overwrite=true..\n",
      "2023-09-18 21:25:56\tSEVERE\tlistobs::::casa+\t... thrown by casac::record *casac::ms::summary(bool, const std::__1::string &, bool, double, bool, bool) at File: src/tools/ms/ms_cmpt.cc, line: 798\n",
      "2023-09-18 21:25:56\tSEVERE\tlistobs::ms::summary\tException Reported: Exception: File: runs/Four_ants_3C286.ms.listobs.txt already exists; delete it, choose another name, or set overwrite=true..\n",
      "2023-09-18 21:25:56\tSEVERE\tlistobs::ms::summary+\t... thrown by casac::record *casac::ms::summary(bool, const std::__1::string &, bool, double, bool, bool) at File: src/tools/ms/ms_cmpt.cc, line: 798\n",
      "2023-09-18 21:25:56\tSEVERE\tlistobs::::casa\tTask listobs raised an exception of class RuntimeError with the following message: Exception: File: runs/Four_ants_3C286.ms.listobs.txt already exists; delete it, choose another name, or set overwrite=true..\n",
      "2023-09-18 21:25:56\tSEVERE\tlistobs::::casa+\t... thrown by casac::record *casac::ms::summary(bool, const std::__1::string &, bool, double, bool, bool) at File: src/tools/ms/ms_cmpt.cc, line: 798\n",
      "2023-09-18 21:25:56\tSEVERE\tlistobs::ms::summary\tException Reported: Exception: File: runs/Four_ants_3C286_spw9_small_for_preaveraging.ms.listobs.txt already exists; delete it, choose another name, or set overwrite=true..\n",
      "2023-09-18 21:25:56\tSEVERE\tlistobs::ms::summary+\t... thrown by casac::record *casac::ms::summary(bool, const std::__1::string &, bool, double, bool, bool) at File: src/tools/ms/ms_cmpt.cc, line: 798\n",
      "2023-09-18 21:25:56\tSEVERE\tlistobs::::casa\tTask listobs raised an exception of class RuntimeError with the following message: Exception: File: runs/Four_ants_3C286_spw9_small_for_preaveraging.ms.listobs.txt already exists; delete it, choose another name, or set overwrite=true..\n",
      "2023-09-18 21:25:56\tSEVERE\tlistobs::::casa+\t... thrown by casac::record *casac::ms::summary(bool, const std::__1::string &, bool, double, bool, bool) at File: src/tools/ms/ms_cmpt.cc, line: 798\n",
      "2023-09-18 21:25:56\tSEVERE\tlistobs::ms::summary\tException Reported: Exception: File: runs/Four_ants_3C286_spw9_small_for_timeavg.ms.listobs.txt already exists; delete it, choose another name, or set overwrite=true..\n",
      "2023-09-18 21:25:56\tSEVERE\tlistobs::ms::summary+\t... thrown by casac::record *casac::ms::summary(bool, const std::__1::string &, bool, double, bool, bool) at File: src/tools/ms/ms_cmpt.cc, line: 798\n",
      "2023-09-18 21:25:56\tSEVERE\tlistobs::::casa\tTask listobs raised an exception of class RuntimeError with the following message: Exception: File: runs/Four_ants_3C286_spw9_small_for_timeavg.ms.listobs.txt already exists; delete it, choose another name, or set overwrite=true..\n",
      "2023-09-18 21:25:56\tSEVERE\tlistobs::::casa+\t... thrown by casac::record *casac::ms::summary(bool, const std::__1::string &, bool, double, bool, bool) at File: src/tools/ms/ms_cmpt.cc, line: 798\n"
     ]
    },
    {
     "name": "stdout",
     "output_type": "stream",
     "text": [
      "/Volumes/ssd1/casatestdata/measurementset/evla/Four_ants_3C286.mms is not valid MS\n",
      "/Volumes/ssd1/casatestdata/measurementset/evla/Four_ants_3C286.ms is not valid MS\n",
      "/Volumes/ssd1/casatestdata/measurementset/evla/Four_ants_3C286_spw9_small_for_preaveraging.ms is not valid MS\n",
      "/Volumes/ssd1/casatestdata/measurementset/evla/Four_ants_3C286_spw9_small_for_timeavg.ms is not valid MS\n"
     ]
    },
    {
     "name": "stderr",
     "output_type": "stream",
     "text": [
      "2023-09-18 21:25:56\tSEVERE\tlistobs::ms::summary\tException Reported: Exception: File: runs/TwoSpw.ms.listobs.txt already exists; delete it, choose another name, or set overwrite=true..\n",
      "2023-09-18 21:25:56\tSEVERE\tlistobs::ms::summary+\t... thrown by casac::record *casac::ms::summary(bool, const std::__1::string &, bool, double, bool, bool) at File: src/tools/ms/ms_cmpt.cc, line: 798\n",
      "2023-09-18 21:25:56\tSEVERE\tlistobs::::casa\tTask listobs raised an exception of class RuntimeError with the following message: Exception: File: runs/TwoSpw.ms.listobs.txt already exists; delete it, choose another name, or set overwrite=true..\n",
      "2023-09-18 21:25:56\tSEVERE\tlistobs::::casa+\t... thrown by casac::record *casac::ms::summary(bool, const std::__1::string &, bool, double, bool, bool) at File: src/tools/ms/ms_cmpt.cc, line: 798\n",
      "2023-09-18 21:25:56\tSEVERE\tlistobs::ms::summary\tException Reported: Exception: File: runs/as1039q4_ut.ms.listobs.txt already exists; delete it, choose another name, or set overwrite=true..\n",
      "2023-09-18 21:25:56\tSEVERE\tlistobs::ms::summary+\t... thrown by casac::record *casac::ms::summary(bool, const std::__1::string &, bool, double, bool, bool) at File: src/tools/ms/ms_cmpt.cc, line: 798\n",
      "2023-09-18 21:25:56\tSEVERE\tlistobs::::casa\tTask listobs raised an exception of class RuntimeError with the following message: Exception: File: runs/as1039q4_ut.ms.listobs.txt already exists; delete it, choose another name, or set overwrite=true..\n",
      "2023-09-18 21:25:56\tSEVERE\tlistobs::::casa+\t... thrown by casac::record *casac::ms::summary(bool, const std::__1::string &, bool, double, bool, bool) at File: src/tools/ms/ms_cmpt.cc, line: 798\n",
      "2023-09-18 21:25:57\tSEVERE\tlistobs::ms::summary\tException Reported: Exception: File: runs/auto_antposcorr_evla_gencal.ms.listobs.txt already exists; delete it, choose another name, or set overwrite=true..\n",
      "2023-09-18 21:25:57\tSEVERE\tlistobs::ms::summary+\t... thrown by casac::record *casac::ms::summary(bool, const std::__1::string &, bool, double, bool, bool) at File: src/tools/ms/ms_cmpt.cc, line: 798\n",
      "2023-09-18 21:25:57\tSEVERE\tlistobs::::casa\tTask listobs raised an exception of class RuntimeError with the following message: Exception: File: runs/auto_antposcorr_evla_gencal.ms.listobs.txt already exists; delete it, choose another name, or set overwrite=true..\n",
      "2023-09-18 21:25:57\tSEVERE\tlistobs::::casa+\t... thrown by casac::record *casac::ms::summary(bool, const std::__1::string &, bool, double, bool, bool) at File: src/tools/ms/ms_cmpt.cc, line: 798\n",
      "2023-09-18 21:25:57\tSEVERE\tlistobs::ms::summary\tException Reported: Exception: File: runs/bogusCDSP.ms.listobs.txt already exists; delete it, choose another name, or set overwrite=true..\n",
      "2023-09-18 21:25:57\tSEVERE\tlistobs::ms::summary+\t... thrown by casac::record *casac::ms::summary(bool, const std::__1::string &, bool, double, bool, bool) at File: src/tools/ms/ms_cmpt.cc, line: 798\n",
      "2023-09-18 21:25:57\tSEVERE\tlistobs::::casa\tTask listobs raised an exception of class RuntimeError with the following message: Exception: File: runs/bogusCDSP.ms.listobs.txt already exists; delete it, choose another name, or set overwrite=true..\n",
      "2023-09-18 21:25:57\tSEVERE\tlistobs::::casa+\t... thrown by casac::record *casac::ms::summary(bool, const std::__1::string &, bool, double, bool, bool) at File: src/tools/ms/ms_cmpt.cc, line: 798\n"
     ]
    },
    {
     "name": "stdout",
     "output_type": "stream",
     "text": [
      "/Volumes/ssd1/casatestdata/measurementset/evla/TwoSpw.ms is not valid MS\n",
      "/Volumes/ssd1/casatestdata/measurementset/evla/as1039q4_ut.ms is not valid MS\n",
      "/Volumes/ssd1/casatestdata/measurementset/evla/auto_antposcorr_evla_gencal.ms is not valid MS\n",
      "/Volumes/ssd1/casatestdata/measurementset/evla/bogusCDSP.ms is not valid MS\n"
     ]
    },
    {
     "name": "stderr",
     "output_type": "stream",
     "text": [
      "2023-09-18 21:25:57\tSEVERE\tlistobs::ms::summary\tException Reported: Exception: File: runs/combine-1-timestamp-2-SPW-no-WEIGHT_SPECTRUM-Same-Exposure.ms.listobs.txt already exists; delete it, choose another name, or set overwrite=true..\n",
      "2023-09-18 21:25:57\tSEVERE\tlistobs::ms::summary+\t... thrown by casac::record *casac::ms::summary(bool, const std::__1::string &, bool, double, bool, bool) at File: src/tools/ms/ms_cmpt.cc, line: 798\n",
      "2023-09-18 21:25:57\tSEVERE\tlistobs::::casa\tTask listobs raised an exception of class RuntimeError with the following message: Exception: File: runs/combine-1-timestamp-2-SPW-no-WEIGHT_SPECTRUM-Same-Exposure.ms.listobs.txt already exists; delete it, choose another name, or set overwrite=true..\n",
      "2023-09-18 21:25:57\tSEVERE\tlistobs::::casa+\t... thrown by casac::record *casac::ms::summary(bool, const std::__1::string &, bool, double, bool, bool) at File: src/tools/ms/ms_cmpt.cc, line: 798\n",
      "2023-09-18 21:25:57\tSEVERE\tlistobs::ms::summary\tException Reported: Exception: File: runs/doppler01fine-01.ms.listobs.txt already exists; delete it, choose another name, or set overwrite=true..\n",
      "2023-09-18 21:25:57\tSEVERE\tlistobs::ms::summary+\t... thrown by casac::record *casac::ms::summary(bool, const std::__1::string &, bool, double, bool, bool) at File: src/tools/ms/ms_cmpt.cc, line: 798\n",
      "2023-09-18 21:25:57\tSEVERE\tlistobs::::casa\tTask listobs raised an exception of class RuntimeError with the following message: Exception: File: runs/doppler01fine-01.ms.listobs.txt already exists; delete it, choose another name, or set overwrite=true..\n",
      "2023-09-18 21:25:57\tSEVERE\tlistobs::::casa+\t... thrown by casac::record *casac::ms::summary(bool, const std::__1::string &, bool, double, bool, bool) at File: src/tools/ms/ms_cmpt.cc, line: 798\n",
      "2023-09-18 21:25:57\tSEVERE\tlistobs::ms::summary\tException Reported: Exception: File: runs/evla-highres-sample-thinned.ms.listobs.txt already exists; delete it, choose another name, or set overwrite=true..\n",
      "2023-09-18 21:25:57\tSEVERE\tlistobs::ms::summary+\t... thrown by casac::record *casac::ms::summary(bool, const std::__1::string &, bool, double, bool, bool) at File: src/tools/ms/ms_cmpt.cc, line: 798\n",
      "2023-09-18 21:25:57\tSEVERE\tlistobs::::casa\tTask listobs raised an exception of class RuntimeError with the following message: Exception: File: runs/evla-highres-sample-thinned.ms.listobs.txt already exists; delete it, choose another name, or set overwrite=true..\n",
      "2023-09-18 21:25:57\tSEVERE\tlistobs::::casa+\t... thrown by casac::record *casac::ms::summary(bool, const std::__1::string &, bool, double, bool, bool) at File: src/tools/ms/ms_cmpt.cc, line: 798\n",
      "2023-09-18 21:25:57\tSEVERE\tlistobs::ms::summary\tException Reported: Exception: File: runs/evla-highres-sample.ms.listobs.txt already exists; delete it, choose another name, or set overwrite=true..\n",
      "2023-09-18 21:25:57\tSEVERE\tlistobs::ms::summary+\t... thrown by casac::record *casac::ms::summary(bool, const std::__1::string &, bool, double, bool, bool) at File: src/tools/ms/ms_cmpt.cc, line: 798\n",
      "2023-09-18 21:25:57\tSEVERE\tlistobs::::casa\tTask listobs raised an exception of class RuntimeError with the following message: Exception: File: runs/evla-highres-sample.ms.listobs.txt already exists; delete it, choose another name, or set overwrite=true..\n",
      "2023-09-18 21:25:57\tSEVERE\tlistobs::::casa+\t... thrown by casac::record *casac::ms::summary(bool, const std::__1::string &, bool, double, bool, bool) at File: src/tools/ms/ms_cmpt.cc, line: 798\n"
     ]
    },
    {
     "name": "stdout",
     "output_type": "stream",
     "text": [
      "/Volumes/ssd1/casatestdata/measurementset/evla/combine-1-timestamp-2-SPW-no-WEIGHT_SPECTRUM-Same-Exposure.ms is not valid MS\n",
      "/Volumes/ssd1/casatestdata/measurementset/evla/doppler01fine-01.ms is not valid MS\n",
      "/Volumes/ssd1/casatestdata/measurementset/evla/evla-highres-sample-thinned.ms is not valid MS\n",
      "/Volumes/ssd1/casatestdata/measurementset/evla/evla-highres-sample.ms is not valid MS\n"
     ]
    },
    {
     "name": "stderr",
     "output_type": "stream",
     "text": [
      "2023-09-18 21:25:57\tSEVERE\tlistobs::ms::summary\tException Reported: Exception: File: runs/evla_15A-397_spw1_7_scan_4_6.ms.listobs.txt already exists; delete it, choose another name, or set overwrite=true..\n",
      "2023-09-18 21:25:57\tSEVERE\tlistobs::ms::summary+\t... thrown by casac::record *casac::ms::summary(bool, const std::__1::string &, bool, double, bool, bool) at File: src/tools/ms/ms_cmpt.cc, line: 798\n",
      "2023-09-18 21:25:57\tSEVERE\tlistobs::::casa\tTask listobs raised an exception of class RuntimeError with the following message: Exception: File: runs/evla_15A-397_spw1_7_scan_4_6.ms.listobs.txt already exists; delete it, choose another name, or set overwrite=true..\n",
      "2023-09-18 21:25:57\tSEVERE\tlistobs::::casa+\t... thrown by casac::record *casac::ms::summary(bool, const std::__1::string &, bool, double, bool, bool) at File: src/tools/ms/ms_cmpt.cc, line: 798\n"
     ]
    },
    {
     "name": "stdout",
     "output_type": "stream",
     "text": [
      "/Volumes/ssd1/casatestdata/measurementset/evla/evla_15A-397_spw1_7_scan_4_6.ms is not valid MS\n"
     ]
    },
    {
     "name": "stderr",
     "output_type": "stream",
     "text": [
      "2023-09-18 21:25:57\tSEVERE\tlistobs::ms::summary\tException Reported: Exception: File: runs/pFourantsMix.mms.listobs.txt already exists; delete it, choose another name, or set overwrite=true..\n",
      "2023-09-18 21:25:57\tSEVERE\tlistobs::ms::summary+\t... thrown by casac::record *casac::ms::summary(bool, const std::__1::string &, bool, double, bool, bool) at File: src/tools/ms/ms_cmpt.cc, line: 798\n",
      "2023-09-18 21:25:57\tSEVERE\tlistobs::::casa\tTask listobs raised an exception of class RuntimeError with the following message: Exception: File: runs/pFourantsMix.mms.listobs.txt already exists; delete it, choose another name, or set overwrite=true..\n",
      "2023-09-18 21:25:57\tSEVERE\tlistobs::::casa+\t... thrown by casac::record *casac::ms::summary(bool, const std::__1::string &, bool, double, bool, bool) at File: src/tools/ms/ms_cmpt.cc, line: 798\n",
      "2023-09-18 21:25:57\tSEVERE\tlistobs::ms::summary\tException Reported: Exception: File: runs/pFourantsScan.mms.listobs.txt already exists; delete it, choose another name, or set overwrite=true..\n",
      "2023-09-18 21:25:57\tSEVERE\tlistobs::ms::summary+\t... thrown by casac::record *casac::ms::summary(bool, const std::__1::string &, bool, double, bool, bool) at File: src/tools/ms/ms_cmpt.cc, line: 798\n",
      "2023-09-18 21:25:57\tSEVERE\tlistobs::::casa\tTask listobs raised an exception of class RuntimeError with the following message: Exception: File: runs/pFourantsScan.mms.listobs.txt already exists; delete it, choose another name, or set overwrite=true..\n",
      "2023-09-18 21:25:57\tSEVERE\tlistobs::::casa+\t... thrown by casac::record *casac::ms::summary(bool, const std::__1::string &, bool, double, bool, bool) at File: src/tools/ms/ms_cmpt.cc, line: 798\n"
     ]
    },
    {
     "name": "stdout",
     "output_type": "stream",
     "text": [
      "/Volumes/ssd1/casatestdata/measurementset/evla/pFourantsMix.mms is not valid MS\n",
      "/Volumes/ssd1/casatestdata/measurementset/evla/pFourantsScan.mms is not valid MS\n"
     ]
    },
    {
     "name": "stderr",
     "output_type": "stream",
     "text": [
      "2023-09-18 21:25:58\tSEVERE\tlistobs::ms::summary\tException Reported: Exception: File: runs/pFourantsSpw.mms.listobs.txt already exists; delete it, choose another name, or set overwrite=true..\n",
      "2023-09-18 21:25:58\tSEVERE\tlistobs::ms::summary+\t... thrown by casac::record *casac::ms::summary(bool, const std::__1::string &, bool, double, bool, bool) at File: src/tools/ms/ms_cmpt.cc, line: 798\n",
      "2023-09-18 21:25:58\tSEVERE\tlistobs::::casa\tTask listobs raised an exception of class RuntimeError with the following message: Exception: File: runs/pFourantsSpw.mms.listobs.txt already exists; delete it, choose another name, or set overwrite=true..\n",
      "2023-09-18 21:25:58\tSEVERE\tlistobs::::casa+\t... thrown by casac::record *casac::ms::summary(bool, const std::__1::string &, bool, double, bool, bool) at File: src/tools/ms/ms_cmpt.cc, line: 798\n",
      "2023-09-18 21:25:58\tSEVERE\tlistobs::ms::summary\tException Reported: Exception: File: runs/papersky_mosaic.ms.listobs.txt already exists; delete it, choose another name, or set overwrite=true..\n",
      "2023-09-18 21:25:58\tSEVERE\tlistobs::ms::summary+\t... thrown by casac::record *casac::ms::summary(bool, const std::__1::string &, bool, double, bool, bool) at File: src/tools/ms/ms_cmpt.cc, line: 798\n",
      "2023-09-18 21:25:58\tSEVERE\tlistobs::::casa\tTask listobs raised an exception of class RuntimeError with the following message: Exception: File: runs/papersky_mosaic.ms.listobs.txt already exists; delete it, choose another name, or set overwrite=true..\n",
      "2023-09-18 21:25:58\tSEVERE\tlistobs::::casa+\t... thrown by casac::record *casac::ms::summary(bool, const std::__1::string &, bool, double, bool, bool) at File: src/tools/ms/ms_cmpt.cc, line: 798\n",
      "2023-09-18 21:25:58\tSEVERE\tlistobs::ms::summary\tException Reported: Exception: File: runs/papersky_standard.ms.listobs.txt already exists; delete it, choose another name, or set overwrite=true..\n",
      "2023-09-18 21:25:58\tSEVERE\tlistobs::ms::summary+\t... thrown by casac::record *casac::ms::summary(bool, const std::__1::string &, bool, double, bool, bool) at File: src/tools/ms/ms_cmpt.cc, line: 798\n",
      "2023-09-18 21:25:58\tSEVERE\tlistobs::::casa\tTask listobs raised an exception of class RuntimeError with the following message: Exception: File: runs/papersky_standard.ms.listobs.txt already exists; delete it, choose another name, or set overwrite=true..\n",
      "2023-09-18 21:25:58\tSEVERE\tlistobs::::casa+\t... thrown by casac::record *casac::ms::summary(bool, const std::__1::string &, bool, double, bool, bool) at File: src/tools/ms/ms_cmpt.cc, line: 798\n",
      "2023-09-18 21:25:58\tSEVERE\tlistobs::ms::summary\tException Reported: Exception: File: runs/refim_Cband.G37line.ms.listobs.txt already exists; delete it, choose another name, or set overwrite=true..\n",
      "2023-09-18 21:25:58\tSEVERE\tlistobs::ms::summary+\t... thrown by casac::record *casac::ms::summary(bool, const std::__1::string &, bool, double, bool, bool) at File: src/tools/ms/ms_cmpt.cc, line: 798\n",
      "2023-09-18 21:25:58\tSEVERE\tlistobs::::casa\tTask listobs raised an exception of class RuntimeError with the following message: Exception: File: runs/refim_Cband.G37line.ms.listobs.txt already exists; delete it, choose another name, or set overwrite=true..\n",
      "2023-09-18 21:25:58\tSEVERE\tlistobs::::casa+\t... thrown by casac::record *casac::ms::summary(bool, const std::__1::string &, bool, double, bool, bool) at File: src/tools/ms/ms_cmpt.cc, line: 798\n"
     ]
    },
    {
     "name": "stdout",
     "output_type": "stream",
     "text": [
      "/Volumes/ssd1/casatestdata/measurementset/evla/pFourantsSpw.mms is not valid MS\n",
      "/Volumes/ssd1/casatestdata/measurementset/evla/papersky_mosaic.ms is not valid MS\n",
      "/Volumes/ssd1/casatestdata/measurementset/evla/papersky_standard.ms is not valid MS\n",
      "/Volumes/ssd1/casatestdata/measurementset/evla/refim_Cband.G37line.ms is not valid MS\n"
     ]
    },
    {
     "name": "stderr",
     "output_type": "stream",
     "text": [
      "2023-09-18 21:25:58\tSEVERE\tlistobs::ms::summary\tException Reported: Exception: File: runs/refim_eptwochan.ms.listobs.txt already exists; delete it, choose another name, or set overwrite=true..\n",
      "2023-09-18 21:25:58\tSEVERE\tlistobs::ms::summary+\t... thrown by casac::record *casac::ms::summary(bool, const std::__1::string &, bool, double, bool, bool) at File: src/tools/ms/ms_cmpt.cc, line: 798\n",
      "2023-09-18 21:25:58\tSEVERE\tlistobs::::casa\tTask listobs raised an exception of class RuntimeError with the following message: Exception: File: runs/refim_eptwochan.ms.listobs.txt already exists; delete it, choose another name, or set overwrite=true..\n",
      "2023-09-18 21:25:58\tSEVERE\tlistobs::::casa+\t... thrown by casac::record *casac::ms::summary(bool, const std::__1::string &, bool, double, bool, bool) at File: src/tools/ms/ms_cmpt.cc, line: 798\n",
      "2023-09-18 21:25:58\tSEVERE\tlistobs::ms::summary\tException Reported: Exception: File: runs/refim_heterogeneous_pointings.ms.listobs.txt already exists; delete it, choose another name, or set overwrite=true..\n",
      "2023-09-18 21:25:58\tSEVERE\tlistobs::ms::summary+\t... thrown by casac::record *casac::ms::summary(bool, const std::__1::string &, bool, double, bool, bool) at File: src/tools/ms/ms_cmpt.cc, line: 798\n",
      "2023-09-18 21:25:58\tSEVERE\tlistobs::::casa\tTask listobs raised an exception of class RuntimeError with the following message: Exception: File: runs/refim_heterogeneous_pointings.ms.listobs.txt already exists; delete it, choose another name, or set overwrite=true..\n",
      "2023-09-18 21:25:58\tSEVERE\tlistobs::::casa+\t... thrown by casac::record *casac::ms::summary(bool, const std::__1::string &, bool, double, bool, bool) at File: src/tools/ms/ms_cmpt.cc, line: 798\n",
      "2023-09-18 21:25:58\tSEVERE\tlistobs::ms::summary\tException Reported: Exception: File: runs/refim_mawproject.ms.listobs.txt already exists; delete it, choose another name, or set overwrite=true..\n",
      "2023-09-18 21:25:58\tSEVERE\tlistobs::ms::summary+\t... thrown by casac::record *casac::ms::summary(bool, const std::__1::string &, bool, double, bool, bool) at File: src/tools/ms/ms_cmpt.cc, line: 798\n",
      "2023-09-18 21:25:58\tSEVERE\tlistobs::::casa\tTask listobs raised an exception of class RuntimeError with the following message: Exception: File: runs/refim_mawproject.ms.listobs.txt already exists; delete it, choose another name, or set overwrite=true..\n",
      "2023-09-18 21:25:58\tSEVERE\tlistobs::::casa+\t... thrown by casac::record *casac::ms::summary(bool, const std::__1::string &, bool, double, bool, bool) at File: src/tools/ms/ms_cmpt.cc, line: 798\n",
      "2023-09-18 21:25:58\tSEVERE\tlistobs::ms::summary\tException Reported: Exception: File: runs/refim_mawproject_offcenter.ms.listobs.txt already exists; delete it, choose another name, or set overwrite=true..\n",
      "2023-09-18 21:25:58\tSEVERE\tlistobs::ms::summary+\t... thrown by casac::record *casac::ms::summary(bool, const std::__1::string &, bool, double, bool, bool) at File: src/tools/ms/ms_cmpt.cc, line: 798\n",
      "2023-09-18 21:25:58\tSEVERE\tlistobs::::casa\tTask listobs raised an exception of class RuntimeError with the following message: Exception: File: runs/refim_mawproject_offcenter.ms.listobs.txt already exists; delete it, choose another name, or set overwrite=true..\n",
      "2023-09-18 21:25:58\tSEVERE\tlistobs::::casa+\t... thrown by casac::record *casac::ms::summary(bool, const std::__1::string &, bool, double, bool, bool) at File: src/tools/ms/ms_cmpt.cc, line: 798\n"
     ]
    },
    {
     "name": "stdout",
     "output_type": "stream",
     "text": [
      "/Volumes/ssd1/casatestdata/measurementset/evla/refim_eptwochan.ms is not valid MS\n",
      "/Volumes/ssd1/casatestdata/measurementset/evla/refim_heterogeneous_pointings.ms is not valid MS\n",
      "/Volumes/ssd1/casatestdata/measurementset/evla/refim_mawproject.ms is not valid MS\n",
      "/Volumes/ssd1/casatestdata/measurementset/evla/refim_mawproject_offcenter.ms is not valid MS\n"
     ]
    },
    {
     "name": "stderr",
     "output_type": "stream",
     "text": [
      "2023-09-18 21:25:58\tSEVERE\tlistobs::ms::summary\tException Reported: Exception: File: runs/refim_mawproject_twopointings.ms.listobs.txt already exists; delete it, choose another name, or set overwrite=true..\n",
      "2023-09-18 21:25:58\tSEVERE\tlistobs::ms::summary+\t... thrown by casac::record *casac::ms::summary(bool, const std::__1::string &, bool, double, bool, bool) at File: src/tools/ms/ms_cmpt.cc, line: 798\n",
      "2023-09-18 21:25:58\tSEVERE\tlistobs::::casa\tTask listobs raised an exception of class RuntimeError with the following message: Exception: File: runs/refim_mawproject_twopointings.ms.listobs.txt already exists; delete it, choose another name, or set overwrite=true..\n",
      "2023-09-18 21:25:58\tSEVERE\tlistobs::::casa+\t... thrown by casac::record *casac::ms::summary(bool, const std::__1::string &, bool, double, bool, bool) at File: src/tools/ms/ms_cmpt.cc, line: 798\n",
      "2023-09-18 21:25:58\tSEVERE\tlistobs::ms::summary\tException Reported: Exception: File: runs/refim_oneshiftpoint.mosaic.ms.listobs.txt already exists; delete it, choose another name, or set overwrite=true..\n",
      "2023-09-18 21:25:58\tSEVERE\tlistobs::ms::summary+\t... thrown by casac::record *casac::ms::summary(bool, const std::__1::string &, bool, double, bool, bool) at File: src/tools/ms/ms_cmpt.cc, line: 798\n",
      "2023-09-18 21:25:58\tSEVERE\tlistobs::::casa\tTask listobs raised an exception of class RuntimeError with the following message: Exception: File: runs/refim_oneshiftpoint.mosaic.ms.listobs.txt already exists; delete it, choose another name, or set overwrite=true..\n",
      "2023-09-18 21:25:58\tSEVERE\tlistobs::::casa+\t... thrown by casac::record *casac::ms::summary(bool, const std::__1::string &, bool, double, bool, bool) at File: src/tools/ms/ms_cmpt.cc, line: 798\n",
      "2023-09-18 21:25:58\tSEVERE\tlistobs::ms::summary\tException Reported: Exception: File: runs/refim_sim_hetarray_ngvla.ms.listobs.txt already exists; delete it, choose another name, or set overwrite=true..\n",
      "2023-09-18 21:25:58\tSEVERE\tlistobs::ms::summary+\t... thrown by casac::record *casac::ms::summary(bool, const std::__1::string &, bool, double, bool, bool) at File: src/tools/ms/ms_cmpt.cc, line: 798\n",
      "2023-09-18 21:25:58\tSEVERE\tlistobs::::casa\tTask listobs raised an exception of class RuntimeError with the following message: Exception: File: runs/refim_sim_hetarray_ngvla.ms.listobs.txt already exists; delete it, choose another name, or set overwrite=true..\n",
      "2023-09-18 21:25:58\tSEVERE\tlistobs::::casa+\t... thrown by casac::record *casac::ms::summary(bool, const std::__1::string &, bool, double, bool, bool) at File: src/tools/ms/ms_cmpt.cc, line: 798\n",
      "2023-09-18 21:25:58\tSEVERE\tlistobs::ms::summary\tException Reported: Exception: File: runs/split_ddid_mixedpol_CAS-12283.ms.listobs.txt already exists; delete it, choose another name, or set overwrite=true..\n",
      "2023-09-18 21:25:58\tSEVERE\tlistobs::ms::summary+\t... thrown by casac::record *casac::ms::summary(bool, const std::__1::string &, bool, double, bool, bool) at File: src/tools/ms/ms_cmpt.cc, line: 798\n",
      "2023-09-18 21:25:58\tSEVERE\tlistobs::::casa\tTask listobs raised an exception of class RuntimeError with the following message: Exception: File: runs/split_ddid_mixedpol_CAS-12283.ms.listobs.txt already exists; delete it, choose another name, or set overwrite=true..\n",
      "2023-09-18 21:25:58\tSEVERE\tlistobs::::casa+\t... thrown by casac::record *casac::ms::summary(bool, const std::__1::string &, bool, double, bool, bool) at File: src/tools/ms/ms_cmpt.cc, line: 798\n"
     ]
    },
    {
     "name": "stdout",
     "output_type": "stream",
     "text": [
      "/Volumes/ssd1/casatestdata/measurementset/evla/refim_mawproject_twopointings.ms is not valid MS\n",
      "/Volumes/ssd1/casatestdata/measurementset/evla/refim_oneshiftpoint.mosaic.ms is not valid MS\n",
      "/Volumes/ssd1/casatestdata/measurementset/evla/refim_sim_hetarray_ngvla.ms is not valid MS\n",
      "/Volumes/ssd1/casatestdata/measurementset/evla/split_ddid_mixedpol_CAS-12283.ms is not valid MS\n",
      "/Volumes/ssd1/casatestdata/measurementset/evla/tdem0003gencal.ms is not valid MS\n",
      "/Volumes/ssd1/casatestdata/measurementset/evla/test-subtables-evla.ms is not valid MS\n",
      "/Volumes/ssd1/casatestdata/measurementset/evla/test_vlass_subset.ms is not valid MS\n",
      "/Volumes/ssd1/casatestdata/measurementset/evla/tosr0001_scan3_noonline.ms is not valid MS\n"
     ]
    },
    {
     "name": "stderr",
     "output_type": "stream",
     "text": [
      "2023-09-18 21:25:58\tSEVERE\tlistobs::ms::summary\tException Reported: Exception: File: runs/tdem0003gencal.ms.listobs.txt already exists; delete it, choose another name, or set overwrite=true..\n",
      "2023-09-18 21:25:58\tSEVERE\tlistobs::ms::summary+\t... thrown by casac::record *casac::ms::summary(bool, const std::__1::string &, bool, double, bool, bool) at File: src/tools/ms/ms_cmpt.cc, line: 798\n",
      "2023-09-18 21:25:58\tSEVERE\tlistobs::::casa\tTask listobs raised an exception of class RuntimeError with the following message: Exception: File: runs/tdem0003gencal.ms.listobs.txt already exists; delete it, choose another name, or set overwrite=true..\n",
      "2023-09-18 21:25:58\tSEVERE\tlistobs::::casa+\t... thrown by casac::record *casac::ms::summary(bool, const std::__1::string &, bool, double, bool, bool) at File: src/tools/ms/ms_cmpt.cc, line: 798\n",
      "2023-09-18 21:25:58\tSEVERE\tlistobs::ms::summary\tException Reported: Exception: File: runs/test-subtables-evla.ms.listobs.txt already exists; delete it, choose another name, or set overwrite=true..\n",
      "2023-09-18 21:25:58\tSEVERE\tlistobs::ms::summary+\t... thrown by casac::record *casac::ms::summary(bool, const std::__1::string &, bool, double, bool, bool) at File: src/tools/ms/ms_cmpt.cc, line: 798\n",
      "2023-09-18 21:25:58\tSEVERE\tlistobs::::casa\tTask listobs raised an exception of class RuntimeError with the following message: Exception: File: runs/test-subtables-evla.ms.listobs.txt already exists; delete it, choose another name, or set overwrite=true..\n",
      "2023-09-18 21:25:58\tSEVERE\tlistobs::::casa+\t... thrown by casac::record *casac::ms::summary(bool, const std::__1::string &, bool, double, bool, bool) at File: src/tools/ms/ms_cmpt.cc, line: 798\n",
      "2023-09-18 21:25:58\tSEVERE\tlistobs::ms::summary\tException Reported: Exception: File: runs/test_vlass_subset.ms.listobs.txt already exists; delete it, choose another name, or set overwrite=true..\n",
      "2023-09-18 21:25:58\tSEVERE\tlistobs::ms::summary+\t... thrown by casac::record *casac::ms::summary(bool, const std::__1::string &, bool, double, bool, bool) at File: src/tools/ms/ms_cmpt.cc, line: 798\n",
      "2023-09-18 21:25:58\tSEVERE\tlistobs::::casa\tTask listobs raised an exception of class RuntimeError with the following message: Exception: File: runs/test_vlass_subset.ms.listobs.txt already exists; delete it, choose another name, or set overwrite=true..\n",
      "2023-09-18 21:25:58\tSEVERE\tlistobs::::casa+\t... thrown by casac::record *casac::ms::summary(bool, const std::__1::string &, bool, double, bool, bool) at File: src/tools/ms/ms_cmpt.cc, line: 798\n",
      "2023-09-18 21:25:58\tSEVERE\tlistobs::ms::summary\tException Reported: Exception: File: runs/tosr0001_scan3_noonline.ms.listobs.txt already exists; delete it, choose another name, or set overwrite=true..\n",
      "2023-09-18 21:25:58\tSEVERE\tlistobs::ms::summary+\t... thrown by casac::record *casac::ms::summary(bool, const std::__1::string &, bool, double, bool, bool) at File: src/tools/ms/ms_cmpt.cc, line: 798\n",
      "2023-09-18 21:25:59\tSEVERE\tlistobs::::casa\tTask listobs raised an exception of class RuntimeError with the following message: Exception: File: runs/tosr0001_scan3_noonline.ms.listobs.txt already exists; delete it, choose another name, or set overwrite=true..\n",
      "2023-09-18 21:25:59\tSEVERE\tlistobs::::casa+\t... thrown by casac::record *casac::ms::summary(bool, const std::__1::string &, bool, double, bool, bool) at File: src/tools/ms/ms_cmpt.cc, line: 798\n"
     ]
    }
   ],
   "source": [
    "for vis in datalist:\n",
    "    visbase = os.path.basename(vis)\n",
    "    try:\n",
    "        listobs(vis,listfile='runs/'+visbase+'.listobs.txt')\n",
    "    except:\n",
    "        print('{} is not valid MS'.format(vis))"
   ]
  },
  {
   "cell_type": "markdown",
   "metadata": {},
   "source": [
    "__Define a function to get some basic information about the data__"
   ]
  },
  {
   "cell_type": "code",
   "execution_count": 32,
   "metadata": {},
   "outputs": [],
   "source": [
    "def getmssummary(vis):\n",
    "    # nspw, nchans, fields, nrows, ncorr\n",
    "    nchans=[]\n",
    "    chan0=[]\n",
    "    nrow=0\n",
    "    nspw=0\n",
    "    fields=[]\n",
    "    nant=0\n",
    "    msname=os.path.basename(vis)\n",
    "    try:\n",
    "        msmd.open(vis)\n",
    "        mssummary = msmd.summary()\n",
    "        nspw = msmd.nspw()\n",
    "        for ispw in range(nspw):\n",
    "            nchans.append(msmd.nchan(ispw))\n",
    "            chan0.append(list(msmd.chanfreqs(ispw,unit='GHz'))[0])\n",
    "        obs = msmd.observatorynames()[0]\n",
    "        fields = list(mssummary['fields'])\n",
    "        nrows = mssummary['nrows']\n",
    "        nant = msmd.nantennas()\n",
    "        msmd.close()\n",
    "        return (obs, nrows, nspw,nchans, chan0, fields, nant)\n",
    "    except:\n",
    "        print(\"%s is not MS. Skip this file\" % vis)\n",
    "        return (0,0,0,0,0,0,0)"
   ]
  },
  {
   "cell_type": "code",
   "execution_count": 33,
   "metadata": {
    "scrolled": false
   },
   "outputs": [],
   "source": [
    "# create lists \n",
    "obsnamelist=[]\n",
    "nrowslist=[]\n",
    "nspwlist=[]\n",
    "nchanlist=[]\n",
    "chan0list=[]\n",
    "fieldslist=[]\n",
    "msnamelist=[]\n",
    "nantlist=[]\n",
    "\n",
    "for vis in datalist:\n",
    "    (obs, nrows, nspw, nchans, chan0, fields, nant) = getmssummary(vis)\n",
    "    if obs:\n",
    "        msname = os.path.basename(vis)\n",
    "        # creat lists\n",
    "        msnamelist.append(msname)\n",
    "        nrowslist.append(nrows)\n",
    "        nspwlist.append(nspw)\n",
    "        nchanlist.append(nchans)\n",
    "        chan0list.append(chan0)\n",
    "        fieldslist.append(fields)\n",
    "        nantlist.append(nant)\n",
    "        #print(msname, nspw, nchans, chan0, fields)"
   ]
  },
  {
   "cell_type": "markdown",
   "metadata": {},
   "source": [
    "__Generate a list of the MS data__"
   ]
  },
  {
   "cell_type": "markdown",
   "metadata": {},
   "source": [
    "Define a function to add a link to the listobs output for each corresponding MS "
   ]
  },
  {
   "cell_type": "code",
   "execution_count": 34,
   "metadata": {
    "scrolled": false
   },
   "outputs": [],
   "source": [
    "def make_clickable(fname):\n",
    "    return f'<a href=\"{fname}\">\"{fname}</a>'"
   ]
  },
  {
   "cell_type": "code",
   "execution_count": 35,
   "metadata": {
    "scrolled": true
   },
   "outputs": [
    {
     "name": "stdout",
     "output_type": "stream",
     "text": [
      "MS data in /Volumes/ssd1/casatestdata/measurementset/evla\n"
     ]
    },
    {
     "data": {
      "text/html": [
       "<table border=\"1\" class=\"dataframe\">\n",
       "  <thead>\n",
       "    <tr style=\"text-align: right;\">\n",
       "      <th></th>\n",
       "      <th>msname</th>\n",
       "      <th>nrows</th>\n",
       "      <th>nspw</th>\n",
       "      <th>nchan</th>\n",
       "      <th>chan0 (GHz)</th>\n",
       "      <th>fields</th>\n",
       "      <th>nant</th>\n",
       "    </tr>\n",
       "  </thead>\n",
       "  <tbody>\n",
       "    <tr>\n",
       "      <th>0</th>\n",
       "      <td><a target=\"_blank\", href=\"runs/3C138Ka.ms.listobs.txt\">3C138Ka.ms</a></td>\n",
       "      <td>6318</td>\n",
       "      <td>1</td>\n",
       "      <td>[10]</td>\n",
       "      <td>[32.06399999999999]</td>\n",
       "      <td>[3C138]</td>\n",
       "      <td>27</td>\n",
       "    </tr>\n",
       "    <tr>\n",
       "      <th>1</th>\n",
       "      <td><a target=\"_blank\", href=\"runs/3C147Ka.ms.listobs.txt\">3C147Ka.ms</a></td>\n",
       "      <td>6318</td>\n",
       "      <td>1</td>\n",
       "      <td>[10]</td>\n",
       "      <td>[32.06399999999999]</td>\n",
       "      <td>[3C147]</td>\n",
       "      <td>27</td>\n",
       "    </tr>\n",
       "    <tr>\n",
       "      <th>2</th>\n",
       "      <td><a target=\"_blank\", href=\"runs/3C286Ka.ms.listobs.txt\">3C286Ka.ms</a></td>\n",
       "      <td>6318</td>\n",
       "      <td>1</td>\n",
       "      <td>[10]</td>\n",
       "      <td>[32.06399999999999]</td>\n",
       "      <td>[3C286]</td>\n",
       "      <td>27</td>\n",
       "    </tr>\n",
       "    <tr>\n",
       "      <th>3</th>\n",
       "      <td><a target=\"_blank\", href=\"runs/3C286_syspower_CAS-11860.ms.listobs.txt\">3C286_syspower_CAS-11860.ms</a></td>\n",
       "      <td>12</td>\n",
       "      <td>4</td>\n",
       "      <td>[2, 2, 2, 2]</td>\n",
       "      <td>[8.575, 8.703, 8.031, 8.415]</td>\n",
       "      <td>[3C286, 3C286, 3C286, J1335+4542, J1335+4542, SN2011DH, J1327+4326]</td>\n",
       "      <td>4</td>\n",
       "    </tr>\n",
       "    <tr>\n",
       "      <th>4</th>\n",
       "      <td><a target=\"_blank\", href=\"runs/3C48Ka.ms.listobs.txt\">3C48Ka.ms</a></td>\n",
       "      <td>6318</td>\n",
       "      <td>1</td>\n",
       "      <td>[10]</td>\n",
       "      <td>[37.447]</td>\n",
       "      <td>[3C48]</td>\n",
       "      <td>27</td>\n",
       "    </tr>\n",
       "    <tr>\n",
       "      <th>5</th>\n",
       "      <td><a target=\"_blank\", href=\"runs/3c391calonly.ms.listobs.txt\">3c391calonly.ms</a></td>\n",
       "      <td>80465</td>\n",
       "      <td>1</td>\n",
       "      <td>[64]</td>\n",
       "      <td>[4.536]</td>\n",
       "      <td>[J1331+3030, J1822-0938, J0319+4130]</td>\n",
       "      <td>26</td>\n",
       "    </tr>\n",
       "    <tr>\n",
       "      <th>6</th>\n",
       "      <td><a target=\"_blank\", href=\"runs/3c84scan1.ms.listobs.txt\">3c84scan1.ms</a></td>\n",
       "      <td>5200</td>\n",
       "      <td>3</td>\n",
       "      <td>[256, 128, 64]</td>\n",
       "      <td>[4.968, 4.968, 4.968]</td>\n",
       "      <td>[3C84]</td>\n",
       "      <td>26</td>\n",
       "    </tr>\n",
       "    <tr>\n",
       "      <th>7</th>\n",
       "      <td><a target=\"_blank\", href=\"runs/A2256LC2_4.5s-1.ms.listobs.txt\">A2256LC2_4.5s-1.ms</a></td>\n",
       "      <td>40132</td>\n",
       "      <td>2</td>\n",
       "      <td>[64, 64]</td>\n",
       "      <td>[1.0, 1.128]</td>\n",
       "      <td>[1331+305=3C286, J1800+7828]</td>\n",
       "      <td>27</td>\n",
       "    </tr>\n",
       "    <tr>\n",
       "      <th>8</th>\n",
       "      <td><a target=\"_blank\", href=\"runs/A2256LC2_4.5s-2.ms.listobs.txt\">A2256LC2_4.5s-2.ms</a></td>\n",
       "      <td>31702</td>\n",
       "      <td>2</td>\n",
       "      <td>[64, 64]</td>\n",
       "      <td>[1.256, 1.384]</td>\n",
       "      <td>[J1634+6245, J1800+7828]</td>\n",
       "      <td>27</td>\n",
       "    </tr>\n",
       "    <tr>\n",
       "      <th>9</th>\n",
       "      <td><a target=\"_blank\", href=\"runs/A2256LC2_4.5s-2b.ms.listobs.txt\">A2256LC2_4.5s-2b.ms</a></td>\n",
       "      <td>31702</td>\n",
       "      <td>2</td>\n",
       "      <td>[64, 64]</td>\n",
       "      <td>[1.256, 1.384]</td>\n",
       "      <td>[J1634+6245, J1800+7828]</td>\n",
       "      <td>27</td>\n",
       "    </tr>\n",
       "    <tr>\n",
       "      <th>10</th>\n",
       "      <td><a target=\"_blank\", href=\"runs/CAS-5172-phase-center.ms.listobs.txt\">CAS-5172-phase-center.ms</a></td>\n",
       "      <td>12638</td>\n",
       "      <td>2</td>\n",
       "      <td>[64, 64]</td>\n",
       "      <td>[36.387229474543986, 36.30454195241706]</td>\n",
       "      <td>[J1008+0730, J1008+0730, J0954+1743, IRC+10216, J1229+0203, J1229+0203, J1331+3030, J1331+3030]</td>\n",
       "      <td>19</td>\n",
       "    </tr>\n",
       "    <tr>\n",
       "      <th>11</th>\n",
       "      <td><a target=\"_blank\", href=\"runs/CAS-6733.ms.listobs.txt\">CAS-6733.ms</a></td>\n",
       "      <td>32</td>\n",
       "      <td>32</td>\n",
       "      <td>[64, 64, 64, 64, 64, 64, 64, 64, 64, 64, 64, 64, 64, 64, 64, 64, 128, 128, 128, 128, 128, 128, 128, 128, 128, 128, 128, 128, 128, 128, 128, 128]</td>\n",
       "      <td>[1.008, 1.072, 1.136, 1.2, 1.264, 1.328, 1.392, 1.456, 1.52, 1.584, 1.648, 1.712, 1.776, 1.84, 1.904, 1.968, 0.224, 0.24, 0.256, 0.272, 0.288, 0.304, 0.32, 0.336, 0.352, 0.368, 0.384, 0.4, 0.416, 0.432, 0.448, 0.464]</td>\n",
       "      <td>[1331+305=3C286, J1911+1611, B1937+21]</td>\n",
       "      <td>25</td>\n",
       "    </tr>\n",
       "    <tr>\n",
       "      <th>12</th>\n",
       "      <td><a target=\"_blank\", href=\"runs/Four_ants_3C286.mms.listobs.txt\">Four_ants_3C286.mms</a></td>\n",
       "      <td>17184</td>\n",
       "      <td>16</td>\n",
       "      <td>[64, 64, 64, 64, 64, 64, 64, 64, 64, 64, 64, 64, 64, 64, 64, 64]</td>\n",
       "      <td>[1.636, 1.7, 1.764, 1.828, 1.892, 1.956, 2.02, 2.084, 0.945, 1.009, 1.073, 1.137, 1.265, 1.329, 1.393, 1.457]</td>\n",
       "      <td>[3C286_A, 3C286_A]</td>\n",
       "      <td>4</td>\n",
       "    </tr>\n",
       "    <tr>\n",
       "      <th>13</th>\n",
       "      <td><a target=\"_blank\", href=\"runs/Four_ants_3C286.ms.listobs.txt\">Four_ants_3C286.ms</a></td>\n",
       "      <td>17184</td>\n",
       "      <td>16</td>\n",
       "      <td>[64, 64, 64, 64, 64, 64, 64, 64, 64, 64, 64, 64, 64, 64, 64, 64]</td>\n",
       "      <td>[1.636, 1.7, 1.764, 1.828, 1.892, 1.956, 2.02, 2.084, 0.945, 1.009, 1.073, 1.137, 1.265, 1.329, 1.393, 1.457]</td>\n",
       "      <td>[3C286_A, 3C286_A]</td>\n",
       "      <td>4</td>\n",
       "    </tr>\n",
       "    <tr>\n",
       "      <th>14</th>\n",
       "      <td><a target=\"_blank\", href=\"runs/Four_ants_3C286_spw9_small_for_preaveraging.ms.listobs.txt\">Four_ants_3C286_spw9_small_for_preaveraging.ms</a></td>\n",
       "      <td>4</td>\n",
       "      <td>1</td>\n",
       "      <td>[64]</td>\n",
       "      <td>[1.009]</td>\n",
       "      <td>[3C286_A, 3C286_A]</td>\n",
       "      <td>2</td>\n",
       "    </tr>\n",
       "    <tr>\n",
       "      <th>15</th>\n",
       "      <td><a target=\"_blank\", href=\"runs/Four_ants_3C286_spw9_small_for_timeavg.ms.listobs.txt\">Four_ants_3C286_spw9_small_for_timeavg.ms</a></td>\n",
       "      <td>100</td>\n",
       "      <td>1</td>\n",
       "      <td>[64]</td>\n",
       "      <td>[1.009]</td>\n",
       "      <td>[3C286_A, 3C286_A]</td>\n",
       "      <td>2</td>\n",
       "    </tr>\n",
       "    <tr>\n",
       "      <th>16</th>\n",
       "      <td><a target=\"_blank\", href=\"runs/TwoSpw.ms.listobs.txt\">TwoSpw.ms</a></td>\n",
       "      <td>2730</td>\n",
       "      <td>5</td>\n",
       "      <td>[4096, 512, 1024, 1024, 1024]</td>\n",
       "      <td>[0.054, 0.024, 0.152, 0.28, 0.408]</td>\n",
       "      <td>[1331+305=3C286, 3C286, VirA, GOODSN, CygA, blankCyg]</td>\n",
       "      <td>4</td>\n",
       "    </tr>\n",
       "    <tr>\n",
       "      <th>17</th>\n",
       "      <td><a target=\"_blank\", href=\"runs/as1039q4_ut.ms.listobs.txt\">as1039q4_ut.ms</a></td>\n",
       "      <td>9000</td>\n",
       "      <td>6</td>\n",
       "      <td>[64, 64, 64, 64, 64, 64]</td>\n",
       "      <td>[44.936, 40.936, 24.936, 18.936, 8.332, 8.46]</td>\n",
       "      <td>[J2137+5101]</td>\n",
       "      <td>26</td>\n",
       "    </tr>\n",
       "    <tr>\n",
       "      <th>18</th>\n",
       "      <td><a target=\"_blank\", href=\"runs/auto_antposcorr_evla_gencal.ms.listobs.txt\">auto_antposcorr_evla_gencal.ms</a></td>\n",
       "      <td>40014</td>\n",
       "      <td>2</td>\n",
       "      <td>[64, 64]</td>\n",
       "      <td>[8.248, 8.276]</td>\n",
       "      <td>[3C345]</td>\n",
       "      <td>27</td>\n",
       "    </tr>\n",
       "    <tr>\n",
       "      <th>19</th>\n",
       "      <td><a target=\"_blank\", href=\"runs/bogusCDSP.ms.listobs.txt\">bogusCDSP.ms</a></td>\n",
       "      <td>9</td>\n",
       "      <td>3</td>\n",
       "      <td>[2, 2, 2]</td>\n",
       "      <td>[8.703, 8.031, 8.415]</td>\n",
       "      <td>[3C286, 3C286, 3C286, J1335+4542, J1335+4542, SN2011DH, J1327+4326]</td>\n",
       "      <td>3</td>\n",
       "    </tr>\n",
       "    <tr>\n",
       "      <th>20</th>\n",
       "      <td><a target=\"_blank\", href=\"runs/combine-1-timestamp-2-SPW-no-WEIGHT_SPECTRUM-Same-Exposure.ms.listobs.txt\">combine-1-timestamp-2-SPW-no-WEIGHT_SPECTRUM-Same-Exposure.ms</a></td>\n",
       "      <td>2</td>\n",
       "      <td>2</td>\n",
       "      <td>[31, 31]</td>\n",
       "      <td>[22.1074365725, 22.1121015925]</td>\n",
       "      <td>[12018-18]</td>\n",
       "      <td>29</td>\n",
       "    </tr>\n",
       "    <tr>\n",
       "      <th>21</th>\n",
       "      <td><a target=\"_blank\", href=\"runs/doppler01fine-01.ms.listobs.txt\">doppler01fine-01.ms</a></td>\n",
       "      <td>3544</td>\n",
       "      <td>10</td>\n",
       "      <td>[4, 4, 4, 4, 4, 4, 4, 4, 4, 4]</td>\n",
       "      <td>[6.035279186360082, 6.035276166725078, 6.035278179815081, 6.035277173270079, 6.035275160180078, 6.0352731470900745, 6.035271134000071, 6.035269120910071, 6.035267107820066, 6.0352389245600335]</td>\n",
       "      <td>[J1642+3948, J1642+3948, ON1-OHmaser]</td>\n",
       "      <td>2</td>\n",
       "    </tr>\n",
       "    <tr>\n",
       "      <th>22</th>\n",
       "      <td><a target=\"_blank\", href=\"runs/evla-highres-sample-thinned.ms.listobs.txt\">evla-highres-sample-thinned.ms</a></td>\n",
       "      <td>16920</td>\n",
       "      <td>2</td>\n",
       "      <td>[256, 256]</td>\n",
       "      <td>[6.035270489385393, 6.035269482840391]</td>\n",
       "      <td>[J1642+3948, J1642+3948, ON1-OHmaser]</td>\n",
       "      <td>27</td>\n",
       "    </tr>\n",
       "    <tr>\n",
       "      <th>23</th>\n",
       "      <td><a target=\"_blank\", href=\"runs/evla-highres-sample.ms.listobs.txt\">evla-highres-sample.ms</a></td>\n",
       "      <td>42120</td>\n",
       "      <td>2</td>\n",
       "      <td>[256, 256]</td>\n",
       "      <td>[6.035270489385393, 6.035269482840391]</td>\n",
       "      <td>[J1642+3948, J1642+3948, ON1-OHmaser]</td>\n",
       "      <td>27</td>\n",
       "    </tr>\n",
       "    <tr>\n",
       "      <th>24</th>\n",
       "      <td><a target=\"_blank\", href=\"runs/evla_15A-397_spw1_7_scan_4_6.ms.listobs.txt\">evla_15A-397_spw1_7_scan_4_6.ms</a></td>\n",
       "      <td>232050</td>\n",
       "      <td>2</td>\n",
       "      <td>[64, 64]</td>\n",
       "      <td>[1.622, 1.378]</td>\n",
       "      <td>[J0542+4951, J0738+1742, J0842+1835]</td>\n",
       "      <td>26</td>\n",
       "    </tr>\n",
       "    <tr>\n",
       "      <th>25</th>\n",
       "      <td><a target=\"_blank\", href=\"runs/pFourantsMix.mms.listobs.txt\">pFourantsMix.mms</a></td>\n",
       "      <td>17184</td>\n",
       "      <td>16</td>\n",
       "      <td>[64, 64, 64, 64, 64, 64, 64, 64, 64, 64, 64, 64, 64, 64, 64, 64]</td>\n",
       "      <td>[1.636, 1.7, 1.764, 1.828, 1.892, 1.956, 2.02, 2.084, 0.945, 1.009, 1.073, 1.137, 1.265, 1.329, 1.393, 1.457]</td>\n",
       "      <td>[3C286_A, 3C286_A]</td>\n",
       "      <td>4</td>\n",
       "    </tr>\n",
       "    <tr>\n",
       "      <th>26</th>\n",
       "      <td><a target=\"_blank\", href=\"runs/pFourantsScan.mms.listobs.txt\">pFourantsScan.mms</a></td>\n",
       "      <td>17184</td>\n",
       "      <td>16</td>\n",
       "      <td>[64, 64, 64, 64, 64, 64, 64, 64, 64, 64, 64, 64, 64, 64, 64, 64]</td>\n",
       "      <td>[1.636, 1.7, 1.764, 1.828, 1.892, 1.956, 2.02, 2.084, 0.945, 1.009, 1.073, 1.137, 1.265, 1.329, 1.393, 1.457]</td>\n",
       "      <td>[3C286_A, 3C286_A]</td>\n",
       "      <td>4</td>\n",
       "    </tr>\n",
       "    <tr>\n",
       "      <th>27</th>\n",
       "      <td><a target=\"_blank\", href=\"runs/pFourantsSpw.mms.listobs.txt\">pFourantsSpw.mms</a></td>\n",
       "      <td>17184</td>\n",
       "      <td>16</td>\n",
       "      <td>[64, 64, 64, 64, 64, 64, 64, 64, 64, 64, 64, 64, 64, 64, 64, 64]</td>\n",
       "      <td>[1.636, 1.7, 1.764, 1.828, 1.892, 1.956, 2.02, 2.084, 0.945, 1.009, 1.073, 1.137, 1.265, 1.329, 1.393, 1.457]</td>\n",
       "      <td>[3C286_A, 3C286_A]</td>\n",
       "      <td>4</td>\n",
       "    </tr>\n",
       "    <tr>\n",
       "      <th>28</th>\n",
       "      <td><a target=\"_blank\", href=\"runs/papersky_mosaic.ms.listobs.txt\">papersky_mosaic.ms</a></td>\n",
       "      <td>157950</td>\n",
       "      <td>1</td>\n",
       "      <td>[3]</td>\n",
       "      <td>[0.9999999999999999]</td>\n",
       "      <td>[fake0, fake1, fake2, fake3, fake4, fake5, fake6, fake7, fake8, fake9, fake10, fake11, fake12, fake13, fake14, fake15, fake16, fake17, fake18, fake19, fake20, fake21, fake22, fake23, fake24]</td>\n",
       "      <td>27</td>\n",
       "    </tr>\n",
       "    <tr>\n",
       "      <th>29</th>\n",
       "      <td><a target=\"_blank\", href=\"runs/papersky_standard.ms.listobs.txt\">papersky_standard.ms</a></td>\n",
       "      <td>6318</td>\n",
       "      <td>1</td>\n",
       "      <td>[3]</td>\n",
       "      <td>[0.9999999999999999]</td>\n",
       "      <td>[fake0]</td>\n",
       "      <td>27</td>\n",
       "    </tr>\n",
       "    <tr>\n",
       "      <th>30</th>\n",
       "      <td><a target=\"_blank\", href=\"runs/refim_Cband.G37line.ms.listobs.txt\">refim_Cband.G37line.ms</a></td>\n",
       "      <td>31590</td>\n",
       "      <td>1</td>\n",
       "      <td>[256]</td>\n",
       "      <td>[6.66730667048903]</td>\n",
       "      <td>[J1851+0035, G37.40+1.52 FC, 0137+331=3C48]</td>\n",
       "      <td>27</td>\n",
       "    </tr>\n",
       "    <tr>\n",
       "      <th>31</th>\n",
       "      <td><a target=\"_blank\", href=\"runs/refim_eptwochan.ms.listobs.txt\">refim_eptwochan.ms</a></td>\n",
       "      <td>168480</td>\n",
       "      <td>1</td>\n",
       "      <td>[3]</td>\n",
       "      <td>[0.9999999999999999]</td>\n",
       "      <td>[fake]</td>\n",
       "      <td>27</td>\n",
       "    </tr>\n",
       "    <tr>\n",
       "      <th>32</th>\n",
       "      <td><a target=\"_blank\", href=\"runs/refim_heterogeneous_pointings.ms.listobs.txt\">refim_heterogeneous_pointings.ms</a></td>\n",
       "      <td>2106</td>\n",
       "      <td>3</td>\n",
       "      <td>[1, 1, 1]</td>\n",
       "      <td>[1.9999999999999998, 2.5, 3.0]</td>\n",
       "      <td>[fake]</td>\n",
       "      <td>27</td>\n",
       "    </tr>\n",
       "    <tr>\n",
       "      <th>33</th>\n",
       "      <td><a target=\"_blank\", href=\"runs/refim_mawproject.ms.listobs.txt\">refim_mawproject.ms</a></td>\n",
       "      <td>13608</td>\n",
       "      <td>3</td>\n",
       "      <td>[1, 1, 1]</td>\n",
       "      <td>[1.2, 1.5, 1.8]</td>\n",
       "      <td>[fake0, fake1]</td>\n",
       "      <td>7</td>\n",
       "    </tr>\n",
       "    <tr>\n",
       "      <th>34</th>\n",
       "      <td><a target=\"_blank\", href=\"runs/refim_mawproject_offcenter.ms.listobs.txt\">refim_mawproject_offcenter.ms</a></td>\n",
       "      <td>13608</td>\n",
       "      <td>3</td>\n",
       "      <td>[1, 1, 1]</td>\n",
       "      <td>[1.2, 1.5, 1.8]</td>\n",
       "      <td>[fake0, fake1]</td>\n",
       "      <td>7</td>\n",
       "    </tr>\n",
       "    <tr>\n",
       "      <th>35</th>\n",
       "      <td><a target=\"_blank\", href=\"runs/refim_mawproject_twopointings.ms.listobs.txt\">refim_mawproject_twopointings.ms</a></td>\n",
       "      <td>13608</td>\n",
       "      <td>1</td>\n",
       "      <td>[3]</td>\n",
       "      <td>[1.2]</td>\n",
       "      <td>[fake0, fake1]</td>\n",
       "      <td>7</td>\n",
       "    </tr>\n",
       "    <tr>\n",
       "      <th>36</th>\n",
       "      <td><a target=\"_blank\", href=\"runs/refim_oneshiftpoint.mosaic.ms.listobs.txt\">refim_oneshiftpoint.mosaic.ms</a></td>\n",
       "      <td>25272</td>\n",
       "      <td>3</td>\n",
       "      <td>[1, 1, 1]</td>\n",
       "      <td>[1.2, 1.5, 1.8]</td>\n",
       "      <td>[fake0, fake1]</td>\n",
       "      <td>27</td>\n",
       "    </tr>\n",
       "    <tr>\n",
       "      <th>37</th>\n",
       "      <td><a target=\"_blank\", href=\"runs/refim_sim_hetarray_ngvla.ms.listobs.txt\">refim_sim_hetarray_ngvla.ms</a></td>\n",
       "      <td>1188</td>\n",
       "      <td>1</td>\n",
       "      <td>[5]</td>\n",
       "      <td>[40.0]</td>\n",
       "      <td>[fake1, fake2]</td>\n",
       "      <td>12</td>\n",
       "    </tr>\n",
       "    <tr>\n",
       "      <th>38</th>\n",
       "      <td><a target=\"_blank\", href=\"runs/split_ddid_mixedpol_CAS-12283.ms.listobs.txt\">split_ddid_mixedpol_CAS-12283.ms</a></td>\n",
       "      <td>1550</td>\n",
       "      <td>64</td>\n",
       "      <td>[64, 64, 512, 64, 1024, 512, 64, 512, 512, 64, 512, 256, 512, 256, 512, 512, 512, 512, 256, 64, 64, 256, 256, 64, 64, 512, 512, 64, 512, 64, 256, 64, 256, 512, 64, 64, 256, 64, 256, 64, 64, 256, 64, 64, 64, 64, 64, 1024, 64, 2048, 256, 64, 64, 64, 64, 64, 64, 64, 64, 64, 64, 64, 256, 64]</td>\n",
       "      <td>[8.332, 8.46, 24.52719232360862, 24.84157914960862, 24.92361852060862, 24.95322499760862, 24.96957914960862, 25.01225687360862, 25.05015665860862, 25.09757914960862, 25.11899218560862, 25.28425944360862, 25.28851885760862, 25.38690531860862, 25.53546487560862, 25.70922296460862, 25.87228852460862, 26.30707869360862, 22.95991882644836, 23.27344869744836, 23.40144869744836, 23.408477100448362, 23.40979691844836, 23.52944869744836, 23.65744869744836, 23.68868404144836, 23.71681796944836, 23.78544869744836, 23.86429357544836, 23.91344869744836, 23.958052173448362, 24.04144869744836, 24.07761502044836, 24.13354362344836, 21.01934094959065, 21.14734094959065, 21.20185299159065, 21.27534094959065, 21.29567148159065, 21.40334094959065, 21.53134094959065, 21.581771711590648, 21.65934094959065, 21.78734094959065, 21.91534094959065, 22.04334094959065, 22.17134094959065, 22.22536159659065, 22.299340949590647, 22.338297405590648, 18.63327229367807, 18.75322040467807, 18.88122040467807, 19.00922040467807, 19.26522040467807, 19.393220404678072, 19.52122040467807, 19.64922040467807, 19.90522040467807, 20.03322040467807, 20.16122040467807, 20.28922040467807, 20.32983242967807, 20.41722040467807]</td>\n",
       "      <td>[NGC1333IRAS4A]</td>\n",
       "      <td>26</td>\n",
       "    </tr>\n",
       "    <tr>\n",
       "      <th>39</th>\n",
       "      <td><a target=\"_blank\", href=\"runs/tdem0003gencal.ms.listobs.txt\">tdem0003gencal.ms</a></td>\n",
       "      <td>27992</td>\n",
       "      <td>2</td>\n",
       "      <td>[64, 64]</td>\n",
       "      <td>[36.387229474543986, 36.30454195241706]</td>\n",
       "      <td>[J1008+0730, J1008+0730, J0954+1743, IRC+10216, J1229+0203, J1229+0203, J1331+3030, J1331+3030]</td>\n",
       "      <td>19</td>\n",
       "    </tr>\n",
       "    <tr>\n",
       "      <th>40</th>\n",
       "      <td><a target=\"_blank\", href=\"runs/test-subtables-evla.ms.listobs.txt\">test-subtables-evla.ms</a></td>\n",
       "      <td>702</td>\n",
       "      <td>2</td>\n",
       "      <td>[64, 64]</td>\n",
       "      <td>[1.264, 1.392]</td>\n",
       "      <td>[J0319+4130]</td>\n",
       "      <td>27</td>\n",
       "    </tr>\n",
       "    <tr>\n",
       "      <th>41</th>\n",
       "      <td><a target=\"_blank\", href=\"runs/test_vlass_subset.ms.listobs.txt\">test_vlass_subset.ms</a></td>\n",
       "      <td>1956</td>\n",
       "      <td>3</td>\n",
       "      <td>[16, 16, 16]</td>\n",
       "      <td>[1.968, 2.096, 2.224]</td>\n",
       "      <td>[1232080+635024, 1231411+635024, 1231141+635024, 1230471+635024, 1230202+635024, 1229532+635024, 1229262+635024, 1228593+635024, 1228323+635024, 1228053+635024, 1227384+635024, 1227114+635024, 1226444+635024, 1226175+635024, 1225505+635024, 1225235+635024, 1224566+635024, 1224379+635736, 1225050+635736, 1225322+635736, 1225593+635736, 1226264+635736, 1226535+635736, 1227206+635736, 1227477+635736, 1228149+635736, 1228420+635736, 1229091+635736, 1229362+635736, 1230033+635736, 1230305+635736, 1230576+635736, 1231247+635736, 1231518+635736, 1232027+640448, 1231354+640448, 1231081+640448, 1230409+640448, 1230136+640448, 1229463+640448, 1229190+640448, 1228518+640448, 1228245+640448, 1227572+640448, 1227299+640448, 1227027+640448, 1226354+640448, 1226081+640448, 1225409+640448, 1225136+640448, 1224463+640448, 1231462+641200, 1231188+641200, 1230514+641200, 1230239+641200, 1229565+641200, 1229291+641200, 1229017+641200, 1228342+641200, 1228068+641200, 1227394+641200, 1227119+641200, 1226445+641200, 1226171+641200, 1225497+641200, 1225222+641200, 1224548+641200, 1224274+641200, 1224548+641912, 1225222+641912, 1225497+641912, 1226171+641912, 1226445+641912, 1227119+641912, 1227394+641912, 1228068+641912, 1228342+641912, 1229017+641912, 1229291+641912, 1229565+641912, 1230239+641912, 1230514+641912, 1231188+641912, 1231462+641912, 1232137+641912]</td>\n",
       "      <td>4</td>\n",
       "    </tr>\n",
       "    <tr>\n",
       "      <th>42</th>\n",
       "      <td><a target=\"_blank\", href=\"runs/tosr0001_scan3_noonline.ms.listobs.txt\">tosr0001_scan3_noonline.ms</a></td>\n",
       "      <td>3250</td>\n",
       "      <td>8</td>\n",
       "      <td>[64, 64, 64, 64, 1, 1, 1, 1]</td>\n",
       "      <td>[46.936, 46.936, 4.96, 5.088, 47.0, 47.0, 5.024, 5.152]</td>\n",
       "      <td>[J1800+7828, J1800+7828]</td>\n",
       "      <td>26</td>\n",
       "    </tr>\n",
       "  </tbody>\n",
       "</table>"
      ],
      "text/plain": [
       "<IPython.core.display.HTML object>"
      ]
     },
     "execution_count": 35,
     "metadata": {},
     "output_type": "execute_result"
    }
   ],
   "source": [
    "import pandas as pd\n",
    "from IPython.display import HTML \n",
    "df = pd.DataFrame({'msname':msnamelist,'nrows':nrowslist, 'nspw':nspwlist,'nchan':nchanlist,'chan0 (GHz)':chan0list,'fields':fieldslist,'nant':nantlist} )\n",
    "pd.set_option('display.max_rows', df.shape[0]+1)\n",
    "pd.set_option('display.max_colwidth',None)\n",
    "#df.style.format({\"msname\":make_clickable})\n",
    "df['msname'] = df['msname'].apply(lambda x: f'<a target=\"_blank\", href=\"runs/{x}.listobs.txt\">{x}</a>')\n",
    "#display(df)\n",
    "print(\"MS data in {}\".format(datadir+menu.value))\n",
    "htmlcontent = df.to_html(escape=False)\n",
    "HTML(htmlcontent)\n",
    "#df['msname']"
   ]
  },
  {
   "cell_type": "code",
   "execution_count": 38,
   "metadata": {},
   "outputs": [],
   "source": [
    "# also save the html to a file and archive with the listobs results to a tarball\n",
    "import tarfile\n",
    "htmlfname = f'testmsdata_list_{menu.value}.html'\n",
    "tarfname = f'{htmlfile}.tgz'\n",
    "if os.path.exists(tarfname):\n",
    "    os.remove(tarfname)\n",
    "with open(htmlfname, 'w') as f:\n",
    "    f.write(htmlcontent)\n",
    "with tarfile.open(tarfname, 'x:gz') as tar:\n",
    "    tar.add(htmlfname)\n",
    "    tar.add(f'{menu.value}_runs')"
   ]
  },
  {
   "cell_type": "code",
   "execution_count": 39,
   "metadata": {},
   "outputs": [
    {
     "name": "stdout",
     "output_type": "stream",
     "text": [
      "README.md                      \u001b[34mruns\u001b[m\u001b[m/\r\n",
      "casa-20230918-211934.log       testmsdata_list_evla.html\r\n",
      "\u001b[34mevla_runs\u001b[m\u001b[m/                     testmsdata_list_evla.html.tgz\r\n",
      "list_testmsdata.ipynb\r\n"
     ]
    }
   ],
   "source": [
    "ls\n"
   ]
  },
  {
   "cell_type": "code",
   "execution_count": null,
   "metadata": {},
   "outputs": [],
   "source": []
  }
 ],
 "metadata": {
  "kernelspec": {
   "display_name": "Python 3 (ipykernel)",
   "language": "python",
   "name": "python3"
  },
  "language_info": {
   "codemirror_mode": {
    "name": "ipython",
    "version": 3
   },
   "file_extension": ".py",
   "mimetype": "text/x-python",
   "name": "python",
   "nbconvert_exporter": "python",
   "pygments_lexer": "ipython3",
   "version": "3.8.16"
  }
 },
 "nbformat": 4,
 "nbformat_minor": 4
}
