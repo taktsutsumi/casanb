{
 "cells": [
  {
   "cell_type": "markdown",
   "id": "5b2ac810-f96d-41fe-872b-38b83c56c873",
   "metadata": {},
   "source": [
    "### Comparison of the position of an ephemeris object with astropy "
   ]
  },
  {
   "cell_type": "markdown",
   "id": "8fb13b81-98a2-4a0e-8af8-6d4602355fdc",
   "metadata": {
    "tags": []
   },
   "source": [
    "Note: jplephem module - default is DE430 while current JPL-Horizons query is based on DE440s.\n",
    "casacore measures: DE200 and DE405\n",
    "\n",
    "(from ssd.pl.nasa.gov/planets/eph_export.html)\n",
    "### DE200\n",
    "    Created September 1981; includes nutations but no librations.\n",
    "    Referred to the dynamical equator and equinox of 2000.\n",
    "    Covers JED 2305424.5 (1599 DEC 09)  to  JED 2513360.5 (2169 MAR 31).\n",
    "  \n",
    "### DE405\n",
    "    Created May 1997; includes both nutations and librations.\n",
    "    Referred to the International Celestial Reference Frame.\n",
    "    Covers JED 2305424.50  (1599 DEC 09)  to  JED 2525008.50  (2201 FEB 20).\n",
    "    \n",
    "### DE430\n",
    "    Created April 2013; includes librations and 1980 nutation.\n",
    "    Referred to the International Celestial Reference Frame version 2.0.\n",
    "    Covers JED 2287184.5, (1549 DEC 21) to JED 2688976.5, (2650 JAN 25).\n",
    "    \n",
    "### DE440\n",
    "    Created June 2020; compared to DE430, about 7 years of new data have\n",
    "    been added.\n",
    "    Referred to the International Celestial Reference Frame version 3.0.\n",
    "    Covers JED 2287184.5, (1549 DEC 31) to JED 2688976.5, (2650 JAN 25).\n"
   ]
  },
  {
   "cell_type": "code",
   "execution_count": 36,
   "id": "8f94df8b-f164-44f2-b995-2c208c91697d",
   "metadata": {
    "tags": []
   },
   "outputs": [],
   "source": [
    "from astropy.time import Time\n",
    "from astropy.coordinates import solar_system_ephemeris, EarthLocation\n",
    "from astropy.coordinates import get_body_barycentric, get_body, SkyCoord\n",
    "import astropy.units as u\n",
    "import shutil\n",
    "from casatools import table, quanta\n",
    "tb = table()\n",
    "qa = quanta()"
   ]
  },
  {
   "cell_type": "code",
   "execution_count": 37,
   "id": "8b6e17df-c16e-4b9d-a367-cf9f6feaeb43",
   "metadata": {
    "tags": []
   },
   "outputs": [],
   "source": [
    "#!pip install ipynb\n",
    "# import helper functions defined in 'Trackfield' mfs mosaic notebook\n",
    "from ipynb.fs.defs.ephemimagingVenusMfsMosaicTrackfield import *"
   ]
  },
  {
   "cell_type": "code",
   "execution_count": 38,
   "id": "ddb60631-da98-4a43-93bc-3db6914ce279",
   "metadata": {},
   "outputs": [],
   "source": [
    "def ephem_dir_noazelgeo(ephemtab, refep, observatory):\n",
    "    from casatools import measures\n",
    "    _me = measures()\n",
    "    _me.framecomet(ephemtab)\n",
    "    _me.doframe(_me.observatory(observatory))\n",
    "    _me.doframe(_me.epoch('utc',refep))\n",
    "    return _me.measure(_me.direction('COMET'), 'ICRS')\n",
    "    "
   ]
  },
  {
   "cell_type": "code",
   "execution_count": 39,
   "id": "fdc377f8-217e-46fb-bf6c-aca3b5a6b135",
   "metadata": {},
   "outputs": [
    {
     "name": "stdout",
     "output_type": "stream",
     "text": [
      "2019/01/08/11:21:50.208000\n"
     ]
    }
   ],
   "source": [
    "# venus_ephem_test.ms mosaic\n",
    "# obs_date - 2019/01/08/11:21:50.208000\\n\",\n",
    "from casatasks import imhead\n",
    "imgname = 'mosaic-mfs-trackfield-venus'\n",
    "iminfo = imhead(imgname+'.image',mode='list')\n",
    "print(iminfo['date-obs'])"
   ]
  },
  {
   "cell_type": "code",
   "execution_count": 42,
   "id": "b27e52de-f011-4049-b660-3d06af0f32b1",
   "metadata": {},
   "outputs": [],
   "source": [
    "interval = '20m'\n",
    "# modify a larger time span that convers the observation to be safe\n",
    "timerange='MJD 58491.0~58492.0'\n",
    "if os.path.exists('Venus_JPL-Horizons_MJD58491.4.tab'):\n",
    "    shutil.rmtree('Venus_JPL-Horizons_MJD58491.4.tab')\n",
    "if os.path.exists('ICRS_Venus_JPL-Horizons_MJD58491.4.tab'):\n",
    "    shutil.rmtree('ICRS_Venus_JPL-Horizons_MJD58491.4.tab')\n",
    "getephemtable(objectname='Venus', timerange=timerange, interval=interval, \n",
    "              outfile='Venus_JPL-Horizons_MJD58491.4.tab', overwrite=True)"
   ]
  },
  {
   "cell_type": "code",
   "execution_count": 43,
   "id": "a0ecb9e2-6bc3-4cc5-9971-56059cc0fb2c",
   "metadata": {},
   "outputs": [
    {
     "name": "stdout",
     "output_type": "stream",
     "text": [
      "ICRS\n"
     ]
    },
    {
     "data": {
      "text/plain": [
       "True"
      ]
     },
     "execution_count": 43,
     "metadata": {},
     "output_type": "execute_result"
    }
   ],
   "source": [
    "# fix posrefsys\n",
    "shutil.copytree('Venus_JPL-Horizons_MJD58491.4.tab','ICRS_Venus_JPL-Horizons_MJD58491.4.tab')\n",
    "tb.open('ICRS_Venus_JPL-Horizons_MJD58491.4.tab', nomodify=False)\n",
    "tb.putkeyword('posrefsys','ICRS')\n",
    "tb.done()\n",
    "tb.open('ICRS_Venus_JPL-Horizons_MJD58491.4.tab')\n",
    "print(tb.getkeyword('posrefsys'))\n",
    "tb.done()"
   ]
  },
  {
   "cell_type": "code",
   "execution_count": 44,
   "id": "85cd4602-b135-46ef-bf52-6ac9bef0207b",
   "metadata": {},
   "outputs": [],
   "source": [
    "#reformat time for astropy\n",
    "t = Time('2019-01-08 11:21:50.208000')"
   ]
  },
  {
   "cell_type": "code",
   "execution_count": 45,
   "id": "ad4ed735-3dfe-4061-b3c1-ebcddeb96019",
   "metadata": {},
   "outputs": [
    {
     "name": "stdout",
     "output_type": "stream",
     "text": [
      "(2225015.30883296, -5440016.41799762, -2481631.27428014) m\n"
     ]
    }
   ],
   "source": [
    "loc = EarthLocation.of_site('ALMA')\n",
    "print(loc)"
   ]
  },
  {
   "cell_type": "code",
   "execution_count": 46,
   "id": "eb79533a-a3d0-48df-9f95-1349dce74b34",
   "metadata": {},
   "outputs": [
    {
     "name": "stdout",
     "output_type": "stream",
     "text": [
      "<SkyCoord (GCRS: obstime=2019-01-08 11:21:50.208, obsgeoloc=(-5084912.7155837, -2955268.71328523, -2472451.221214) m, obsgeovel=(215.50599003, -370.46896024, -0.40195799) m / s): (ra, dec, distance) in (deg, deg, AU)\n",
      "    (239.3651525, -16.96338202, 0.69134182)>\n"
     ]
    }
   ],
   "source": [
    "with solar_system_ephemeris.set('builtin'):\n",
    "    astropy_venus = get_body('venus', t, loc)\n",
    "print(astropy_venus)"
   ]
  },
  {
   "cell_type": "code",
   "execution_count": 49,
   "id": "a1bb53fb-acf7-40bc-9ac6-394dc5cb2a6f",
   "metadata": {},
   "outputs": [],
   "source": [
    "extephemtabpath='./ICRS_Venus_JPL-Horizons_MJD58491.4.tab'\n",
    "intephemtabpath = './venus_ephem_test.ms/FIELD/EPHEM0_Venus_58491.4.tab'\n"
   ]
  },
  {
   "cell_type": "code",
   "execution_count": 53,
   "id": "1f876a6b-3046-4d60-8491-9129517d3cb4",
   "metadata": {},
   "outputs": [],
   "source": [
    "# find the direction of Venus at reftm\\n\",\n",
    "exteph_dir = ephem_dir_noazelgeo(extephemtabpath, iminfo['date-obs'], 'ALMA')\n",
    "inteph_dir = ephem_dir_noazelgeo(intephemtabpath, iminfo['date-obs'], 'ALMA')"
   ]
  },
  {
   "cell_type": "code",
   "execution_count": 54,
   "id": "69bc2d77-31d0-4d55-a941-4b7451df9264",
   "metadata": {},
   "outputs": [
    {
     "name": "stdout",
     "output_type": "stream",
     "text": [
      "internal ephem: 15:57:28.347 -016.57.51.787\n",
      "external ephem: 15:57:27.953 -016.57.53.509\n",
      "astropy(builtin): 15:57:27.637 -016.57.48.175\n"
     ]
    }
   ],
   "source": [
    "print('internal ephem:',qa.time(inteph_dir['m0'],prec=9)[0],qa.angle(inteph_dir['m1'],prec=9)[0])\n",
    "print('external ephem:',qa.time(exteph_dir['m0'],prec=9)[0],qa.angle(exteph_dir['m1'],prec=9)[0])\n",
    "\n",
    "print('astropy(builtin):',qa.time(qa.quantity(astropy_venus.ra.deg, 'deg'), prec=9)[0], qa.angle(qa.quantity(astropy_venus.dec.deg, 'deg'), prec=9)[0])"
   ]
  },
  {
   "cell_type": "code",
   "execution_count": 55,
   "id": "426aca34-550b-48ec-8b16-12a2eca67e34",
   "metadata": {},
   "outputs": [
    {
     "data": {
      "text/plain": [
       "<ScienceState solar_system_ephemeris: 'jpl'>"
      ]
     },
     "execution_count": 55,
     "metadata": {},
     "output_type": "execute_result"
    }
   ],
   "source": [
    "solar_system_ephemeris.set('jpl') \n"
   ]
  },
  {
   "cell_type": "code",
   "execution_count": 56,
   "id": "895e85d5-026d-4340-9df1-cb4cff151c95",
   "metadata": {},
   "outputs": [],
   "source": [
    "de440_venus = get_body('venus', t, loc, ephemeris='de440')"
   ]
  },
  {
   "cell_type": "code",
   "execution_count": 58,
   "id": "104730ff-adfa-41f8-b443-ab9157506992",
   "metadata": {},
   "outputs": [
    {
     "name": "stdout",
     "output_type": "stream",
     "text": [
      "astropy(de440): 15:57:27.564 -016.57.47.299\n"
     ]
    }
   ],
   "source": [
    "print('astropy(de440):',qa.time(qa.quantity(de440_venus.ra.deg, 'deg'), prec=9)[0], qa.angle(qa.quantity(de440_venus.dec.deg, 'deg'), prec=9)[0])"
   ]
  },
  {
   "cell_type": "code",
   "execution_count": 59,
   "id": "ad520087-307a-4ce4-b6dc-85a873d24268",
   "metadata": {},
   "outputs": [
    {
     "data": {
      "text/plain": [
       "'/Users/ttsutsum/SWDevel/VSCodeCasa/ephemimscripts'"
      ]
     },
     "execution_count": 59,
     "metadata": {},
     "output_type": "execute_result"
    }
   ],
   "source": [
    "pwd"
   ]
  },
  {
   "cell_type": "code",
   "execution_count": null,
   "id": "4239b938-73e5-495f-b407-3b3cb85e2108",
   "metadata": {},
   "outputs": [],
   "source": []
  }
 ],
 "metadata": {
  "kernelspec": {
   "display_name": "Python 3 (ipykernel)",
   "language": "python",
   "name": "python3"
  },
  "language_info": {
   "codemirror_mode": {
    "name": "ipython",
    "version": 3
   },
   "file_extension": ".py",
   "mimetype": "text/x-python",
   "name": "python",
   "nbconvert_exporter": "python",
   "pygments_lexer": "ipython3",
   "version": "3.10.13"
  }
 },
 "nbformat": 4,
 "nbformat_minor": 5
}
