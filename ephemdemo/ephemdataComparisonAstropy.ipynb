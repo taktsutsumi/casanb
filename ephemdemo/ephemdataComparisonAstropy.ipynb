{
 "cells": [
  {
   "cell_type": "markdown",
   "id": "01592266-e9cd-47a0-9a43-3e940727b552",
   "metadata": {},
   "source": [
    "### Comparison of the position of an ephemeris object with astropy "
   ]
  },
  {
   "cell_type": "markdown",
   "id": "eaf09e2a-6d8e-40e1-90bf-866e292ef49a",
   "metadata": {},
   "source": [
    "Note: jplephem module - default is DE430 while current JPL-Horizons query is based on DE440s.\n",
    "casacore measures: DE200 and DE405\n",
    "\n",
    "(from ssd.pl.nasa.gov/planets/eph_export.html)\n",
    "### DE200\n",
    "Created September 1981; includes nutations but no librations.\n",
    "Referred to the dynamical equator and equinox of 2000.\n",
    "Covers JED 2305424.5 (1599 DEC 09)  to  JED 2513360.5 (2169 MAR 31).\n",
    "\n",
    "\n",
    "### DE405\n",
    "Created May 1997; includes both nutations and librations.\n",
    "Referred to the International Celestial Reference Frame.\n",
    "Covers JED 2305424.50  (1599 DEC 09)  to  JED 2525008.50  (2201 FEB 20)\n",
    "\n",
    "### DE430\n",
    "Created April 2013; includes librations and 1980 nutation.\n",
    "Referred to the International Celestial Reference Frame version 2.0.\n",
    "Covers JED 2287184.5, (1549 DEC 21) to JED 2688976.5, (2650 JAN 25).\n",
    "\n",
    "### DE440\n",
    "Created June 2020; compared to DE430, about 7 years of new data have\n",
    "beend added.\n",
    "Referred to the International Celestial Reference Frame version 3.0.\n",
    "Covers JED 2287184.5, (1549 DEC 31) to JED 2688976.5, (2650 JAN 25)."
   ]
  },
  {
   "cell_type": "code",
   "execution_count": 1,
   "id": "efcbfd57-72e6-4586-a86f-762837758b43",
   "metadata": {},
   "outputs": [],
   "source": [
    "from astropy.time import Time\n",
    "from astropy.coordinates import solar_system_ephemeris, EarthLocation\n",
    "from astropy.coordinates import get_body_barycentric, get_body, SkyCoord\n",
    "import astropy.units as u\n",
    "from casatools import table, quanta\n",
    "tb = table()\n",
    "qa = quanta()"
   ]
  },
  {
   "cell_type": "code",
   "execution_count": 3,
   "id": "a4ef8a4c-b17d-4ac4-bb98-7d518fa24596",
   "metadata": {},
   "outputs": [],
   "source": [
    "# import helper functions defined in a separate notebook\n",
    "from ipynb.fs.defs.EphemerisObjectImagingDemoFunctions import *"
   ]
  },
  {
   "cell_type": "code",
   "execution_count": 4,
   "id": "b8d57ab9-bc47-4290-acef-032c1cc8e11d",
   "metadata": {},
   "outputs": [
    {
     "name": "stdout",
     "output_type": "stream",
     "text": [
      "2019/01/08/11:21:50.208000\n"
     ]
    }
   ],
   "source": [
    "# venus_ephem_test.ms mosaic\n",
    "# obs_date - 2019/01/08/11:21:50.208000\n",
    "from casatasks import imhead\n",
    "imgname = 'mosaic-mfs-exteph-venus'\n",
    "iminfo = imhead(imgname+'.image',mode='list')\n",
    "print(iminfo['date-obs'])"
   ]
  },
  {
   "cell_type": "code",
   "execution_count": 5,
   "id": "fa2b7de1-8c0c-40db-aa83-29d050c18a33",
   "metadata": {},
   "outputs": [],
   "source": [
    "#reformat time for astropy\n",
    "t = Time('2019-01-08 11:21:50.208000')"
   ]
  },
  {
   "cell_type": "code",
   "execution_count": 6,
   "id": "d5d6fb0e-c8b9-47e0-bed1-436474e65b09",
   "metadata": {},
   "outputs": [
    {
     "name": "stdout",
     "output_type": "stream",
     "text": [
      "(2225015.30883296, -5440016.41799762, -2481631.27428014) m\n"
     ]
    }
   ],
   "source": [
    "loc = EarthLocation.of_site('ALMA')\n",
    "print(loc)"
   ]
  },
  {
   "cell_type": "code",
   "execution_count": 7,
   "id": "014e59b8-f839-458d-8538-754839f4fbcf",
   "metadata": {},
   "outputs": [],
   "source": [
    "with solar_system_ephemeris.set('builtin'):\n",
    "    astropy_venus = get_body('venus', t, loc)"
   ]
  },
  {
   "cell_type": "code",
   "execution_count": 8,
   "id": "c20fc785-881c-4d20-a793-c93be49248be",
   "metadata": {},
   "outputs": [
    {
     "name": "stdout",
     "output_type": "stream",
     "text": [
      "<SkyCoord (GCRS: obstime=2019-01-08 11:21:50.208, obsgeoloc=(-5084912.71740542, -2955268.70972292, -2472451.22172534) m, obsgeovel=(215.50598977, -370.46896037, -0.40195799) m / s): (ra, dec, distance) in (deg, deg, AU)\n",
      "    (239.3651525, -16.96338202, 0.69134182)>\n"
     ]
    }
   ],
   "source": [
    "print(astropy_venus)"
   ]
  },
  {
   "cell_type": "code",
   "execution_count": 9,
   "id": "0b389bd7-8e91-4d40-ab29-20febdc12700",
   "metadata": {},
   "outputs": [],
   "source": [
    "extephemtabpath='Venus_ICRS_JPL-Horizons_MJD58491.4.tab'\n",
    "intephemtabpath = './venus_ephem_test.ms/FIELD/EPHEM0_Venus_58491.4.tab'"
   ]
  },
  {
   "cell_type": "code",
   "execution_count": 10,
   "id": "560534af-6ba5-4592-8827-11f7258f5e4a",
   "metadata": {},
   "outputs": [],
   "source": [
    "# find the direction of Venus at reftm\n",
    "exteph_dir = ephem_dir(extephemtabpath, iminfo['date-obs'], 'ALMA')\n",
    "inteph_dir = ephem_dir(intephemtabpath, iminfo['date-obs'], 'ALMA')"
   ]
  },
  {
   "cell_type": "code",
   "execution_count": 11,
   "id": "121d4a38-0c96-4865-b914-53260e70d578",
   "metadata": {},
   "outputs": [
    {
     "name": "stdout",
     "output_type": "stream",
     "text": [
      "internal ephem: 15:57:28.746 -016.57.50.059\n",
      "external ephem: 15:57:28.352 -016.57.51.782\n",
      "astropy(builtin): 15:57:27.637 -016.57.48.175\n"
     ]
    }
   ],
   "source": [
    "print('internal ephem:',qa.time(inteph_dir['m0'],prec=9)[0],qa.angle(inteph_dir['m1'],prec=9)[0])\n",
    "print('external ephem:',qa.time(exteph_dir['m0'],prec=9)[0],qa.angle(exteph_dir['m1'],prec=9)[0])\n",
    "print('astropy(builtin):',qa.time(qa.quantity(astropy_venus.ra.deg, 'deg'), prec=9)[0], qa.angle(qa.quantity(astropy_venus.dec.deg, 'deg'), prec=9)[0])"
   ]
  },
  {
   "cell_type": "code",
   "execution_count": 12,
   "id": "defa230e-3190-4a6d-a002-221a0e26334b",
   "metadata": {},
   "outputs": [
    {
     "name": "stdout",
     "output_type": "stream",
     "text": [
      "Looking in indexes: https://casa-pip.nrao.edu/repository/pypi-group/simple, https://pypi.org/simple\n",
      "Collecting jplephem\n",
      "  Downloading jplephem-2.22-py3-none-any.whl.metadata (22 kB)\n",
      "Requirement already satisfied: numpy in /export/home/murasame/casamodular/releases/664env/lib/python3.8/site-packages (from jplephem) (1.24.4)\n",
      "Downloading jplephem-2.22-py3-none-any.whl (47 kB)\n",
      "\u001b[2K   \u001b[38;2;114;156;31m━━━━━━━━━━━━━━━━━━━━━━━━━━━━━━━━━━━━━━━━\u001b[0m \u001b[32m47.2/47.2 kB\u001b[0m \u001b[31m627.6 kB/s\u001b[0m eta \u001b[36m0:00:00\u001b[0m1m2.3 MB/s\u001b[0m eta \u001b[36m0:00:01\u001b[0m\n",
      "\u001b[?25hInstalling collected packages: jplephem\n",
      "Successfully installed jplephem-2.22\n"
     ]
    }
   ],
   "source": [
    "!pip install jplephem"
   ]
  },
  {
   "cell_type": "code",
   "execution_count": 13,
   "id": "64baa01e-5443-4a93-8c46-289831198bf1",
   "metadata": {},
   "outputs": [
    {
     "data": {
      "text/plain": [
       "<ScienceState solar_system_ephemeris: 'jpl'>"
      ]
     },
     "execution_count": 13,
     "metadata": {},
     "output_type": "execute_result"
    }
   ],
   "source": [
    "solar_system_ephemeris.set('jpl')  "
   ]
  },
  {
   "cell_type": "code",
   "execution_count": 14,
   "id": "a2601dc9-7724-4ead-8f2d-c91952397517",
   "metadata": {},
   "outputs": [],
   "source": [
    "de440_venus = get_body('venus', t, loc, ephemeris='de440')"
   ]
  },
  {
   "cell_type": "code",
   "execution_count": 15,
   "id": "5e5e39cb-3d7d-4f65-8d46-cb2bc07c56e3",
   "metadata": {},
   "outputs": [
    {
     "name": "stdout",
     "output_type": "stream",
     "text": [
      "<SkyCoord (GCRS: obstime=2019-01-08 11:21:50.208, obsgeoloc=(-5084912.71740542, -2955268.70972292, -2472451.22172534) m, obsgeovel=(215.50598977, -370.46896037, -0.40195799) m / s): (ra, dec, distance) in (deg, deg, km)\n",
      "    (239.36485145, -16.96313852, 1.03422641e+08)>\n"
     ]
    }
   ],
   "source": [
    "print(de440_venus)"
   ]
  },
  {
   "cell_type": "code",
   "execution_count": 16,
   "id": "552aa3bf-1cd9-457b-a4ca-f7d25e8279e6",
   "metadata": {},
   "outputs": [
    {
     "name": "stdout",
     "output_type": "stream",
     "text": [
      "astropy(de440): 15:57:27.564 -016.57.47.299\n"
     ]
    }
   ],
   "source": [
    "print('astropy(de440):',qa.time(qa.quantity(de440_venus.ra.deg, 'deg'), prec=9)[0], qa.angle(qa.quantity(de440_venus.dec.deg, 'deg'), prec=9)[0])"
   ]
  },
  {
   "cell_type": "code",
   "execution_count": 17,
   "id": "17149283-bc91-4c54-bcef-46432add1b3c",
   "metadata": {},
   "outputs": [],
   "source": [
    "#from casatools import measures\n",
    "_me = measures()\n",
    "_me.doframe(_me.observatory('ALMA'))\n",
    "_me.doframe(_me.epoch('utc',iminfo['date-obs']))\n",
    "meas_dir = _me.measure(_me.measure(_me.direction('VENUS'), 'AZELGEO'),'ICRS')\n",
    "#print('measure:',qa.time(meas_dir['m0'],prec=9)[0],qa.angle(meas_dir['m1'],prec=9)[0])\n"
   ]
  },
  {
   "cell_type": "code",
   "execution_count": 18,
   "id": "8bbff1a9-88b9-4b5c-a593-7bdd295ac8e2",
   "metadata": {},
   "outputs": [
    {
     "name": "stdout",
     "output_type": "stream",
     "text": [
      "internal ephem: 15:57:28.746 -016.57.50.059\n",
      "external ephem: 15:57:28.352 -016.57.51.782\n",
      "astropy(builtin): 15:57:27.637 -016.57.48.175\n",
      "astropy(de440): 15:57:27.564 -016.57.47.299\n",
      "measure: 15:57:28.543 -016.57.49.411\n"
     ]
    }
   ],
   "source": [
    "print('internal ephem:',qa.time(inteph_dir['m0'],prec=9)[0],qa.angle(inteph_dir['m1'],prec=9)[0])\n",
    "print('external ephem:',qa.time(exteph_dir['m0'],prec=9)[0],qa.angle(exteph_dir['m1'],prec=9)[0])\n",
    "print('astropy(builtin):',qa.time(qa.quantity(astropy_venus.ra.deg, 'deg'), prec=9)[0], qa.angle(qa.quantity(astropy_venus.dec.deg, 'deg'), prec=9)[0])\n",
    "print('astropy(de440):',qa.time(qa.quantity(de440_venus.ra.deg, 'deg'), prec=9)[0], qa.angle(qa.quantity(de440_venus.dec.deg, 'deg'), prec=9)[0])\n",
    "print('measure:',qa.time(meas_dir['m0'],prec=9)[0],qa.angle(meas_dir['m1'],prec=9)[0])"
   ]
  },
  {
   "cell_type": "code",
   "execution_count": 24,
   "id": "dc28f491-500c-4883-b588-b0e7c1e0fece",
   "metadata": {},
   "outputs": [
    {
     "data": {
      "text/plain": [
       "{'unit': 'deg', 'value': 0.0016423736421583208}"
      ]
     },
     "execution_count": 24,
     "metadata": {},
     "output_type": "execute_result"
    }
   ],
   "source": [
    "_me.separation(inteph_dir,exteph_dir)"
   ]
  },
  {
   "cell_type": "code",
   "execution_count": null,
   "id": "5a9ed09e-d11f-4ee0-994f-ef6e6fa4a930",
   "metadata": {},
   "outputs": [],
   "source": []
  }
 ],
 "metadata": {
  "kernelspec": {
   "display_name": "Python 3 (ipykernel)",
   "language": "python",
   "name": "python3"
  },
  "language_info": {
   "codemirror_mode": {
    "name": "ipython",
    "version": 3
   },
   "file_extension": ".py",
   "mimetype": "text/x-python",
   "name": "python",
   "nbconvert_exporter": "python",
   "pygments_lexer": "ipython3",
   "version": "3.8.17"
  }
 },
 "nbformat": 4,
 "nbformat_minor": 5
}
