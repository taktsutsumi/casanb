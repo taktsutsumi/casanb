{
 "cells": [
  {
   "cell_type": "markdown",
   "id": "478b34b7-fac8-4127-96c1-e9ab7e74bb62",
   "metadata": {},
   "source": [
    "# Ephemeris object cube imaging (mosaic)\n",
    "\n",
    "## Comet Giacobini-Zinner  -- external JPL-Horizons table (use all the data set)"
   ]
  },
  {
   "cell_type": "markdown",
   "id": "f7a37d16-966c-441b-b810-036b14d469ff",
   "metadata": {},
   "source": [
    "For imaigng of the sources that move significantly during the observations, proper ephemeris data need to be used. The following demo is one of the stadard procudures for processing of such data.\n",
    "\n",
    "\n",
    "The following steps describes that imaging with updated ephemeris table which is different from one used to track the source during observation. In that case the source image will be centered using the updated eph table while the original internal eph table will be used for re-phasing during gridding."
   ]
  },
  {
   "cell_type": "code",
   "execution_count": 1,
   "id": "bc161f1a-baf3-4f18-80af-239f768d8214",
   "metadata": {
    "scrolled": true
   },
   "outputs": [],
   "source": [
    "# extra packages needed\n",
    "#import os\n",
    "#os.system('pip install astropy')\n",
    "#os.system('pip install aplpy')"
   ]
  },
  {
   "cell_type": "code",
   "execution_count": 2,
   "id": "9825647d-e987-4e18-83ff-ce6f66bd8ea5",
   "metadata": {},
   "outputs": [],
   "source": [
    "from casatasks import getephemtable, tclean, exportfits, listobs, imstat, imhead\n",
    "from casatools import measures, quanta, table, image\n",
    "import os\n",
    "from astropy.io import fits\n",
    "from matplotlib import pylab as pl\n",
    "import numpy as np\n",
    "import aplpy\n",
    "me = measures()\n",
    "qa = quanta()\n",
    "tb = table()\n",
    "ia = image()"
   ]
  },
  {
   "cell_type": "markdown",
   "id": "4acbd38d-6b33-4492-9085-445a8475a9e0",
   "metadata": {},
   "source": [
    "Define some useful funcitons\n",
    "delete_tcleanimages: delete previous images from tclean run\n",
    "get_attachedEphemtablepath: returns full eph table path for the corresponding field id"
   ]
  },
  {
   "cell_type": "code",
   "execution_count": 3,
   "id": "09b8deed-32db-490f-b13f-b2b07b1eb986",
   "metadata": {},
   "outputs": [],
   "source": [
    "def delete_tcleanimages(imagename):\n",
    "    ''' clean up images from a previous run '''\n",
    "    imtypes = ['residual', 'image', 'image.pbcor','psf', 'pb', 'model', 'sumwt', 'mask']\n",
    "    for type in imtypes:\n",
    "        if os.path.exists(f'{imagename}.{type}'):\n",
    "            os.system(f'rm -rf {imagename}.{type}')"
   ]
  },
  {
   "cell_type": "code",
   "execution_count": 4,
   "id": "bb07c821-d313-496f-a74c-4b326a11862c",
   "metadata": {},
   "outputs": [],
   "source": [
    "def get_attachedEphemtablepath(msfile, fieldname):\n",
    "    ''' returns full path of attached eph table for a specified field ID'''\n",
    "    from casatools import table, msmetadata\n",
    "    import glob\n",
    "    _tb = table()\n",
    "    _msmd = msmetadata()\n",
    "    _msmd.open(msfile)\n",
    "    fieldid = _msmd.fieldsforname(fieldname)[0]\n",
    "    _msmd.close()\n",
    "    _tb.open(msfile+'/FIELD')\n",
    "    ephemid = _tb.getcell('EPHEMERIS_ID',fieldid)\n",
    "    _tb.close()\n",
    "    tabname = glob.glob(f'{msfile}/FIELD/EPHEM{ephemid}*/')\n",
    "    return tabname[0]\n",
    "\n",
    "#Returns direction of the ephemeris object at a given time (parallax collected)\n",
    "def ephem_dir(ephemtab, refep, observatory):\n",
    "    from casatools import measures\n",
    "    _me = measures()\n",
    "    _me.framecomet(ephemtab)\n",
    "    _me.doframe(_me.observatory(observatory))\n",
    "    _me.doframe(_me.epoch('utc',refep))\n",
    "    return _me.measure(_me.measure(_me.direction('COMET'), 'AZELGEO'),'ICRS')\n",
    "    \n",
    "\n"
   ]
  },
  {
   "cell_type": "markdown",
   "id": "9dd11ecc-d53d-442c-b362-ccdd9e2c8be4",
   "metadata": {},
   "source": [
    "## Imaging with external epehemeris table"
   ]
  },
  {
   "cell_type": "code",
   "execution_count": 5,
   "id": "892e77f2-a72d-4060-84d8-42a21250ebb1",
   "metadata": {},
   "outputs": [],
   "source": [
    "datapath='/home/casa/data/casatestdata-large/stakeholder/alma/'\n",
    "# Use local data directory\n",
    "#datapath='/Volumes/ssd1/casatestdata/stakeholder/alma/'"
   ]
  },
  {
   "cell_type": "code",
   "execution_count": 6,
   "id": "7f6431ec-e2ff-479c-9cb2-35f84255eaf6",
   "metadata": {},
   "outputs": [],
   "source": [
    "msfile=[datapath+'2017.1.00750.T_tclean_exe1.ms',datapath+'2017.1.00750.T_tclean_exe2.ms']"
   ]
  },
  {
   "cell_type": "code",
   "execution_count": 7,
   "id": "71574f82-0368-4c62-b0e8-6f72b5865799",
   "metadata": {},
   "outputs": [
    {
     "name": "stdout",
     "output_type": "stream",
     "text": [
      "mdj start: 58377.42770666667\n",
      "observation time range : 2018/09/16/10:15:54~2018/09/16/11:03:42\n",
      "mdj start: 58383.51988666667\n",
      "observation time range : 2018/09/22/12:28:38~2018/09/22/13:16:21\n",
      "['2018/09/16/10:15:54~2018/09/16/11:05:42', '2018/09/22/12:28:38~2018/09/22/13:18:21']\n"
     ]
    }
   ],
   "source": [
    "# Find obs time range from MSes\n",
    "# for generating ephemeris table, add extra time at the end\n",
    "# time interval of the attached ephem table is 1 min.\n",
    "timerangestr=[]\n",
    "for vis in msfile:\n",
    "    ret=listobs(vis)\n",
    "    calbegintime = qa.time(qa.quantity(ret['BeginTime'],'d'),form='ymd')[0]\n",
    "    calendtime = qa.time(qa.quantity(ret['EndTime'],'d'),form='ymd')[0]\n",
    "    # add extra time (2min) at the end to ensure the interpolation for determine the position works\n",
    "    calendmodtime = qa.time(qa.quantity(ret['EndTime']+0.000694444*2.,'d'),form='ymd')[0]\n",
    "    bt = ret['BeginTime']\n",
    "    print(f'mdj start: {bt}')\n",
    "    print (f'observation time range : {calbegintime}~{calendtime}')\n",
    "    timerangestr.append(f'{calbegintime}~{calendmodtime}')\n",
    "    \n",
    "print(timerangestr)"
   ]
  },
  {
   "cell_type": "code",
   "execution_count": 8,
   "id": "926d8742-78d0-4bd8-8fcc-7e32b8395b1c",
   "metadata": {},
   "outputs": [
    {
     "name": "stderr",
     "output_type": "stream",
     "text": [
      "2024-04-19 23:39:58\tWARN\tgetephemtable::::casa\t21PG-Z_JPL-Horizons_20180916_0922.tab exists, will be overwritten\n",
      "2024-04-19 23:39:58\tWARN\tgetephemtable::::casa\tmyraw.dat exists, will be overwritten\n"
     ]
    }
   ],
   "source": [
    "# generate JPL-Horizons ephem table\n",
    "intimerange = timerangestr[0].split('~')[0]+'~'+timerangestr[1].split('~')[1]\n",
    "getephemtable(objectname='90000322', asis=True, timerange=intimerange, \n",
    "              interval='1m', outfile='21PG-Z_JPL-Horizons_20180916_0922.tab', \n",
    "              rawdatafile='myraw.dat',overwrite=True)"
   ]
  },
  {
   "cell_type": "code",
   "execution_count": 9,
   "id": "514f9d77-1824-4934-a0fa-f84320ae6c7c",
   "metadata": {
    "editable": true,
    "slideshow": {
     "slide_type": ""
    },
    "tags": []
   },
   "outputs": [],
   "source": [
    "imgname='21PGZComet-cubesrc-mosaic-all-exteph'"
   ]
  },
  {
   "cell_type": "code",
   "execution_count": 10,
   "id": "f780831c-49ce-4801-87b9-59905ef52bf2",
   "metadata": {},
   "outputs": [],
   "source": [
    "delete_tcleanimages(imgname)"
   ]
  },
  {
   "cell_type": "code",
   "execution_count": 11,
   "id": "0cf46145-d12f-40cc-8bfd-8e85ab776609",
   "metadata": {},
   "outputs": [],
   "source": [
    "inphasecenter='21PG-Z_JPL-Horizons_20180916_0922.tab'"
   ]
  },
  {
   "cell_type": "code",
   "execution_count": 12,
   "id": "809c1658-99a9-4d13-ae80-07573a6bd6dd",
   "metadata": {},
   "outputs": [],
   "source": [
    "#os.system(f'cp -r {datapath}{msfile} {msfile}')"
   ]
  },
  {
   "cell_type": "code",
   "execution_count": 13,
   "id": "00e829d8-7162-419c-bfd2-1d12f232a797",
   "metadata": {},
   "outputs": [
    {
     "name": "stderr",
     "output_type": "stream",
     "text": [
      "BriggsWeightor::initializeFTMachine ephemtabname=/export/home/murasame2/casadev/ephemimaging/demo/notebooks/21PG-Z_JPL-Horizons_20180916_0922.tab\n",
      "BriggsWeightor::initializeFTMachine ephemtabname=/export/home/murasame2/casadev/ephemimaging/demo/notebooks/21PG-Z_JPL-Horizons_20180916_0922.tab\n",
      "\n",
      "0%....10....20....30....40....50....60....70....80....90....100%\n",
      "2024-04-19 23:40:54\tWARN\ttclean::::casa\tWarning! Non-zero values at the edge of the .pb image can cause unexpected aliasing effects! (found value 0.252404123544693 at index [76, 56, 0, 757])\n",
      "\n",
      "0%....10....20....30....40....50....60....70....80....90....100%\n",
      "\n",
      "0%....10....20....30....40....50....60....70....80....90....100%\n"
     ]
    },
    {
     "data": {
      "text/plain": [
       "135"
      ]
     },
     "execution_count": 13,
     "metadata": {},
     "output_type": "execute_result"
    }
   ],
   "source": [
    "ret=tclean(vis=msfile, field='21PGiacobini-Zinner', spw=['0','0'], \\\n",
    "            antenna=['0,1,2,3,4,5,6,7,8,9,10,11', '0,1,2,3,4,5,6,7,8,9'], \\\n",
    "            scan=['7,11,15,19,23', '8,12,16,20,24'], \\\n",
    "            intent='OBSERVE_TARGET#ON_SOURCE', datacolumn='data', \\\n",
    "            imagename=imgname, imsize=[80, 80], cell=['0.66arcsec'], \\\n",
    "            phasecenter=inphasecenter, stokes='I', specmode='cubesource', \\\n",
    "            nchan=1000, start='354.4452721710GHz', width='0.1221004MHz', perchanweightdensity=True, \\\n",
    "            gridder='mosaic', mosweight=False, \\\n",
    "            usepointing=True, pblimit=0.2, deconvolver='hogbom', \\\n",
    "            restoration=True, restoringbeam='common', pbcor=True, \\\n",
    "            #weighting='briggsbwtaper', robust=0.5, npixels=0, niter=30000, \\\n",
    "            weighting='briggsbwtaper', robust=0.5, npixels=0, niter=100, \\\n",
    "            threshold='0.274Jy', nsigma=0.0, usemask='auto'\n",
    "            '-multithresh', sidelobethreshold=1.25, noisethreshold=5.0, \\\n",
    "            lownoisethreshold=2.0, negativethreshold=0.0, \\\n",
    "            minbeamfrac=0.1, growiterations=75, dogrowprune=True, \\\n",
    "            minpercentchange=1.0, fastnoise=False, restart=True, \\\n",
    "            calcres=True, calcpsf=True, savemodel='none', \\\n",
    "            parallel=False, verbose=True)\n",
    "ret['iterdone']"
   ]
  },
  {
   "cell_type": "markdown",
   "id": "33378344-c85f-4897-8a36-391837f6e215",
   "metadata": {},
   "source": [
    "Convert a CASA image to FITS image for displaying the image via aplpy"
   ]
  },
  {
   "cell_type": "code",
   "execution_count": 14,
   "id": "b5bebfc8-792a-4dff-af71-25af0d7cca81",
   "metadata": {},
   "outputs": [],
   "source": [
    "# SPECSYS=SOURCE is not yet supported in astropy?\n",
    "def displayImage(imgname, markers={}, title=''):\n",
    "    ''' convert casa image to fits and display the fits image'''\n",
    "    # export to a FITS image (overwrite if the output exists)\n",
    "    fitsimagename = imgname+'fits'\n",
    "    exportfits(imagename=imgname, fitsimage=fitsimagename, overwrite=True)\n",
    "    fits.setval(fitsimagename, 'TIMESYS', value='utc')\n",
    "    fig = pl.figure(figsize=(15,15))\n",
    "    img = aplpy.FITSFigure(fitsimagename, subplot=[0.1,0.1,0.5,0.5])\n",
    "    img.show_colorscale()\n",
    "    if markers!={}:\n",
    "       img.show_markers(markers['ra'], markers['dec'], edgecolor='red', marker='o',s=10, alpha=0.5)\n",
    "    pl.title(title)\n",
    "    fig.canvas.draw()\n",
    "    print(printImageCenter(imgname))"
   ]
  },
  {
   "cell_type": "code",
   "execution_count": 15,
   "id": "0be5313d-85ce-48c6-a234-02b483a1ef28",
   "metadata": {},
   "outputs": [],
   "source": [
    "def printImageCenter(imgname):\n",
    "    ia.open(imgname)\n",
    "    shape = ia.shape()\n",
    "    csys = ia.coordsys()\n",
    "    center = csys.toworld([shape[0]/2.,shape[1]/2.])\n",
    "    ia.done()\n",
    "    return qa.time(qa.quantity(center['numeric'][0], 'rad'),prec=9)[0], qa.angle(qa.quantity(center['numeric'][1],'rad'),prec=9)[0]\n"
   ]
  },
  {
   "cell_type": "code",
   "execution_count": 16,
   "id": "bd0d6de8-5a44-4ebc-9b11-7cafc794befb",
   "metadata": {},
   "outputs": [],
   "source": [
    "# another way to display image (from CASADocs simulation example )\n",
    "def dispAstropy(imname='sim_onepoint_true.im'):\n",
    "        exportfits(imagename=imname, fitsimage=imname+'.fits', overwrite=True)\n",
    "        hdu = fits.open(imname+'.fits')[0]\n",
    "        wcs = WCS(hdu.header,naxis=2)\n",
    "        fig = pl.figure()\n",
    "        fig.add_subplot(121, projection=wcs)\n",
    "        pl.imshow(hdu.data[0,0,:,:], origin='lower', cmap=pl.cm.viridis)\n",
    "        pl.xlabel('RA')\n",
    "        pl.ylabel('Dec')\n",
    "\n",
    "\n",
    "def dispImage(imname='sim_onepoint_true.im', chanslice=0, useAstropy=False):\n",
    "    ia.open(imname)\n",
    "    pix = ia.getchunk()\n",
    "    shp = ia.shape()\n",
    "    ia.close()\n",
    "    pl.figure(figsize=(10,4))\n",
    "    pl.clf()\n",
    "    if shp[3]>1:\n",
    "        pl.subplot(121)\n",
    "    if useAstropy==False:\n",
    "        pl.imshow(pix[:,:,0,chanslice])\n",
    "        pl.title(f'Image from channel {chanslice}')\n",
    "    else:\n",
    "        dispAstropy(imname)\n",
    "    if shp[3]>1:\n",
    "        pl.subplot(122)\n",
    "        ploc = np.where( pix == pix.max() )\n",
    "        pl.plot(pix[ploc[0][0], ploc[1][0],0,:])\n",
    "        pl.title('Spectrum at source peak')\n",
    "        pl.xlabel('Channel')\n",
    "\n",
    "def casadatetoastropydate(casadatestring):\n",
    "    datelist = casadatestring.split('/')\n",
    "    retstr=''\n",
    "    if len(datelist)==4:\n",
    "        retstr=datelist[0]+'-'+datelist[1]+'-'+datelist[2]+'T'+datelist[3]\n",
    "    return retstr    "
   ]
  },
  {
   "cell_type": "code",
   "execution_count": 17,
   "id": "c2af0981-3465-447c-9e64-0ef038a624f3",
   "metadata": {},
   "outputs": [
    {
     "name": "stdout",
     "output_type": "stream",
     "text": [
      "489\n"
     ]
    }
   ],
   "source": [
    "imstatres = imstat(imgname+'.image')\n",
    "maxchan = imstatres['maxpos'][3]\n",
    "print(maxchan)"
   ]
  },
  {
   "cell_type": "code",
   "execution_count": 18,
   "id": "9fc1b0ff-c4f3-4c81-ac33-66ade5a93693",
   "metadata": {},
   "outputs": [
    {
     "data": {
      "image/png": "[encoded data removed]",
      "text/plain": [
       "<Figure size 1000x400 with 2 Axes>"
      ]
     },
     "metadata": {},
     "output_type": "display_data"
    }
   ],
   "source": [
    "dispImage(imgname+'.image',chanslice=maxchan)"
   ]
  },
  {
   "cell_type": "code",
   "execution_count": 19,
   "id": "1a76e69e-06fa-4ca7-b96c-c5f8fa44f4f2",
   "metadata": {},
   "outputs": [
    {
     "data": {
      "text/plain": [
       "('06:12:57.071', '+022.34.07.834')"
      ]
     },
     "execution_count": 19,
     "metadata": {},
     "output_type": "execute_result"
    }
   ],
   "source": [
    "printImageCenter(imgname+'.image')"
   ]
  },
  {
   "cell_type": "code",
   "execution_count": 20,
   "id": "c645d643-897b-455b-8ab0-db8555eb0d1c",
   "metadata": {},
   "outputs": [],
   "source": [
    "from casatasks import imhead\n",
    "iminfo=imhead(imgname+'.image', mode='list')\n",
    "obsdate=iminfo['date-obs']"
   ]
  },
  {
   "cell_type": "code",
   "execution_count": 21,
   "id": "711ad1ad-1db7-4fab-86d0-4b575ae938c8",
   "metadata": {},
   "outputs": [
    {
     "name": "stdout",
     "output_type": "stream",
     "text": [
      "internal ephem dir =  ['06:12:57.770'] ['+022.34.20.236']\n",
      "external ephem dir =  ['06:12:57.071'] ['+022.34.07.834']\n"
     ]
    }
   ],
   "source": [
    "intab=get_attachedEphemtablepath(msfile[0], '21PGiacobini-Zinner')\n",
    "intabdir = ephem_dir(intab,iminfo['date-obs'],'ALMA')\n",
    "exttabdir = ephem_dir('21PG-Z_JPL-Horizons_20180916_ms0.tab',iminfo['date-obs'],'ALMA')\n",
    "print(\"internal ephem dir = \",qa.time(intabdir['m0'],prec=9),qa.angle(intabdir['m1'],prec=9))\n",
    "print(\"external ephem dir = \",qa.time(exttabdir['m0'],prec=9),qa.angle(exttabdir['m1'],prec=9))"
   ]
  },
  {
   "cell_type": "markdown",
   "id": "e3ab61dd-b1e9-4bb4-a377-a55708f8c930",
   "metadata": {},
   "source": [
    "Determine image channel frequency at the peak "
   ]
  },
  {
   "cell_type": "code",
   "execution_count": 22,
   "id": "444b68ff-e670-4bf7-b983-bbf15ddd1cea",
   "metadata": {},
   "outputs": [
    {
     "name": "stdout",
     "output_type": "stream",
     "text": [
      "restfreq: 354505473000.0\n"
     ]
    }
   ],
   "source": [
    "ia.open('tst-cubesrc-trackfield.image')\n",
    "csys = ia.coordsys()\n",
    "csysrec = csys.torecord()\n",
    "ia.done()\n",
    "restfreq = csysrec['spectral2']['restfreq']\n",
    "print('restfreq:',restfreq)"
   ]
  },
  {
   "cell_type": "code",
   "execution_count": 25,
   "id": "1b9be60b-b684-434a-a391-1295030f23be",
   "metadata": {},
   "outputs": [],
   "source": [
    "specaxis=csys.findcoordinate('spectral')['pixel'][0]"
   ]
  },
  {
   "cell_type": "code",
   "execution_count": 26,
   "id": "0934ec1f-50a1-4b37-a1d4-426a8693de52",
   "metadata": {},
   "outputs": [
    {
     "name": "stdout",
     "output_type": "stream",
     "text": [
      "{'ar_type': 'absolute', 'numeric': array([40., 40.,  0.,  0.]), 'pw_type': 'pixel'}\n"
     ]
    }
   ],
   "source": [
    "pixel=csys.referencepixel()\n",
    "print(pixel)"
   ]
  },
  {
   "cell_type": "code",
   "execution_count": 28,
   "id": "18657217-bf83-4afa-b083-7db42e9e04d4",
   "metadata": {},
   "outputs": [
    {
     "name": "stdout",
     "output_type": "stream",
     "text": [
      "354504979266.61194 Hz\n"
     ]
    }
   ],
   "source": [
    "pixel['numeric'][specaxis] = 489\n",
    "f_peak = csys.toworld(pixel)['numeric'][3]\n",
    "# this is different from what I read from the Viewer\n",
    "print(f_peak,'Hz')"
   ]
  },
  {
   "cell_type": "code",
   "execution_count": 29,
   "id": "38ff6446-fa42-431a-b93a-8faf3bc8280e",
   "metadata": {},
   "outputs": [],
   "source": [
    "#print(casadatetoastropydate(obsdate))"
   ]
  },
  {
   "cell_type": "code",
   "execution_count": 30,
   "id": "f7aa915a-ac12-48a2-b150-33c509334c41",
   "metadata": {},
   "outputs": [
    {
     "name": "stdout",
     "output_type": "stream",
     "text": [
      "{'m0': {'unit': 'rad', 'value': 1.6273353091131537}, 'm1': {'unit': 'rad', 'value': 0.39388505484928327}, 'refer': 'ICRS', 'type': 'direction'}\n"
     ]
    }
   ],
   "source": [
    "from casatools import measures\n",
    "ephemtab = get_attachedEphemtablepath(msfile[0], '21PGiacobini-Zinner')\n",
    "_me = measures()\n",
    "_me.framecomet(ephemtab)\n",
    "_me.doframe(_me.observatory('ALMA'))\n",
    "_me.doframe(_me.epoch('utc',obsdate))\n",
    "cometpos = _me.measure(_me.direction('COMET'),'ICRS')\n",
    "print(cometpos)"
   ]
  },
  {
   "cell_type": "code",
   "execution_count": 31,
   "id": "536f92c9-df98-4e91-9657-3b0cf9e71d48",
   "metadata": {},
   "outputs": [
    {
     "name": "stdout",
     "output_type": "stream",
     "text": [
      "58377.427764999986\n"
     ]
    }
   ],
   "source": [
    "mjd0=qa.quantity(obsdate,'d')['value']\n",
    "print(mjd0)"
   ]
  },
  {
   "cell_type": "code",
   "execution_count": 32,
   "id": "2fd2e2cf-856f-471e-bd22-1bc6cb02fb20",
   "metadata": {},
   "outputs": [
    {
     "data": {
      "text/plain": [
       "True"
      ]
     },
     "execution_count": 32,
     "metadata": {},
     "output_type": "execute_result"
    }
   ],
   "source": [
    "tb.open(ephemtab)\n",
    "mjdcol = tb.getcol('MJD')\n",
    "#indx = np.abs(mjdcol - mjd0).argmin()\n",
    "#radvel = tb.getcell('RadVel',indx)\n",
    "radc = tb.getcol('RA')\n",
    "decdc = tb.getcol('DEC')\n",
    "rhoc = tb.getcol('Rho')\n",
    "radvel=tb.getcol('RadVel')\n",
    "tb.done()"
   ]
  },
  {
   "cell_type": "code",
   "execution_count": 33,
   "id": "80c9a433-0530-43ee-9d97-92e8ef265827",
   "metadata": {},
   "outputs": [
    {
     "name": "stdout",
     "output_type": "stream",
     "text": [
      "{'unit': 'km/s', 'value': 3.35206559623668}\n",
      "93.24003966532386 22.57365939602003\n"
     ]
    }
   ],
   "source": [
    "radv = np.interp(mjd0,mjdcol,radvel)\n",
    "qradv = qa.convert(qa.quantity(radv,'AU/d'),'km/s')\n",
    "raval = np.interp(mjd0,mjdcol,radc)\n",
    "decval= np.interp(mjd0,mjdcol,decdc)\n",
    "rhoval = np.interp(mjd0,mjdcol,rhoc)\n",
    "print(qradv)\n",
    "print(raval,decval)"
   ]
  },
  {
   "cell_type": "code",
   "execution_count": 34,
   "id": "e062ef96-45bc-4e3d-9022-6c287d17ee1b",
   "metadata": {},
   "outputs": [
    {
     "name": "stdout",
     "output_type": "stream",
     "text": [
      "vel={'m0': {'unit': 'm/s', 'value': -3352.06559623668}, 'refer': 'GEO', 'type': 'radialvelocity'}\n",
      "dop={'m0': {'unit': 'm/s', 'value': -3352.084336653307}, 'refer': 'RADIO', 'type': 'doppler'}\n",
      "{'m0': {'unit': 'Hz', 'value': 354501070000.0}, 'refer': 'TOPO', 'type': 'frequency'}\n",
      "expected frequecy at the peak in rest(source) frame: {'m0': {'unit': 'Hz', 'value': 354505033800.4638}, 'refer': 'REST', 'type': 'frequency'}\n",
      "compared to freq_peak from the image = 354504979266.61194 Hz\n"
     ]
    }
   ],
   "source": [
    "# following frequencies are measured on the viewer \n",
    "# imaging with TOPO\n",
    "ftopo = 354.50107*10**9\n",
    "# imaging with LSRK\n",
    "flsrk = 354.48068*10**9\n",
    "vrad = qradv['value']\n",
    "me.doframe(me.observatory('ALMA'))\n",
    "me.doframe(me.epoch(str(mjd0)+'d'))\n",
    "v = me.radialvelocity('GEO',str(-1*vrad)+'km/s')\n",
    "dop=me.todoppler('radio',v)\n",
    "print(f'vel={v}')\n",
    "print(f'dop={dop}')\n",
    "#mfrq = me.frequency('LSRK', qa.quantity(flsrk,'Hz'))\n",
    "mfrq = me.frequency('TOPO', qa.quantity(ftopo,'Hz'))\n",
    "print(mfrq)\n",
    "print('expected frequecy at the peak in rest(source) frame:',me.tofrequency('rest', dop, mfrq))\n",
    "print(f'compared to freq_peak from the image = {f_peak} Hz')"
   ]
  },
  {
   "cell_type": "code",
   "execution_count": 35,
   "id": "1ccd6057-39aa-45bd-a1e5-854660742172",
   "metadata": {},
   "outputs": [
    {
     "name": "stdout",
     "output_type": "stream",
     "text": [
      "diff =  54533.85186767578\n",
      "chan width :  122100.4\n"
     ]
    }
   ],
   "source": [
    "print('diff = ',354505033800.4638-354504979266.61194)\n",
    "print('chan width : ',0.1221004*10**6)"
   ]
  },
  {
   "cell_type": "code",
   "execution_count": null,
   "id": "656f6eac-e81f-4486-b822-b35078e16181",
   "metadata": {},
   "outputs": [],
   "source": []
  }
 ],
 "metadata": {
  "kernelspec": {
   "display_name": "Python 3 (ipykernel)",
   "language": "python",
   "name": "python3"
  },
  "language_info": {
   "codemirror_mode": {
    "name": "ipython",
    "version": 3
   },
   "file_extension": ".py",
   "mimetype": "text/x-python",
   "name": "python",
   "nbconvert_exporter": "python",
   "pygments_lexer": "ipython3",
   "version": "3.8.17"
  }
 },
 "nbformat": 4,
 "nbformat_minor": 5
}
