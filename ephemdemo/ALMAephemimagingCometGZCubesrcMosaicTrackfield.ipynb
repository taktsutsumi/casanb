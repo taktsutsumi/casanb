{
 "cells": [
  {
   "cell_type": "markdown",
   "id": "478b34b7-fac8-4127-96c1-e9ab7e74bb62",
   "metadata": {},
   "source": [
    "# ALMA ephemeris object cube imaging (mosaic) using TRACKFIELD"
   ]
  },
  {
   "cell_type": "markdown",
   "id": "7e21b32a-151b-464f-a99b-0bace43b11f8",
   "metadata": {},
   "source": [
    "## Description"
   ]
  },
  {
   "cell_type": "markdown",
   "id": "f7a37d16-966c-441b-b810-036b14d469ff",
   "metadata": {},
   "source": [
    "The following demo describes cube imaging of ALMA observation of Comet Giacobini-Zinner. \n",
    "For imaigng of the sources that move significantly during the observations, proper ephemeris data need to be used. For the current ALMA data, the epehemeris tables used to track the source during the observation generally included in the ASDM. The task, importasdm attaches the ephemeris table(s) in FIELD sub-table in the generated MS. Here we starts from such MS data and also uses a short cut option called 'TRACKFIELD' in tclean to use the attached ephemeris table(s)."
   ]
  },
  {
   "cell_type": "markdown",
   "id": "e36a831e-a2de-4659-a259-bee144fe1057",
   "metadata": {},
   "source": [
    "## Data"
   ]
  },
  {
   "cell_type": "markdown",
   "id": "e0f8fc59-7b55-4de3-b234-466dc4b12ba0",
   "metadata": {},
   "source": [
    "The dataset used here consists of the two MSes from Band 7 observations separated by 6 days using ACA. Each MS has an ephemeris table approriated for the observation attached. The data is available at /home/casa/data/casatestdata-large."
   ]
  },
  {
   "cell_type": "markdown",
   "id": "bda0f605-7e6b-40e8-b0b5-1cc13fb44be0",
   "metadata": {},
   "source": [
    "## Installation"
   ]
  },
  {
   "cell_type": "markdown",
   "id": "dcc82310-4baf-4245-a547-7120940b000b",
   "metadata": {},
   "source": [
    "### Option 1"
   ]
  },
  {
   "cell_type": "raw",
   "id": "1f496da4-ac65-4e39-96e8-68c99076deff",
   "metadata": {},
   "source": [
    "export PPY=`which python3`\n",
    "virtualenv -p $PPY --setuptools ./local_python3\n",
    "./local_python3/bin/pip install --upgrade pip\n",
    "./local_python3/bin/pip install --upgrade numpy matplotlib ipython astropy\n",
    "./local_python3/bin/pip install --extra-index-url https://casa-pip.nrao.edu/repository/pypi-group/simple casatools\n",
    "./local_python3/bin/pip install --extra-index-url https://casa-pip.nrao.edu/repository/pypi-group/simple casatasks\n",
    "./local_python3/bin/pip3 install jupyter\n",
    "./local_python3/bin/pip3 install aplpy\n",
    "#Following is needed to load utility functions defined in another notebook\n",
    "./local_python3/bin/pip3 install ipympl"
   ]
  },
  {
   "cell_type": "markdown",
   "id": "43413716-f11e-4b9b-b099-c574d3125816",
   "metadata": {},
   "source": [
    "### Option 2 - install at runtime"
   ]
  },
  {
   "cell_type": "raw",
   "id": "cce59526-9062-4b09-964d-2912e705dd7f",
   "metadata": {
    "scrolled": true
   },
   "source": [
    "import os\n",
    "print(\"installing pre-requisite packages...\")\n",
    "\n",
    "os.system(\"apt-get install libgfortran3\")\n",
    "\n",
    "print(\"installing casa...\")\n",
    "os.system(\"pip install --index-url https://casa-pip.nrao.edu:443/repository/pypi-group/simple casatasks==6.2.0.106\")\n",
    "os.system(\"pip install --index-url https://casa-pip.nrao.edu:443/repository/pypi-group/simple casadata\")\n",
    "# extra packages needed\n",
    "os.system(\"pip install aplpy\")\n",
    "os.system(\"pip install ipympl\")\n",
    "print(\"complete\")\n"
   ]
  },
  {
   "cell_type": "markdown",
   "id": "8d1bca02-0dda-4fac-aef2-d677aca4e948",
   "metadata": {},
   "source": [
    "### Import libraries"
   ]
  },
  {
   "cell_type": "code",
   "execution_count": 2,
   "id": "9825647d-e987-4e18-83ff-ce6f66bd8ea5",
   "metadata": {},
   "outputs": [],
   "source": [
    "from casatasks import getephemtable, tclean, exportfits, listobs, imstat, imhead\n",
    "from casatools import measures, quanta, table, image\n",
    "import os\n",
    "from astropy.io import fits\n",
    "from astropy.wcs import WCS\n",
    "from matplotlib import pylab as pl\n",
    "import numpy as np\n",
    "import aplpy\n",
    "me = measures()\n",
    "qa = quanta()\n",
    "tb = table()\n",
    "ia = image()"
   ]
  },
  {
   "cell_type": "markdown",
   "id": "19783c7c-ac37-4535-9850-96086fd28009",
   "metadata": {},
   "source": [
    "#### Import utility functions defined in a separate notebook"
   ]
  },
  {
   "cell_type": "code",
   "execution_count": 3,
   "id": "fe9656ff-2b7d-4b8d-b175-d23a1599dab5",
   "metadata": {},
   "outputs": [],
   "source": [
    "# import helper functions defined in EphemerisObjectImagingDemoFunctions.ipynb, which need to be\n",
    "# present in the directory running the jupyter notebook/jupyter-lab\n",
    "\n",
    "# requires ipynb \n",
    "from ipynb.fs.defs.EphemerisObjectImagingDemoFunctions import *"
   ]
  },
  {
   "cell_type": "markdown",
   "id": "9dd11ecc-d53d-442c-b362-ccdd9e2c8be4",
   "metadata": {},
   "source": [
    "## Imaging with epehemeris data attached to the MS"
   ]
  },
  {
   "cell_type": "markdown",
   "id": "20849272-44c7-4cd7-a446-3c0b85033857",
   "metadata": {},
   "source": [
    "In order to track the ephemeris source during the observations, the proper ephemeris data is used. \n",
    "Ususally such ephemeris data table(s) are attached to the Measurement Set automatically during importadm when they are available. In tclean, the phasecenter parameter can be set to point to the ephemeris table, which can be one attached to the MS (inside FIELD sub-table directory) or an external one. In this demo, we use a shortcut option, 'TRACKFIELD' to use the internal ephemeris table without explicitly specified by ephemeris table name. The spectral frame is set to 'cubesource', which a frame of the source. Note that the frame in the resultant image will be labelled as 'REST'. \n"
   ]
  },
  {
   "cell_type": "code",
   "execution_count": 11,
   "id": "892e77f2-a72d-4060-84d8-42a21250ebb1",
   "metadata": {},
   "outputs": [],
   "source": [
    "datapath='/home/casa/data/casatestdata-large/stakeholder/alma/'\n",
    "# Use local data directory\n",
    "#datapath='/Volumes/ssd1/casatestdata/stakeholder/alma/'"
   ]
  },
  {
   "cell_type": "code",
   "execution_count": 12,
   "id": "7f6431ec-e2ff-479c-9cb2-35f84255eaf6",
   "metadata": {},
   "outputs": [],
   "source": [
    "msfile=[datapath+'2017.1.00750.T_tclean_exe1.ms',datapath+'2017.1.00750.T_tclean_exe2.ms']"
   ]
  },
  {
   "cell_type": "code",
   "execution_count": 13,
   "id": "514f9d77-1824-4934-a0fa-f84320ae6c7c",
   "metadata": {
    "editable": true,
    "slideshow": {
     "slide_type": ""
    },
    "tags": []
   },
   "outputs": [],
   "source": [
    "imgname='21PGZComet-cubesrc-mosaic-trackfield'"
   ]
  },
  {
   "cell_type": "code",
   "execution_count": 9,
   "id": "f780831c-49ce-4801-87b9-59905ef52bf2",
   "metadata": {},
   "outputs": [],
   "source": [
    "delete_tcleanimages(imgname)\n",
    "#delete_tcleanimages(img2name)"
   ]
  },
  {
   "cell_type": "code",
   "execution_count": 10,
   "id": "809c1658-99a9-4d13-ae80-07573a6bd6dd",
   "metadata": {},
   "outputs": [],
   "source": [
    "#os.system(f'cp -r {datapath}{msfile} {msfile}')"
   ]
  },
  {
   "cell_type": "code",
   "execution_count": 11,
   "id": "00e829d8-7162-419c-bfd2-1d12f232a797",
   "metadata": {},
   "outputs": [
    {
     "name": "stderr",
     "output_type": "stream",
     "text": [
      "\n",
      "0%....10....20....30....40....50....60....70....80....90....100%\n",
      "\n",
      "0%....10....20....30....40....50....60....70....80....90....100%\n",
      "\n",
      "0%....10....20....30....40....50....60....70....80....90....100%\n"
     ]
    },
    {
     "data": {
      "text/plain": [
       "339"
      ]
     },
     "execution_count": 11,
     "metadata": {},
     "output_type": "execute_result"
    }
   ],
   "source": [
    "ret=tclean(vis=msfile, field='21PGiacobini-Zinner', spw=['0', '0'], \\\n",
    "            antenna=['0,1,2,3,4,5,6,7,8,9,10,11', '0,1,2,3,4,5,6,7,8,9'], \\\n",
    "            scan=['7,11,15,19,23', '8,12,16,20,24'], \\\n",
    "            intent='OBSERVE_TARGET#ON_SOURCE', datacolumn='data', \\\n",
    "            imagename=imgname, imsize=[80, 80], cell=['0.66arcsec'], \\\n",
    "            phasecenter='TRACKFIELD', stokes='I', specmode='cubesource', \\\n",
    "            nchan=1000, start='354.4452721710GHz', width='0.1221004MHz', perchanweightdensity=True, \\\n",
    "            gridder='mosaic', mosweight=False, \\\n",
    "            usepointing=True, pblimit=0.2, deconvolver='hogbom', \\\n",
    "            restoration=True, restoringbeam='common', pbcor=True, \\\n",
    "            #weighting='briggsbwtaper', robust=0.5, npixels=0, niter=30000, \\\n",
    "            weighting='briggsbwtaper', robust=0.5, npixels=0, niter=100, \\\n",
    "            threshold='0.274Jy', nsigma=0.0, usemask='auto'\n",
    "            '-multithresh', sidelobethreshold=1.25, noisethreshold=5.0, \\\n",
    "            lownoisethreshold=2.0, negativethreshold=0.0, \\\n",
    "            minbeamfrac=0.1, growiterations=75, dogrowprune=True, \\\n",
    "            minpercentchange=1.0, fastnoise=False, restart=True, \\\n",
    "            calcres=True, calcpsf=True, savemodel='none', \\\n",
    "            parallel=False, verbose=True)\n",
    "ret['iterdone']"
   ]
  },
  {
   "cell_type": "markdown",
   "id": "9aa35e49-ff52-40ed-a134-d40375753131",
   "metadata": {},
   "source": [
    "### Examination of the resultant image\n",
    "For displaying the resultant image, first find a peak channel and dispay that channel image."
   ]
  },
  {
   "cell_type": "code",
   "execution_count": 52,
   "id": "c2af0981-3465-447c-9e64-0ef038a624f3",
   "metadata": {},
   "outputs": [
    {
     "name": "stdout",
     "output_type": "stream",
     "text": [
      "488\n"
     ]
    }
   ],
   "source": [
    "# Find a peak channel\n",
    "imstatres = imstat(imgname+'.image')\n",
    "maxchan = imstatres['maxpos'][3]\n",
    "print(maxchan)"
   ]
  },
  {
   "cell_type": "code",
   "execution_count": 15,
   "id": "39868935-a64b-4a5a-abce-3fd730f324ff",
   "metadata": {},
   "outputs": [],
   "source": [
    "# extract the channel image\n",
    "#from casatasks import imsubimage\n",
    "#os.system(f'rm -rf {imgname}ch{maxchan}.image')\n",
    "#imsubimage(imagename=imgname+'.image', outfile=f'{imgname}ch{maxchan}.image', chans=f'{maxchan}')"
   ]
  },
  {
   "cell_type": "code",
   "execution_count": 16,
   "id": "9fc1b0ff-c4f3-4c81-ac33-66ade5a93693",
   "metadata": {},
   "outputs": [
    {
     "name": "stderr",
     "output_type": "stream",
     "text": [
      "WARNING: FITSFixedWarning: 'obsfix' made the change 'Set OBSGEO-L to   -67.754929 from OBSGEO-[XYZ].\n",
      "Set OBSGEO-B to   -23.022886 from OBSGEO-[XYZ].\n",
      "Set OBSGEO-H to     5053.796 from OBSGEO-[XYZ]'. [astropy.wcs.wcs]\n"
     ]
    },
    {
     "data": {
      "text/plain": [
       "<Figure size 2000x1000 with 0 Axes>"
      ]
     },
     "metadata": {},
     "output_type": "display_data"
    },
    {
     "data": {
      "image/png": "[encoded data removed]",
      "text/plain": [
       "<Figure size 640x480 with 2 Axes>"
      ]
     },
     "metadata": {},
     "output_type": "display_data"
    }
   ],
   "source": [
    "dispImage(f'{imgname}.image',chanslice=maxchan, useAstropy=True)"
   ]
  },
  {
   "cell_type": "raw",
   "id": "ea6b57f7-63c1-4948-89d0-6641f6e36a02",
   "metadata": {},
   "source": [
    "The image is stopped with respect to the first time of the MS after the data selection applied. The reference time can be found in the image header."
   ]
  },
  {
   "cell_type": "code",
   "execution_count": 14,
   "id": "19890077-0949-4626-b134-2c9e37e5d9e9",
   "metadata": {},
   "outputs": [
    {
     "name": "stdout",
     "output_type": "stream",
     "text": [
      "2018/09/16/10:15:58.895999\n"
     ]
    }
   ],
   "source": [
    "obsdate = imhead(f'{imgname}.image', mode='list')['date-obs']\n",
    "print(obsdate)"
   ]
  },
  {
   "cell_type": "raw",
   "id": "e468e9a6-039c-4ad7-9248-c152a596ba2e",
   "metadata": {},
   "source": [
    "Using the attached ephemeris table from the first MS in the list, determine the inferred position at the reference time."
   ]
  },
  {
   "cell_type": "code",
   "execution_count": 15,
   "id": "b78b9ae8-fcc1-4f68-86f5-7042a713a2fb",
   "metadata": {},
   "outputs": [],
   "source": [
    "ephemtab = get_attachedEphemtablepath(msfile[0],'21PGiacobini-Zinner')\n",
    "ineph_dir = ephem_dir(ephemtab, obsdate,'ALMA')"
   ]
  },
  {
   "cell_type": "raw",
   "id": "fd6b2c5d-1c4f-41ae-a651-f17ca30f363d",
   "metadata": {},
   "source": [
    "Compare this poisiton with the center of the image"
   ]
  },
  {
   "cell_type": "code",
   "execution_count": 182,
   "id": "68a5445f-0438-4a9e-a26b-a22d24417af5",
   "metadata": {},
   "outputs": [
    {
     "name": "stdout",
     "output_type": "stream",
     "text": [
      "Internal ephem dir =  06:12:57.770 +022.34.20.236\n",
      "Image center: ('06:12:57.770', '+022.34.20.236')\n"
     ]
    }
   ],
   "source": [
    "print(\"Internal ephem dir = \",qa.time(ineph_dir['m0'],prec=9)[0],qa.angle(ineph_dir['m1'],prec=9)[0])\n",
    "print('Image center:',printImageCenter(imgname+'.image'))"
   ]
  },
  {
   "cell_type": "markdown",
   "id": "dfd81e7b-1dca-4034-ad72-93f79cc8c19d",
   "metadata": {},
   "source": [
    " ### Spectral information"
   ]
  },
  {
   "cell_type": "markdown",
   "id": "e3ab61dd-b1e9-4bb4-a377-a55708f8c930",
   "metadata": {},
   "source": [
    "Determine image channel frequency at the peak "
   ]
  },
  {
   "cell_type": "code",
   "execution_count": 49,
   "id": "444b68ff-e670-4bf7-b983-bbf15ddd1cea",
   "metadata": {},
   "outputs": [
    {
     "name": "stdout",
     "output_type": "stream",
     "text": [
      "restfreq: 354505473000.0\n"
     ]
    }
   ],
   "source": [
    "ia.open(f'{imgname}.image')\n",
    "csys = ia.coordsys()\n",
    "csysrec = csys.torecord()\n",
    "ia.done()\n",
    "restfreq = csysrec['spectral2']['restfreq']\n",
    "print('restfreq:',restfreq)"
   ]
  },
  {
   "cell_type": "code",
   "execution_count": 50,
   "id": "f3fba15e-704d-4f38-a9c0-9aa37adbd632",
   "metadata": {},
   "outputs": [],
   "source": [
    "# find image frequency at the peak\n",
    "specaxis=csys.findcoordinate('spectral')['pixel'][0]\n",
    "pixel=csys.referencepixel()"
   ]
  },
  {
   "cell_type": "code",
   "execution_count": 68,
   "id": "18657217-bf83-4afa-b083-7db42e9e04d4",
   "metadata": {},
   "outputs": [
    {
     "name": "stdout",
     "output_type": "stream",
     "text": [
      "{'ar_type': 'absolute', 'numeric': array([ 40.,  40.,   0., 488.]), 'pw_type': 'pixel'}\n",
      "354504857166.2119 Hz\n"
     ]
    }
   ],
   "source": [
    "pixel['numeric'][specaxis] = maxchan\n",
    "print(pixel)\n",
    "f_peak = csys.toworld(pixel)['numeric'][specaxis]\n",
    "# this is different from what I read from the Viewer\n",
    "print(f_peak,'Hz')"
   ]
  },
  {
   "cell_type": "markdown",
   "id": "f45a8c87-6d9d-4e15-9ee3-e87bbced61de",
   "metadata": {},
   "source": [
    "The spectrum is centered around the rest freqeuncy. This roughly indicates that the 'SOURCE' \n",
    "frame trasformation is done correctly. \n",
    "Now, from the radial velocity provided in the ephemeris table, check if the frequency shift is done correctly,."
   ]
  },
  {
   "cell_type": "raw",
   "id": "ab1237aa-4686-467a-9e8d-a968bfebe734",
   "metadata": {},
   "source": [
    "Get the radial velocity at the reference time from the ephemeris table"
   ]
  },
  {
   "cell_type": "code",
   "execution_count": 27,
   "id": "536f92c9-df98-4e91-9657-3b0cf9e71d48",
   "metadata": {},
   "outputs": [
    {
     "name": "stdout",
     "output_type": "stream",
     "text": [
      "58377.427764999986\n"
     ]
    }
   ],
   "source": [
    "# reference time in mjd\n",
    "mjd0=qa.quantity(obsdate,'d')['value']\n",
    "print(mjd0)"
   ]
  },
  {
   "cell_type": "code",
   "execution_count": 28,
   "id": "2fd2e2cf-856f-471e-bd22-1bc6cb02fb20",
   "metadata": {},
   "outputs": [
    {
     "data": {
      "text/plain": [
       "True"
      ]
     },
     "execution_count": 28,
     "metadata": {},
     "output_type": "execute_result"
    }
   ],
   "source": [
    "# Access ephemeris table data\n",
    "tb.open(ephemtab)\n",
    "mjdcol = tb.getcol('MJD')\n",
    "radc = tb.getcol('RA')\n",
    "decdc = tb.getcol('DEC')\n",
    "rhoc = tb.getcol('Rho')\n",
    "radvel=tb.getcol('RadVel')\n",
    "tb.done()"
   ]
  },
  {
   "cell_type": "code",
   "execution_count": 184,
   "id": "80c9a433-0530-43ee-9d97-92e8ef265827",
   "metadata": {},
   "outputs": [
    {
     "name": "stdout",
     "output_type": "stream",
     "text": [
      "{'unit': 'km/s', 'value': 3.35206559623668}\n",
      "['06:12:57.610'] ['+022.34.25.174']\n"
     ]
    }
   ],
   "source": [
    "# Do linear interpolation to get the radial velocity at the reference time\n",
    "radv = np.interp(mjd0,mjdcol,radvel)\n",
    "qradv = qa.convert(qa.quantity(radv,'AU/d'),'km/s')\n",
    "raval = np.interp(mjd0,mjdcol,radc)\n",
    "decval= np.interp(mjd0,mjdcol,decdc)\n",
    "rhoval = np.interp(mjd0,mjdcol,rhoc)\n",
    "print(qradv)\n",
    "print(qa.time(qa.quantity(raval,'deg'),prec=9),qa.angle(qa.quantity(decval,'deg'),prec=9))"
   ]
  },
  {
   "cell_type": "code",
   "execution_count": 112,
   "id": "42977fe7-e4e6-48b6-a676-448bb7b66241",
   "metadata": {},
   "outputs": [],
   "source": [
    "vradkmps = qradv['value']"
   ]
  },
  {
   "cell_type": "markdown",
   "id": "4ac0d26b-a8db-4fb6-9605-c87fc248b4e0",
   "metadata": {},
   "source": [
    "Run imaging with outfrmae = TOPO to compare the frequency at the peak"
   ]
  },
  {
   "cell_type": "code",
   "execution_count": 44,
   "id": "cbd1322d-66fc-482c-bff7-f78c51041995",
   "metadata": {},
   "outputs": [],
   "source": [
    "img2name = '21PGZComet-cube-topo-mosaic-trackfield'"
   ]
  },
  {
   "cell_type": "code",
   "execution_count": 87,
   "id": "d22cc4cf-9569-425b-8945-3838af494675",
   "metadata": {},
   "outputs": [
    {
     "name": "stderr",
     "output_type": "stream",
     "text": [
      "\n",
      "0%....10....20....30....40....50....60....70....80....90....100%\n",
      "\n",
      "0%....10....20....30....40....50....60....70....80....90....100%\n",
      "\n",
      "0%....10....20....30....40....50....60....70....80....90....100%\n"
     ]
    },
    {
     "data": {
      "text/plain": [
       "422"
      ]
     },
     "execution_count": 87,
     "metadata": {},
     "output_type": "execute_result"
    }
   ],
   "source": [
    "ret=tclean(vis=msfile, field='21PGiacobini-Zinner', spw='0', \\\n",
    "            antenna='0,1,2,3,4,5,6,7,8,9,10,11', \\\n",
    "            scan='7,11,15,19,23', \\\n",
    "            intent='OBSERVE_TARGET#ON_SOURCE', datacolumn='data', \\\n",
    "            imagename=img2name, imsize=[80, 80], cell=['0.66arcsec'], \\\n",
    "            phasecenter='TRACKFIELD', stokes='I', specmode='cube', \\\n",
    "            nchan=1000, start='354.4452721710GHz', width='0.1221004MHz', perchanweightdensity=True, outframe='TOPO',\\\n",
    "            gridder='mosaic', mosweight=False, \\\n",
    "            usepointing=True, pblimit=0.2, deconvolver='hogbom', \\\n",
    "            restoration=True, restoringbeam='common', pbcor=True, \\\n",
    "            #weighting='briggsbwtaper', robust=0.5, npixels=0, niter=30000, \\\n",
    "            weighting='briggsbwtaper', robust=0.5, npixels=0, niter=100, \\\n",
    "            threshold='0.274Jy', nsigma=0.0, usemask='auto'\n",
    "            '-multithresh', sidelobethreshold=1.25, noisethreshold=5.0, \\\n",
    "            lownoisethreshold=2.0, negativethreshold=0.0, \\\n",
    "            minbeamfrac=0.1, growiterations=75, dogrowprune=True, \\\n",
    "            minpercentchange=1.0, fastnoise=False, restart=True, \\\n",
    "            calcres=True, calcpsf=True, savemodel='none', \\\n",
    "            parallel=False, verbose=True)\n",
    "ret['iterdone']"
   ]
  },
  {
   "cell_type": "code",
   "execution_count": null,
   "id": "fb133fce-ddc9-40fc-8e12-18ef26cd7b73",
   "metadata": {},
   "outputs": [],
   "source": []
  },
  {
   "cell_type": "code",
   "execution_count": 45,
   "id": "8c51d0fa-77b7-44c5-a95d-d3f3d6dec3d3",
   "metadata": {},
   "outputs": [
    {
     "name": "stdout",
     "output_type": "stream",
     "text": [
      "maxchan in topo image:457\n"
     ]
    }
   ],
   "source": [
    "imstatres = imstat(img2name+'.image')\n",
    "maxchantopo = imstatres['maxpos'][3]\n",
    "print (f'maxchan in topo image:{maxchantopo}')"
   ]
  },
  {
   "cell_type": "code",
   "execution_count": 105,
   "id": "32bf3120-f840-4222-9026-de5d2d1ec1de",
   "metadata": {},
   "outputs": [
    {
     "name": "stderr",
     "output_type": "stream",
     "text": [
      "WARNING: FITSFixedWarning: 'obsfix' made the change 'Set OBSGEO-L to   -67.754929 from OBSGEO-[XYZ].\n",
      "Set OBSGEO-B to   -23.022886 from OBSGEO-[XYZ].\n",
      "Set OBSGEO-H to     5053.796 from OBSGEO-[XYZ]'. [astropy.wcs.wcs]\n"
     ]
    },
    {
     "data": {
      "text/plain": [
       "<Figure size 2000x1000 with 0 Axes>"
      ]
     },
     "metadata": {},
     "output_type": "display_data"
    },
    {
     "data": {
      "image/png": "[encoded data removed]",
      "text/plain": [
       "<Figure size 640x480 with 2 Axes>"
      ]
     },
     "metadata": {},
     "output_type": "display_data"
    }
   ],
   "source": [
    "dispImage(f'{img2name}.image',chanslice=maxchantopo, useAstropy=True)"
   ]
  },
  {
   "cell_type": "code",
   "execution_count": 113,
   "id": "3021f5f6-ff56-4f3a-9391-0ca036c68aa7",
   "metadata": {},
   "outputs": [
    {
     "name": "stdout",
     "output_type": "stream",
     "text": [
      "{'ar_type': 'absolute', 'numeric': array([ 40.,  40.,   0., 457.]), 'pw_type': 'pixel'}\n",
      "354501072053.81116 Hz\n"
     ]
    }
   ],
   "source": [
    "# Find a peak channel frequency in the TOPO image\n",
    "ia.open(f'{img2name}.image')\n",
    "csys = ia.coordsys()\n",
    "ia.done()\n",
    "pixel=csys.referencepixel()\n",
    "pixel['numeric'][specaxis] = maxchantopo\n",
    "print(pixel)\n",
    "ftopo_peak = csys.toworld(pixel)['numeric'][specaxis]\n",
    "# this is different from what I read from the Viewer\n",
    "print(ftopo_peak,'Hz')"
   ]
  },
  {
   "cell_type": "raw",
   "id": "e71babef-1026-420c-a473-b425d538ef16",
   "metadata": {},
   "source": [
    "To shift the frequency in topo to the corresponding frequency in the source frame, we need radial velocity components of the observatory as well as the source's velocity."
   ]
  },
  {
   "cell_type": "code",
   "execution_count": 114,
   "id": "12b4a563-61c1-4bfb-a230-226ba742e747",
   "metadata": {},
   "outputs": [
    {
     "name": "stdout",
     "output_type": "stream",
     "text": [
      "{'m0': {'unit': 'm/s', 'value': 1.1280218379322402}, 'refer': 'GEO', 'type': 'radialvelocity'}\n"
     ]
    }
   ],
   "source": [
    "# geocetric radial velocity of the observatory\n",
    "me.doframe(me.observatory('ALMA'))\n",
    "me.doframe(me.epoch(str(mjd0)+'d'))\n",
    "vobsgeo = me.measure(me.radialvelocity('TOPO', '0.0m/s'),'GEO')\n",
    "print(vobsgeo)"
   ]
  },
  {
   "cell_type": "code",
   "execution_count": 187,
   "id": "1d3d21b1-f027-4e9f-857d-78c284c1d21d",
   "metadata": {},
   "outputs": [
    {
     "name": "stdout",
     "output_type": "stream",
     "text": [
      " expected frequency at peak shifting the topo peak frequency (354501072053.81116) = 354505034520.4104\n",
      " actual peak frequency in cubesrc image = 354504857166.2119\n",
      "f_peak - exp_fpeak =  -177354.19848632812\n"
     ]
    }
   ],
   "source": [
    "# Add the source and observatory velocities. Note for the source's velocity flip the vector so it\n",
    "# point back to the source\n",
    "totvel=-1.*vradkmps*1000. + vobsgeo['m0']['value']\n",
    "# expected shift in freq\n",
    "#v/c = (f0**2 - f**2)/(f0**2 + f**2)\n",
    "velperc = totvel/qa.constants('C')['value']\n",
    "foverf0 = np.sqrt((1-velperc)/(1+velperc))\n",
    "exp_fpeak = ftopo_peak*foverf0\n",
    "print(f' expected frequency at peak shifting the topo peak frequency ({ftopo_peak}) = {exp_fpeak}')\n",
    "print(f' actual peak frequency in cubesrc image = {f_peak}')\n",
    "print(\"f_peak - exp_fpeak = \",f_peak - exp_fpeak)\n",
    "# note that channel width is ~122kHz"
   ]
  },
  {
   "cell_type": "code",
   "execution_count": 189,
   "id": "20ebd26a-bce4-4467-a193-25dcf36e8499",
   "metadata": {},
   "outputs": [
    {
     "name": "stdout",
     "output_type": "stream",
     "text": [
      "qvrad= {'unit': 'km/s', 'value': 3.35206559623668}\n",
      "vel={'m0': {'unit': 'm/s', 'value': -3350.9375743988885}, 'refer': 'GEO', 'type': 'radialvelocity'}\n",
      "dop={'m0': {'unit': 'm/s', 'value': -3350.9563022008015}, 'refer': 'RADIO', 'type': 'doppler'}\n",
      "mfrq={'m0': {'unit': 'Hz', 'value': 354501072053.81116}, 'refer': 'TOPO', 'type': 'frequency'}\n",
      "expected frequecy at the peak in lsrk frame using cubesrc peak frequency: {'m0': {'unit': 'Hz', 'value': 354505034520.4104}, 'refer': 'REST', 'type': 'frequency'}\n",
      "compared to freq_peak from the cubesrc image = 354504857166.2119 Hz\n",
      "-177354.19848632812\n"
     ]
    }
   ],
   "source": [
    "# The same excersise using measure tool\n",
    "# imaging with TOPO\n",
    "me.doframe(me.observatory('ALMA'))\n",
    "me.doframe(me.epoch(str(mjd0)+'d'))\n",
    "print(\"qvrad=\",qradv)\n",
    "modvrad = -1.*qradv['value'] + 1.1280218377914935/1000.\n",
    "mradv = me.radialvelocity('GEO',str(modvrad)+'km/s')\n",
    "dop=me.todoppler('radio', mradv)\n",
    "print(f'vel={mradv}')\n",
    "print(f'dop={dop}')\n",
    "#mfrq = me.frequency('LSRK', qa.quantity(flsrk_peak,'Hz'))\n",
    "mfrq = me.frequency('TOPO', qa.quantity(ftopo_peak,'Hz'))\n",
    "print(f'mfrq={mfrq}')\n",
    "# use 'REST' frame to convert frequency to that of SOURCE frame\n",
    "exp_f_peak = me.tofrequency('REST', dop, me.frequency('REST', qa.quantity(ftopo_peak,'Hz')))\n",
    "#print('expected frequecy at the peak in rest(source) frame using LSRK peak frequency:',exp_f_peak)\n",
    "print('expected frequecy at the peak in lsrk frame using cubesrc peak frequency:',exp_f_peak)\n",
    "print(f'compared to freq_peak from the cubesrc image = {f_peak} Hz')\n",
    "print(f_peak - exp_f_peak['m0']['value'])"
   ]
  },
  {
   "cell_type": "code",
   "execution_count": 65,
   "id": "e88b5498-e1dd-4294-9024-13763365996e",
   "metadata": {},
   "outputs": [
    {
     "name": "stdout",
     "output_type": "stream",
     "text": [
      "diff =  -615839.7006225586\n",
      "chan width :  122100.4\n"
     ]
    }
   ],
   "source": [
    "print('diff = ',f_peak-exp_f_peak['m0']['value'])\n",
    "print('chan width : ',0.1221004*10**6)"
   ]
  },
  {
   "cell_type": "markdown",
   "id": "03edf601-dc33-4ef6-9fef-f4d50650fa92",
   "metadata": {},
   "source": [
    "### Attempt to do the check with astropy...."
   ]
  },
  {
   "cell_type": "code",
   "execution_count": 77,
   "id": "67405a6f-ee0b-4ca1-97c7-783a06021c4f",
   "metadata": {},
   "outputs": [],
   "source": [
    "from astropy import units as u\n",
    "from astropy.coordinates import SpectralCoord, EarthLocation, SkyCoord\n",
    "from astropy.time import Time"
   ]
  },
  {
   "cell_type": "code",
   "execution_count": 137,
   "id": "d216e7aa-5ba0-437f-a108-05ce26fece83",
   "metadata": {},
   "outputs": [
    {
     "name": "stdout",
     "output_type": "stream",
     "text": [
      "{'m0': {'unit': 'm/s', 'value': 3167.1347751957956}, 'refer': 'BARY', 'type': 'radialvelocity'}\n"
     ]
    }
   ],
   "source": [
    "# find the radial velocity in BARY\n",
    "mvrad_bary=me.measure(mradv,'BARY')\n",
    "print(mvrad_bary)"
   ]
  },
  {
   "cell_type": "code",
   "execution_count": 78,
   "id": "a59fa5cb-c60f-489b-983b-6666f042ce4d",
   "metadata": {},
   "outputs": [
    {
     "name": "stdout",
     "output_type": "stream",
     "text": [
      "<ITRS Coordinate (obstime=2018-09-16T10:15:58.896, location=(0., 0., 0.) km): (x, y, z) in m\n",
      "    (2225015.30883296, -5440016.41799762, -2481631.27428014)>\n"
     ]
    }
   ],
   "source": [
    "almaloc = EarthLocation.of_site('ALMA')\n",
    "alma = almaloc.get_itrs(obstime=Time(casadatetoastropydate(obsdate)))\n",
    "print(alma)"
   ]
  },
  {
   "cell_type": "code",
   "execution_count": 174,
   "id": "3665ad5c-e30d-41ae-8898-59e20da9dfc1",
   "metadata": {},
   "outputs": [
    {
     "name": "stdout",
     "output_type": "stream",
     "text": [
      "3167.1347751957956 km / s\n"
     ]
    }
   ],
   "source": [
    "# velocity of the observatory\n",
    "comet = SkyCoord(ra=raval * u.deg, dec=decval * u.deg, radial_velocity=mvrad_bary['m0']['value'] * u.m/ u.s, distance = rhoval * u.AU, frame='icrs')\n",
    "print(obs.radial_velocity)"
   ]
  },
  {
   "cell_type": "code",
   "execution_count": 175,
   "id": "6e79329b-6eec-4615-9985-b0687749ae42",
   "metadata": {},
   "outputs": [],
   "source": [
    "freq_topo = ftopo_peak"
   ]
  },
  {
   "cell_type": "code",
   "execution_count": 176,
   "id": "bdc99989-3488-4c77-b226-63041fc2d74e",
   "metadata": {},
   "outputs": [
    {
     "name": "stdout",
     "output_type": "stream",
     "text": [
      "354501072053.81116 GHz\n",
      "<ITRS Coordinate (obstime=2018-09-16T10:15:58.896, location=(0., 0., 0.) km): (x, y, z) in m\n",
      "    (2225015.30883296, -5440016.41799762, -2481631.27428014)\n",
      " (v_x, v_y, v_z) in km / s\n",
      "    (0., 0., 0.)>\n",
      "<ICRS Coordinate: (ra, dec, distance) in (deg, deg, AU)\n",
      "    (93.24003967, 22.5736594, 0.39746107)\n",
      " (radial_velocity) in m / s\n",
      "    (3167.1347752,)>\n"
     ]
    },
    {
     "name": "stderr",
     "output_type": "stream",
     "text": [
      "WARNING: NoVelocityWarning: No velocity defined on frame, assuming (0., 0., 0.) km / s. [astropy.coordinates.spectral_coordinate]\n"
     ]
    }
   ],
   "source": [
    "sc_comet=SpectralCoord(freq_topo * u.GHz, observer = alma, target=comet)\n",
    "print(sc_comet)\n",
    "print(sc_comet.observer)\n",
    "print(sc_comet.target)"
   ]
  },
  {
   "cell_type": "code",
   "execution_count": 177,
   "id": "b007af66-278b-4eab-808c-37bd40b0e61e",
   "metadata": {},
   "outputs": [
    {
     "name": "stdout",
     "output_type": "stream",
     "text": [
      "-8909.481420486665 m / s\n"
     ]
    }
   ],
   "source": [
    "retgcrs=sc_comet.with_observer_stationary_relative_to('gcrs')\n",
    "print(retgcrs.radial_velocity)"
   ]
  },
  {
   "cell_type": "code",
   "execution_count": 178,
   "id": "a531232f-9fee-449e-a18d-b1b94a742089",
   "metadata": {},
   "outputs": [
    {
     "name": "stdout",
     "output_type": "stream",
     "text": [
      "1558.4059059114545 m / s\n"
     ]
    }
   ],
   "source": [
    "reticrs=sc_comet.with_observer_stationary_relative_to('icrs')\n",
    "print(reticrs.radial_velocity)"
   ]
  },
  {
   "cell_type": "code",
   "execution_count": 179,
   "id": "6766110f-fd1b-496c-baf8-89ca461da6f5",
   "metadata": {},
   "outputs": [
    {
     "name": "stdout",
     "output_type": "stream",
     "text": [
      "-4091.981543667804 m / s\n"
     ]
    }
   ],
   "source": [
    "retlsrk=sc_comet.with_observer_stationary_relative_to('lsrk')\n",
    "print(retlsrk.radial_velocity)"
   ]
  },
  {
   "cell_type": "code",
   "execution_count": 180,
   "id": "eb4c60aa-78d0-4524-97c6-e82051d2de2d",
   "metadata": {},
   "outputs": [
    {
     "name": "stdout",
     "output_type": "stream",
     "text": [
      "-1.8694966592805056e-13 m / s\n",
      "freq=354.49005681120764 (actual 354.50485716621193)\n"
     ]
    }
   ],
   "source": [
    "ret=sc_comet.with_observer_stationary_relative_to(sc_comet.target)\n",
    "print(ret.radial_velocity)\n",
    "print(f'freq={ret.value/10**9} (actual {f_peak/10**9})')"
   ]
  },
  {
   "cell_type": "code",
   "execution_count": 181,
   "id": "84ec0313-be10-4cf5-bb3c-20148aae658a",
   "metadata": {},
   "outputs": [
    {
     "name": "stdout",
     "output_type": "stream",
     "text": [
      "diff in freq (freq - actual ) : -14800355.004272461\n"
     ]
    }
   ],
   "source": [
    "print(f'diff in freq (freq - actual ) : {ret.value - f_peak}')"
   ]
  }
 ],
 "metadata": {
  "kernelspec": {
   "display_name": "Python 3 (ipykernel)",
   "language": "python",
   "name": "python3"
  },
  "language_info": {
   "codemirror_mode": {
    "name": "ipython",
    "version": 3
   },
   "file_extension": ".py",
   "mimetype": "text/x-python",
   "name": "python",
   "nbconvert_exporter": "python",
   "pygments_lexer": "ipython3",
   "version": "3.8.17"
  }
 },
 "nbformat": 4,
 "nbformat_minor": 5
}
