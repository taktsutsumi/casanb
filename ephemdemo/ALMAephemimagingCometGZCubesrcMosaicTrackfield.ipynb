{
 "cells": [
  {
   "cell_type": "markdown",
   "id": "478b34b7-fac8-4127-96c1-e9ab7e74bb62",
   "metadata": {},
   "source": [
    "# Ephemeris object cube imaging (mosaic)\n",
    "\n",
    "## Comet Giacobini-Zinner  - TRACKFIELD"
   ]
  },
  {
   "cell_type": "markdown",
   "id": "f7a37d16-966c-441b-b810-036b14d469ff",
   "metadata": {},
   "source": [
    "For imaigng of the sources that move significantly during the observations, proper ephemeris data need to be used. The following demo is one of the stadard procudures for processing of such data."
   ]
  },
  {
   "cell_type": "code",
   "execution_count": 3,
   "id": "bc161f1a-baf3-4f18-80af-239f768d8214",
   "metadata": {
    "scrolled": true
   },
   "outputs": [],
   "source": [
    "# extra packages needed\n",
    "#import os\n",
    "#os.system('pip install astropy')\n",
    "#os.system('pip install aplpy')\n",
    "#!pip install ipympl"
   ]
  },
  {
   "cell_type": "code",
   "execution_count": 4,
   "id": "9825647d-e987-4e18-83ff-ce6f66bd8ea5",
   "metadata": {},
   "outputs": [],
   "source": [
    "from casatasks import getephemtable, tclean, exportfits, listobs, imstat, imhead\n",
    "from casatools import measures, quanta, table, image\n",
    "import os\n",
    "from astropy.io import fits\n",
    "from astropy.wcs import WCS\n",
    "from matplotlib import pylab as pl\n",
    "import numpy as np\n",
    "import aplpy\n",
    "me = measures()\n",
    "qa = quanta()\n",
    "tb = table()\n",
    "ia = image()"
   ]
  },
  {
   "cell_type": "markdown",
   "id": "4acbd38d-6b33-4492-9085-445a8475a9e0",
   "metadata": {},
   "source": [
    "Define some useful funcitons\n",
    "delete_tcleanimages: delete previous images from tclean run\n",
    "get_attachedEphemtablepath: returns full eph table path for the corresponding field id"
   ]
  },
  {
   "cell_type": "code",
   "execution_count": 5,
   "id": "09b8deed-32db-490f-b13f-b2b07b1eb986",
   "metadata": {},
   "outputs": [],
   "source": [
    "def delete_tcleanimages(imagename):\n",
    "    ''' clean up images from a previous run '''\n",
    "    imtypes = ['residual', 'image', 'psf', 'pb', 'model', 'sumwt', 'weight']\n",
    "    for type in imtypes:\n",
    "        if os.path.exists(f'{imagename}.{type}'):\n",
    "            os.system(f'rm -rf {imagename}.{type}')"
   ]
  },
  {
   "cell_type": "code",
   "execution_count": 6,
   "id": "bb07c821-d313-496f-a74c-4b326a11862c",
   "metadata": {},
   "outputs": [],
   "source": [
    "def get_attachedEphemtablepath(msfile, fieldname):\n",
    "    ''' returns full path of attached eph table for a specified field ID'''\n",
    "    from casatools import table, msmetadata\n",
    "    import glob\n",
    "    _tb = table()\n",
    "    _msmd = msmetadata()\n",
    "    _msmd.open(msfile)\n",
    "    fieldid = _msmd.fieldsforname(fieldname)[0]\n",
    "    _msmd.close()\n",
    "    _tb.open(msfile+'/FIELD')\n",
    "    ephemid = _tb.getcell('EPHEMERIS_ID',fieldid)\n",
    "    _tb.close()\n",
    "    tabname = glob.glob(f'{msfile}/FIELD/EPHEM{ephemid}*/')\n",
    "    return tabname[0]\n",
    "    "
   ]
  },
  {
   "cell_type": "code",
   "execution_count": 7,
   "id": "b070c40b-1482-4ac6-a9dc-5c6a72286f66",
   "metadata": {},
   "outputs": [],
   "source": [
    "def ephem_dir(ephemtab, refep, observatory):\n",
    "    from casatools import measures\n",
    "    _me = measures()\n",
    "    _me.framecomet(ephemtab)\n",
    "    _me.doframe(_me.observatory(observatory))\n",
    "    _me.doframe(_me.epoch('utc',refep))\n",
    "    return _me.measure(_me.measure(_me.direction('COMET'), 'AZELGEO'),'ICRS')"
   ]
  },
  {
   "cell_type": "markdown",
   "id": "9dd11ecc-d53d-442c-b362-ccdd9e2c8be4",
   "metadata": {},
   "source": [
    "## Imaging with epehemeris data attached to the MS"
   ]
  },
  {
   "cell_type": "markdown",
   "id": "20849272-44c7-4cd7-a446-3c0b85033857",
   "metadata": {},
   "source": [
    "In order to track the ephemeris source during the observations, the proper ephemeris data is used. \n",
    "Ususally such ephemeris data table(s) are attached to the Measurement Set automatically during importadm when they are available.\n"
   ]
  },
  {
   "cell_type": "code",
   "execution_count": 8,
   "id": "892e77f2-a72d-4060-84d8-42a21250ebb1",
   "metadata": {},
   "outputs": [],
   "source": [
    "datapath='/home/casa/data/casatestdata-large/stakeholder/alma/'\n",
    "# Use local data directory\n",
    "#datapath='/Volumes/ssd1/casatestdata/stakeholder/alma/'"
   ]
  },
  {
   "cell_type": "code",
   "execution_count": 9,
   "id": "7f6431ec-e2ff-479c-9cb2-35f84255eaf6",
   "metadata": {},
   "outputs": [],
   "source": [
    "msfile=[datapath+'2017.1.00750.T_tclean_exe1.ms',datapath+'2017.1.00750.T_tclean_exe2.ms']"
   ]
  },
  {
   "cell_type": "code",
   "execution_count": 10,
   "id": "514f9d77-1824-4934-a0fa-f84320ae6c7c",
   "metadata": {
    "editable": true,
    "slideshow": {
     "slide_type": ""
    },
    "tags": []
   },
   "outputs": [],
   "source": [
    "imgname='21PGZComet-cubesrc-mosaic-trackfield'"
   ]
  },
  {
   "cell_type": "code",
   "execution_count": 11,
   "id": "f780831c-49ce-4801-87b9-59905ef52bf2",
   "metadata": {},
   "outputs": [],
   "source": [
    "delete_tcleanimages(imgname)"
   ]
  },
  {
   "cell_type": "code",
   "execution_count": 12,
   "id": "809c1658-99a9-4d13-ae80-07573a6bd6dd",
   "metadata": {},
   "outputs": [],
   "source": [
    "#os.system(f'cp -r {datapath}{msfile} {msfile}')"
   ]
  },
  {
   "cell_type": "code",
   "execution_count": 13,
   "id": "00e829d8-7162-419c-bfd2-1d12f232a797",
   "metadata": {},
   "outputs": [
    {
     "name": "stderr",
     "output_type": "stream",
     "text": [
      "\n",
      "0%....10....20....30....40....50....60....70....80....90....100%\n",
      "\n",
      "0%....10....20....30....40....50....60....70....80....90....100%\n",
      "\n",
      "0%....10....20....30....40....50....60....70....80....90....100%\n"
     ]
    },
    {
     "data": {
      "text/plain": [
       "339"
      ]
     },
     "execution_count": 13,
     "metadata": {},
     "output_type": "execute_result"
    }
   ],
   "source": [
    "ret=tclean(vis=msfile, field='21PGiacobini-Zinner', spw=['0', '0'], \\\n",
    "            antenna=['0,1,2,3,4,5,6,7,8,9,10,11', '0,1,2,3,4,5,6,7,8,9'], \\\n",
    "            scan=['7,11,15,19,23', '8,12,16,20,24'], \\\n",
    "            intent='OBSERVE_TARGET#ON_SOURCE', datacolumn='data', \\\n",
    "            imagename=imgname, imsize=[80, 80], cell=['0.66arcsec'], \\\n",
    "            phasecenter='TRACKFIELD', stokes='I', specmode='cubesource', \\\n",
    "            nchan=1000, start='354.4452721710GHz', width='0.1221004MHz', perchanweightdensity=True, \\\n",
    "            gridder='mosaic', mosweight=False, \\\n",
    "            usepointing=True, pblimit=0.2, deconvolver='hogbom', \\\n",
    "            restoration=True, restoringbeam='common', pbcor=True, \\\n",
    "            #weighting='briggsbwtaper', robust=0.5, npixels=0, niter=30000, \\\n",
    "            weighting='briggsbwtaper', robust=0.5, npixels=0, niter=100, \\\n",
    "            threshold='0.274Jy', nsigma=0.0, usemask='auto'\n",
    "            '-multithresh', sidelobethreshold=1.25, noisethreshold=5.0, \\\n",
    "            lownoisethreshold=2.0, negativethreshold=0.0, \\\n",
    "            minbeamfrac=0.1, growiterations=75, dogrowprune=True, \\\n",
    "            minpercentchange=1.0, fastnoise=False, restart=True, \\\n",
    "            calcres=True, calcpsf=True, savemodel='none', \\\n",
    "            parallel=False, verbose=True)\n",
    "ret['iterdone']"
   ]
  },
  {
   "cell_type": "markdown",
   "id": "33378344-c85f-4897-8a36-391837f6e215",
   "metadata": {},
   "source": [
    "Convert a CASA image to FITS image for displaying the image via aplpy"
   ]
  },
  {
   "cell_type": "code",
   "execution_count": 14,
   "id": "b5bebfc8-792a-4dff-af71-25af0d7cca81",
   "metadata": {},
   "outputs": [],
   "source": [
    "# SPECSYS=SOURCE is not yet supported in astropy?\n",
    "def displayImage(imgname, markers={}, title=''):\n",
    "    ''' convert casa image to fits and display the fits image'''\n",
    "    # export to a FITS image (overwrite if the output exists)\n",
    "    fitsimagename = imgname+'fits'\n",
    "    exportfits(imagename=imgname, fitsimage=fitsimagename, overwrite=True)\n",
    "    fits.setval(fitsimagename, 'TIMESYS', value='utc')\n",
    "    # REST (SOURCE) is not yet supported in astropy ?\n",
    "    # for time being set to LSRK so the image can be displayed\n",
    "    fits.setval(fitsimagename, 'SPECSYS', value='LSRK')\n",
    "    fig = pl.figure(figsize=(15,15))\n",
    "    #fig = pl.figure()\n",
    "    #fig.add_subplot(121)\n",
    "    img = aplpy.FITSFigure(fitsimagename, subplot=[0.1,0.1,0.4,0.5])\n",
    "    img.show_colorscale()\n",
    "    if markers!={}:\n",
    "       img.show_markers(markers['ra'], markers['dec'], edgecolor='red', marker='o',s=10, alpha=0.5)\n",
    "    pl.title(title)\n",
    "    #fig.canvas.draw()\n",
    "    print(printImageCenter(imgname))\n",
    "    ax2 = pl.add_axes([0.6,0.1,0.8,0.5])\n",
    "    ia.open(imgname)\n",
    "    pix = ia.getchunk()\n",
    "    shp = ia.shape()\n",
    "    ia.close()\n",
    "    ploc = np.where( pix == pix.max() )\n",
    "    pl.plot(pix[ploc[0][0], ploc[1][0],0,:])\n",
    "    pl.title('Spectrum at source peak')\n",
    "    pl.xlabel('Channel')"
   ]
  },
  {
   "cell_type": "code",
   "execution_count": 33,
   "id": "0be5313d-85ce-48c6-a234-02b483a1ef28",
   "metadata": {},
   "outputs": [],
   "source": [
    "def printImageCenter(imgname):\n",
    "    from casatools import image, quanta\n",
    "    _ia = image()\n",
    "    _qa = quanta()\n",
    "    _ia.open(imgname)\n",
    "    shape = _ia.shape()\n",
    "    csys = _ia.coordsys()\n",
    "    center = csys.toworld([shape[0]/2.,shape[1]/2.])\n",
    "    _ia.done()\n",
    "    return _qa.time(_qa.quantity(center['numeric'][0], 'rad'),prec=9)[0], _qa.angle(_qa.quantity(center['numeric'][1],'rad'),prec=9)[0]\n"
   ]
  },
  {
   "cell_type": "code",
   "execution_count": 16,
   "id": "bd0d6de8-5a44-4ebc-9b11-7cafc794befb",
   "metadata": {},
   "outputs": [],
   "source": [
    "# another way to display image (from CASADocs simulation example )\n",
    "def dispAstropy(imname='sim_onepoint_true.im', chanslice=0):\n",
    "        exportfits(imagename=imname, fitsimage=imname+'.fits', overwrite=True)\n",
    "        hdu = fits.open(imname+'.fits')[0]\n",
    "       # print(hdu.header)\n",
    "        wcs = WCS(hdu.header,naxis=2)\n",
    "        fig = pl.figure()\n",
    "        fig.add_subplot(121, projection=wcs)\n",
    "        pl.imshow(hdu.data[0,chanslice,:,:], origin='lower', cmap=pl.cm.viridis)\n",
    "        pl.xlabel('RA')\n",
    "        pl.ylabel('Dec')\n",
    "\n",
    "\n",
    "def dispImage(imname='sim_onepoint_true.im', chanslice=0, useAstropy=False):\n",
    "    from casatools import image\n",
    "    _ia = image()\n",
    "    _ia.open(imname)\n",
    "    pix = _ia.getchunk()\n",
    "    shp = _ia.shape()\n",
    "    _ia.close()\n",
    "    pl.figure(figsize=(20,10))\n",
    "    pl.clf()\n",
    "    #if shp[3]>1:   \n",
    "    if useAstropy==False:\n",
    "        pl.subplot(121)\n",
    "        pl.imshow(pix[chanslice,0,:,:])\n",
    "        pl.title(f'Image from channel {chanslice}')\n",
    "    else:\n",
    "        dispAstropy(imname,chanslice)\n",
    "        #displayImage(imname)\n",
    "    if shp[3]>1:\n",
    "        pl.subplot(122)\n",
    "        ploc = np.where( pix == pix.max() )\n",
    "        pl.plot(pix[ploc[0][0], ploc[1][0],0,:])\n",
    "        pl.title('Spectrum at source peak')\n",
    "        pl.xlabel('Channel')\n",
    "\n",
    "def casadatetoastropydate(casadatestring):\n",
    "    datelist = casadatestring.split('/')\n",
    "    retstr=''\n",
    "    if len(datelist)==4:\n",
    "        retstr=datelist[0]+'-'+datelist[1]+'-'+datelist[2]+'T'+datelist[3]\n",
    "    return retstr    "
   ]
  },
  {
   "cell_type": "code",
   "execution_count": 17,
   "id": "c2af0981-3465-447c-9e64-0ef038a624f3",
   "metadata": {},
   "outputs": [
    {
     "name": "stdout",
     "output_type": "stream",
     "text": [
      "488\n"
     ]
    }
   ],
   "source": [
    "imstatres = imstat(imgname+'.image')\n",
    "maxchan = imstatres['maxpos'][3]\n",
    "print(maxchan)"
   ]
  },
  {
   "cell_type": "code",
   "execution_count": 19,
   "id": "39868935-a64b-4a5a-abce-3fd730f324ff",
   "metadata": {},
   "outputs": [],
   "source": [
    "# extract the channel image\n",
    "#from casatasks import imsubimage\n",
    "#os.system(f'rm -rf {imgname}ch{maxchan}.image')\n",
    "#imsubimage(imagename=imgname+'.image', outfile=f'{imgname}ch{maxchan}.image', chans=f'{maxchan}')"
   ]
  },
  {
   "cell_type": "code",
   "execution_count": 18,
   "id": "9fc1b0ff-c4f3-4c81-ac33-66ade5a93693",
   "metadata": {},
   "outputs": [
    {
     "name": "stderr",
     "output_type": "stream",
     "text": [
      "WARNING: FITSFixedWarning: 'obsfix' made the change 'Set OBSGEO-L to   -67.754929 from OBSGEO-[XYZ].\n",
      "Set OBSGEO-B to   -23.022886 from OBSGEO-[XYZ].\n",
      "Set OBSGEO-H to     5053.796 from OBSGEO-[XYZ]'. [astropy.wcs.wcs]\n"
     ]
    },
    {
     "data": {
      "text/plain": [
       "<Figure size 2000x1000 with 0 Axes>"
      ]
     },
     "metadata": {},
     "output_type": "display_data"
    },
    {
     "data": {
      "image/png": "[encoded data removed]",
      "text/plain": [
       "<Figure size 640x480 with 2 Axes>"
      ]
     },
     "metadata": {},
     "output_type": "display_data"
    }
   ],
   "source": [
    "dispImage(f'{imgname}.image',chanslice=maxchan, useAstropy=True)"
   ]
  },
  {
   "cell_type": "code",
   "execution_count": 20,
   "id": "19890077-0949-4626-b134-2c9e37e5d9e9",
   "metadata": {},
   "outputs": [
    {
     "name": "stdout",
     "output_type": "stream",
     "text": [
      "2018/09/16/10:15:58.895999\n"
     ]
    }
   ],
   "source": [
    "obsdate = imhead(f'{imgname}.image', mode='list')['date-obs']\n",
    "print(obsdate)"
   ]
  },
  {
   "cell_type": "code",
   "execution_count": 21,
   "id": "b78b9ae8-fcc1-4f68-86f5-7042a713a2fb",
   "metadata": {},
   "outputs": [],
   "source": [
    "ephemtab = get_attachedEphemtablepath(msfile[0],'21PGiacobini-Zinner')\n",
    "ineph_dir = ephem_dir(ephemtab, obsdate,'ALMA')"
   ]
  },
  {
   "cell_type": "code",
   "execution_count": 22,
   "id": "68a5445f-0438-4a9e-a26b-a22d24417af5",
   "metadata": {},
   "outputs": [
    {
     "name": "stdout",
     "output_type": "stream",
     "text": [
      "internal ephem dir =  06:12:57.770 +022.34.20.236\n",
      "image center: ('06:12:57.770', '+022.34.20.236')\n"
     ]
    }
   ],
   "source": [
    "print(\"internal ephem dir = \",qa.time(ineph_dir['m0'],prec=9)[0],qa.angle(ineph_dir['m1'],prec=9)[0])\n",
    "print('image center:',printImageCenter(imgname+'.image'))"
   ]
  },
  {
   "cell_type": "markdown",
   "id": "e3ab61dd-b1e9-4bb4-a377-a55708f8c930",
   "metadata": {},
   "source": [
    "Determine image channel frequency at the peak "
   ]
  },
  {
   "cell_type": "code",
   "execution_count": 23,
   "id": "444b68ff-e670-4bf7-b983-bbf15ddd1cea",
   "metadata": {},
   "outputs": [
    {
     "name": "stdout",
     "output_type": "stream",
     "text": [
      "restfreq: 354505473000.0\n"
     ]
    }
   ],
   "source": [
    "ia.open(f'{imgname}.image')\n",
    "csys = ia.coordsys()\n",
    "csysrec = csys.torecord()\n",
    "ia.done()\n",
    "restfreq = csysrec['spectral2']['restfreq']\n",
    "print('restfreq:',restfreq)"
   ]
  },
  {
   "cell_type": "code",
   "execution_count": 24,
   "id": "f3fba15e-704d-4f38-a9c0-9aa37adbd632",
   "metadata": {},
   "outputs": [],
   "source": [
    "# find image frequency at the peak\n",
    "specaxis=csys.findcoordinate('spectral')['pixel'][0]\n",
    "pixel=csys.referencepixel()"
   ]
  },
  {
   "cell_type": "code",
   "execution_count": 25,
   "id": "18657217-bf83-4afa-b083-7db42e9e04d4",
   "metadata": {},
   "outputs": [
    {
     "name": "stdout",
     "output_type": "stream",
     "text": [
      "{'ar_type': 'absolute', 'numeric': array([ 40.,  40.,   0., 488.]), 'pw_type': 'pixel'}\n",
      "354504857166.2119 Hz\n"
     ]
    }
   ],
   "source": [
    "pixel['numeric'][specaxis] = 488\n",
    "print(pixel)\n",
    "f_peak = csys.toworld(pixel)['numeric'][specaxis]\n",
    "# this is different from what I read from the Viewer\n",
    "print(f_peak,'Hz')"
   ]
  },
  {
   "cell_type": "markdown",
   "id": "f45a8c87-6d9d-4e15-9ee3-e87bbced61de",
   "metadata": {},
   "source": [
    "The spectrum is centered around the rest freqeuncy. This roughly indicates that the 'SOURCE' \n",
    "frame trasformation is done correctly."
   ]
  },
  {
   "cell_type": "code",
   "execution_count": 26,
   "id": "38ff6446-fa42-431a-b93a-8faf3bc8280e",
   "metadata": {},
   "outputs": [],
   "source": [
    "#print(casadatetoastropydate(obsdate))"
   ]
  },
  {
   "cell_type": "code",
   "execution_count": 27,
   "id": "f7aa915a-ac12-48a2-b150-33c509334c41",
   "metadata": {},
   "outputs": [
    {
     "name": "stdout",
     "output_type": "stream",
     "text": [
      "{'m0': {'unit': 'rad', 'value': 1.6273353091131537}, 'm1': {'unit': 'rad', 'value': 0.39388505484928327}, 'refer': 'ICRS', 'type': 'direction'}\n"
     ]
    }
   ],
   "source": [
    "from casatools import measures\n",
    "ephemtab = get_attachedEphemtablepath(msfile[0], '21PGiacobini-Zinner')\n",
    "me.framecomet(ephemtab)\n",
    "me.doframe(me.observatory('ALMA'))\n",
    "me.doframe(me.epoch('utc',obsdate))\n",
    "cometpos = me.measure(me.direction('COMET'),'ICRS')\n",
    "print(cometpos)"
   ]
  },
  {
   "cell_type": "code",
   "execution_count": 28,
   "id": "536f92c9-df98-4e91-9657-3b0cf9e71d48",
   "metadata": {},
   "outputs": [
    {
     "name": "stdout",
     "output_type": "stream",
     "text": [
      "58377.427764999986\n"
     ]
    }
   ],
   "source": [
    "# reference time \n",
    "mjd0=qa.quantity(obsdate,'d')['value']\n",
    "print(mjd0)"
   ]
  },
  {
   "cell_type": "code",
   "execution_count": 29,
   "id": "2fd2e2cf-856f-471e-bd22-1bc6cb02fb20",
   "metadata": {},
   "outputs": [
    {
     "data": {
      "text/plain": [
       "True"
      ]
     },
     "execution_count": 29,
     "metadata": {},
     "output_type": "execute_result"
    }
   ],
   "source": [
    "# from the epehemeris table get radial velociity at the ref time (first timestamp)\n",
    "tb.open(ephemtab)\n",
    "mjdcol = tb.getcol('MJD')\n",
    "#indx = np.abs(mjdcol - mjd0).argmin()\n",
    "#radvel = tb.getcell('RadVel',indx)\n",
    "radc = tb.getcol('RA')\n",
    "decdc = tb.getcol('DEC')\n",
    "rhoc = tb.getcol('Rho')\n",
    "radvel=tb.getcol('RadVel')\n",
    "tb.done()"
   ]
  },
  {
   "cell_type": "code",
   "execution_count": 30,
   "id": "80c9a433-0530-43ee-9d97-92e8ef265827",
   "metadata": {},
   "outputs": [
    {
     "name": "stdout",
     "output_type": "stream",
     "text": [
      "{'unit': 'km/s', 'value': 3.35206559623668}\n",
      "93.24003966532386 22.57365939602003\n"
     ]
    }
   ],
   "source": [
    "radv = np.interp(mjd0,mjdcol,radvel)\n",
    "qradv = qa.convert(qa.quantity(radv,'AU/d'),'km/s')\n",
    "raval = np.interp(mjd0,mjdcol,radc)\n",
    "decval= np.interp(mjd0,mjdcol,decdc)\n",
    "rhoval = np.interp(mjd0,mjdcol,rhoc)\n",
    "print(qradv)\n",
    "print(raval,decval)"
   ]
  },
  {
   "cell_type": "code",
   "execution_count": 31,
   "id": "20ebd26a-bce4-4467-a193-25dcf36e8499",
   "metadata": {},
   "outputs": [
    {
     "name": "stdout",
     "output_type": "stream",
     "text": [
      "vel={'m0': {'unit': 'm/s', 'value': -3352.06559623668}, 'refer': 'GEO', 'type': 'radialvelocity'}\n",
      "dop={'m0': {'unit': 'm/s', 'value': -3352.084336653307}, 'refer': 'RADIO', 'type': 'doppler'}\n",
      "{'m0': {'unit': 'Hz', 'value': 354501070000.0}, 'refer': 'TOPO', 'type': 'frequency'}\n",
      "expected frequecy at the peak in rest(source) frame: {'m0': {'unit': 'Hz', 'value': 354505033800.4638}, 'refer': 'REST', 'type': 'frequency'}\n",
      "compared to freq_peak from the image = 354504857166.2119 Hz\n"
     ]
    }
   ],
   "source": [
    "# following frequencies are measured on the viewer \n",
    "# imaging with TOPO\n",
    "ftopo = 354.50107*10**9\n",
    "# imaging with LSRK\n",
    "flsrk = 354.48068*10**9\n",
    "vrad = qradv['value']\n",
    "me.doframe(me.observatory('ALMA'))\n",
    "me.doframe(me.epoch(str(mjd0)+'d'))\n",
    "v = me.radialvelocity('GEO',str(-1*vrad)+'km/s')\n",
    "dop=me.todoppler('radio',v)\n",
    "print(f'vel={v}')\n",
    "print(f'dop={dop}')\n",
    "#mfrq = me.frequency('LSRK', qa.quantity(flsrk,'Hz'))\n",
    "mfrq = me.frequency('TOPO', qa.quantity(ftopo,'Hz'))\n",
    "print(mfrq)\n",
    "print('expected frequecy at the peak in rest(source) frame:',me.tofrequency('rest', dop, mfrq))\n",
    "print(f'compared to freq_peak from the image = {f_peak} Hz')"
   ]
  },
  {
   "cell_type": "code",
   "execution_count": 32,
   "id": "e88b5498-e1dd-4294-9024-13763365996e",
   "metadata": {},
   "outputs": [
    {
     "name": "stdout",
     "output_type": "stream",
     "text": [
      "diff =  54533.85186767578\n",
      "chan width :  122100.4\n"
     ]
    }
   ],
   "source": [
    "print('diff = ',354505033800.4638-354504979266.61194)\n",
    "print('chan width : ',0.1221004*10**6)"
   ]
  },
  {
   "cell_type": "markdown",
   "id": "03edf601-dc33-4ef6-9fef-f4d50650fa92",
   "metadata": {},
   "source": [
    "### Attempt to do the check with astropy...."
   ]
  },
  {
   "cell_type": "code",
   "execution_count": 31,
   "id": "67405a6f-ee0b-4ca1-97c7-783a06021c4f",
   "metadata": {},
   "outputs": [],
   "source": [
    "from astropy import units as u\n",
    "from astropy.coordinates import SpectralCoord, EarthLocation, SkyCoord\n",
    "from astropy.time import Time"
   ]
  },
  {
   "cell_type": "code",
   "execution_count": 32,
   "id": "a59fa5cb-c60f-489b-983b-6666f042ce4d",
   "metadata": {},
   "outputs": [
    {
     "name": "stdout",
     "output_type": "stream",
     "text": [
      "<ITRS Coordinate (obstime=2018-09-16T10:15:58.896, location=(0., 0., 0.) km): (x, y, z) in m\n",
      "    (2225015.30883296, -5440016.41799762, -2481631.27428014)>\n"
     ]
    }
   ],
   "source": [
    "almaloc = EarthLocation.of_site('ALMA')\n",
    "alma = almaloc.get_itrs(obstime=Time(casadatetoastropydate(obsdate)))\n",
    "print(alma)"
   ]
  },
  {
   "cell_type": "code",
   "execution_count": 33,
   "id": "64b0dbe4-1d5a-43fa-adc7-3a4d25b9bcc9",
   "metadata": {},
   "outputs": [
    {
     "name": "stdout",
     "output_type": "stream",
     "text": [
      "<SkyCoord (GCRS: obstime=J2000.000, obsgeoloc=(0., 0., 0.) m, obsgeovel=(0., 0., 0.) m / s): (ra, dec, distance) in (deg, deg, AU)\n",
      "    (93.24003967, 22.5736594, 0.39746107)\n",
      " (radial_velocity) in km / s\n",
      "    (3.3520656,)>\n"
     ]
    }
   ],
   "source": [
    "comet = SkyCoord(ra=raval * u.deg, dec=decval * u.deg, frame='gcrs', radial_velocity=qradv['value'] * u.km/  u.s, distance = rhoval * u.AU)\n",
    "print(comet)"
   ]
  },
  {
   "cell_type": "code",
   "execution_count": 34,
   "id": "3949439f-fb21-48df-9056-37ee6f704f38",
   "metadata": {},
   "outputs": [
    {
     "name": "stdout",
     "output_type": "stream",
     "text": [
      "[354.500098 354.5011  ]\n"
     ]
    }
   ],
   "source": [
    "freqs_topo =np.array([354.500098,354.5011])\n",
    "print(freqs_topo)"
   ]
  },
  {
   "cell_type": "code",
   "execution_count": 35,
   "id": "bdc99989-3488-4c77-b226-63041fc2d74e",
   "metadata": {},
   "outputs": [
    {
     "name": "stderr",
     "output_type": "stream",
     "text": [
      "WARNING: NoVelocityWarning: No velocity defined on frame, assuming (0., 0., 0.) km / s. [astropy.coordinates.spectral_coordinate]\n"
     ]
    },
    {
     "data": {
      "text/latex": [
       "$[354.5001,~354.5011] \\; \\mathrm{GHz}$"
      ],
      "text/plain": [
       "<SpectralCoord \n",
       "   (observer: <ITRS Coordinate (obstime=2018-09-16T10:15:58.896, location=(0., 0., 0.) km): (x, y, z) in m\n",
       "                  (2225015.30883296, -5440016.41799762, -2481631.27428014)\n",
       "               (v_x, v_y, v_z) in km / s\n",
       "                  (0., 0., 0.)>\n",
       "    target: <GCRS Coordinate (obstime=J2000.000, obsgeoloc=(0., 0., 0.) m, obsgeovel=(0., 0., 0.) m / s): (ra, dec, distance) in (deg, deg, AU)\n",
       "                (93.24003967, 22.5736594, 0.39746107)\n",
       "             (radial_velocity) in km / s\n",
       "                (3.3520656,)>\n",
       "    observer to target (computed from above):\n",
       "      radial_velocity=-3.936246432419361 km / s\n",
       "      redshift=-1.3129818600909893e-05)\n",
       "  [354.500098, 354.5011  ] GHz>"
      ]
     },
     "execution_count": 35,
     "metadata": {},
     "output_type": "execute_result"
    }
   ],
   "source": [
    "sc_comet=SpectralCoord(freqs_topo * u.GHz, observer = alma, target = comet)\n",
    "sc_comet"
   ]
  },
  {
   "cell_type": "code",
   "execution_count": 36,
   "id": "b007af66-278b-4eab-808c-37bd40b0e61e",
   "metadata": {},
   "outputs": [
    {
     "data": {
      "text/latex": [
       "$[354.49973,~354.50073] \\; \\mathrm{GHz}$"
      ],
      "text/plain": [
       "<SpectralCoord \n",
       "   (observer: <GCRS Coordinate (obstime=2018-09-16T10:15:58.896, obsgeoloc=(0., 0., 0.) m, obsgeovel=(0., 0., 0.) m / s): (x, y, z) in m\n",
       "                  (882677.99324444, 5810188.03280754, -2483054.59405962)\n",
       "               (v_x, v_y, v_z) in km / s\n",
       "                  (-1.23066362e-07, 3.12672928e-08, 4.5443885e-09)>\n",
       "    target: <GCRS Coordinate (obstime=J2000.000, obsgeoloc=(0., 0., 0.) m, obsgeovel=(0., 0., 0.) m / s): (ra, dec, distance) in (deg, deg, AU)\n",
       "                (93.24003967, 22.5736594, 0.39746107)\n",
       "             (radial_velocity) in km / s\n",
       "                (3.3520656,)>\n",
       "    observer to target (computed from above):\n",
       "      radial_velocity=-3.6218222884181834 km / s\n",
       "      redshift=-1.2081025770438458e-05)\n",
       "  [354.4997262, 354.5007282] GHz>"
      ]
     },
     "execution_count": 36,
     "metadata": {},
     "output_type": "execute_result"
    }
   ],
   "source": [
    "sc_comet.with_observer_stationary_relative_to('gcrs')"
   ]
  },
  {
   "cell_type": "code",
   "execution_count": 37,
   "id": "a531232f-9fee-449e-a18d-b1b94a742089",
   "metadata": {},
   "outputs": [
    {
     "data": {
      "text/latex": [
       "$[354.47498,~354.47598] \\; \\mathrm{GHz}$"
      ],
      "text/plain": [
       "<SpectralCoord \n",
       "   (observer: <ICRS Coordinate: (x, y, z) in m\n",
       "                  (1.49373631e+11, -1.52176398e+10, -6.61552286e+09)\n",
       "               (v_x, v_y, v_z) in km / s\n",
       "                  (0., 0., 0.)>\n",
       "    target: <GCRS Coordinate (obstime=J2000.000, obsgeoloc=(0., 0., 0.) m, obsgeovel=(0., 0., 0.) m / s): (ra, dec, distance) in (deg, deg, AU)\n",
       "                (93.24003967, 22.5736594, 0.39746107)\n",
       "             (radial_velocity) in km / s\n",
       "                (3.3520656,)>\n",
       "    observer to target (computed from above):\n",
       "      radial_velocity=17.30843785637034 km / s\n",
       "      redshift=5.773640087447518e-05)\n",
       "  [354.47497737, 354.4759793 ] GHz>"
      ]
     },
     "execution_count": 37,
     "metadata": {},
     "output_type": "execute_result"
    }
   ],
   "source": [
    "sc_comet.with_observer_stationary_relative_to('icrs')"
   ]
  },
  {
   "cell_type": "code",
   "execution_count": 38,
   "id": "6766110f-fd1b-496c-baf8-89ca461da6f5",
   "metadata": {},
   "outputs": [
    {
     "data": {
      "text/latex": [
       "$[354.48615,~354.48715] \\; \\mathrm{GHz}$"
      ],
      "text/plain": [
       "<SpectralCoord \n",
       "   (observer: <LSRK Coordinate: (x, y, z) in m\n",
       "                  (1.49373631e+11, -1.52176398e+10, -6.61552286e+09)\n",
       "               (v_x, v_y, v_z) in km / s\n",
       "                  (0., 0., 0.)>\n",
       "    target: <GCRS Coordinate (obstime=J2000.000, obsgeoloc=(0., 0., 0.) m, obsgeovel=(0., 0., 0.) m / s): (ra, dec, distance) in (deg, deg, AU)\n",
       "                (93.24003967, 22.5736594, 0.39746107)\n",
       "             (radial_velocity) in km / s\n",
       "                (3.3520656,)>\n",
       "    observer to target (computed from above):\n",
       "      radial_velocity=7.857684588050327 km / s\n",
       "      redshift=2.6210758001576906e-05)\n",
       "  [354.48615213, 354.48715409] GHz>"
      ]
     },
     "execution_count": 38,
     "metadata": {},
     "output_type": "execute_result"
    }
   ],
   "source": [
    "sc_comet.with_observer_stationary_relative_to('lsrk')"
   ]
  },
  {
   "cell_type": "code",
   "execution_count": 39,
   "id": "eb4c60aa-78d0-4524-97c6-e82051d2de2d",
   "metadata": {},
   "outputs": [
    {
     "ename": "TypeError",
     "evalue": "'NoneType' object is not callable",
     "output_type": "error",
     "traceback": [
      "\u001b[0;31m---------------------------------------------------------------------------\u001b[0m",
      "\u001b[0;31mTypeError\u001b[0m                                 Traceback (most recent call last)",
      "Cell \u001b[0;32mIn[39], line 1\u001b[0m\n\u001b[0;32m----> 1\u001b[0m \u001b[43msc_comet\u001b[49m\u001b[38;5;241;43m.\u001b[39;49m\u001b[43mwith_observer_stationary_relative_to\u001b[49m\u001b[43m(\u001b[49m\u001b[38;5;124;43m'\u001b[39;49m\u001b[38;5;124;43msc_comet.target\u001b[39;49m\u001b[38;5;124;43m'\u001b[39;49m\u001b[43m)\u001b[49m\n",
      "File \u001b[0;32m/export/home/murasame/casamodular/cas13593-2/CAS-13593venv/lib64/python3.8/site-packages/astropy/units/decorators.py:316\u001b[0m, in \u001b[0;36mQuantityInput.__call__.<locals>.wrapper\u001b[0;34m(*func_args, **func_kwargs)\u001b[0m\n\u001b[1;32m    314\u001b[0m \u001b[38;5;66;03m# Call the original function with any equivalencies in force.\u001b[39;00m\n\u001b[1;32m    315\u001b[0m \u001b[38;5;28;01mwith\u001b[39;00m add_enabled_equivalencies(\u001b[38;5;28mself\u001b[39m\u001b[38;5;241m.\u001b[39mequivalencies):\n\u001b[0;32m--> 316\u001b[0m     return_ \u001b[38;5;241m=\u001b[39m \u001b[43mwrapped_function\u001b[49m\u001b[43m(\u001b[49m\u001b[38;5;241;43m*\u001b[39;49m\u001b[43mfunc_args\u001b[49m\u001b[43m,\u001b[49m\u001b[43m \u001b[49m\u001b[38;5;241;43m*\u001b[39;49m\u001b[38;5;241;43m*\u001b[39;49m\u001b[43mfunc_kwargs\u001b[49m\u001b[43m)\u001b[49m\n\u001b[1;32m    318\u001b[0m \u001b[38;5;66;03m# Return\u001b[39;00m\n\u001b[1;32m    319\u001b[0m ra \u001b[38;5;241m=\u001b[39m wrapped_signature\u001b[38;5;241m.\u001b[39mreturn_annotation\n",
      "File \u001b[0;32m/export/home/murasame/casamodular/cas13593-2/CAS-13593venv/lib64/python3.8/site-packages/astropy/coordinates/spectral_coordinate.py:653\u001b[0m, in \u001b[0;36mSpectralCoord.with_observer_stationary_relative_to\u001b[0;34m(self, frame, velocity, preserve_observer_frame)\u001b[0m\n\u001b[1;32m    651\u001b[0m     \u001b[38;5;28;01melif\u001b[39;00m velocity\u001b[38;5;241m.\u001b[39mshape \u001b[38;5;241m!=\u001b[39m (\u001b[38;5;241m3\u001b[39m,):\n\u001b[1;32m    652\u001b[0m         \u001b[38;5;28;01mraise\u001b[39;00m \u001b[38;5;167;01mValueError\u001b[39;00m(\u001b[38;5;124m\"\u001b[39m\u001b[38;5;124mvelocity should be a Quantity vector with 3 elements\u001b[39m\u001b[38;5;124m\"\u001b[39m)\n\u001b[0;32m--> 653\u001b[0m     frame \u001b[38;5;241m=\u001b[39m \u001b[43mframe_cls\u001b[49m\u001b[43m(\u001b[49m\n\u001b[1;32m    654\u001b[0m \u001b[43m        \u001b[49m\u001b[38;5;241;43m0\u001b[39;49m\u001b[43m \u001b[49m\u001b[38;5;241;43m*\u001b[39;49m\u001b[43m \u001b[49m\u001b[43mu\u001b[49m\u001b[38;5;241;43m.\u001b[39;49m\u001b[43mm\u001b[49m\u001b[43m,\u001b[49m\n\u001b[1;32m    655\u001b[0m \u001b[43m        \u001b[49m\u001b[38;5;241;43m0\u001b[39;49m\u001b[43m \u001b[49m\u001b[38;5;241;43m*\u001b[39;49m\u001b[43m \u001b[49m\u001b[43mu\u001b[49m\u001b[38;5;241;43m.\u001b[39;49m\u001b[43mm\u001b[49m\u001b[43m,\u001b[49m\n\u001b[1;32m    656\u001b[0m \u001b[43m        \u001b[49m\u001b[38;5;241;43m0\u001b[39;49m\u001b[43m \u001b[49m\u001b[38;5;241;43m*\u001b[39;49m\u001b[43m \u001b[49m\u001b[43mu\u001b[49m\u001b[38;5;241;43m.\u001b[39;49m\u001b[43mm\u001b[49m\u001b[43m,\u001b[49m\n\u001b[1;32m    657\u001b[0m \u001b[43m        \u001b[49m\u001b[38;5;241;43m*\u001b[39;49m\u001b[43mvelocity\u001b[49m\u001b[43m,\u001b[49m\n\u001b[1;32m    658\u001b[0m \u001b[43m        \u001b[49m\u001b[43mrepresentation_type\u001b[49m\u001b[38;5;241;43m=\u001b[39;49m\u001b[38;5;124;43m\"\u001b[39;49m\u001b[38;5;124;43mcartesian\u001b[39;49m\u001b[38;5;124;43m\"\u001b[39;49m\u001b[43m,\u001b[49m\n\u001b[1;32m    659\u001b[0m \u001b[43m        \u001b[49m\u001b[43mdifferential_type\u001b[49m\u001b[38;5;241;43m=\u001b[39;49m\u001b[38;5;124;43m\"\u001b[39;49m\u001b[38;5;124;43mcartesian\u001b[39;49m\u001b[38;5;124;43m\"\u001b[39;49m\u001b[43m,\u001b[49m\n\u001b[1;32m    660\u001b[0m \u001b[43m    \u001b[49m\u001b[43m)\u001b[49m\n\u001b[1;32m    662\u001b[0m observer \u001b[38;5;241m=\u001b[39m update_differentials_to_match(\n\u001b[1;32m    663\u001b[0m     \u001b[38;5;28mself\u001b[39m\u001b[38;5;241m.\u001b[39mobserver, frame, preserve_observer_frame\u001b[38;5;241m=\u001b[39mpreserve_observer_frame\n\u001b[1;32m    664\u001b[0m )\n\u001b[1;32m    666\u001b[0m \u001b[38;5;66;03m# Calculate the initial and final los velocity\u001b[39;00m\n",
      "\u001b[0;31mTypeError\u001b[0m: 'NoneType' object is not callable"
     ]
    }
   ],
   "source": [
    "sc_comet.with_observer_stationary_relative_to('sc_comet.target')"
   ]
  },
  {
   "cell_type": "markdown",
   "id": "48340140-bdf3-4193-9d29-3ac5f2c96aba",
   "metadata": {},
   "source": [
    "# astropy example"
   ]
  },
  {
   "cell_type": "code",
   "execution_count": null,
   "id": "a48eba5b-93d2-46ca-b8ad-69a24a0e35ec",
   "metadata": {},
   "outputs": [],
   "source": [
    "location = EarthLocation.of_site('ALMA')  \n",
    "alma = location.get_itrs(obstime=Time('2019-04-24T02:32:10'))"
   ]
  },
  {
   "cell_type": "code",
   "execution_count": null,
   "id": "b36322c0-d94d-4c5c-b7f2-5da2d4bdcf52",
   "metadata": {},
   "outputs": [],
   "source": [
    "ttau = SkyCoord('04h21m59.43s +19d32m06.4', frame='icrs',\n",
    "                radial_velocity=23.9 * u.km / u.s, distance=144.321 * u.pc)\n",
    "            #radial_velocity=23.9 * u.km / u.s)\n",
    "ttau"
   ]
  },
  {
   "cell_type": "code",
   "execution_count": null,
   "id": "2acfb5f5-9a08-4400-95a2-5cbb9e2da00a",
   "metadata": {},
   "outputs": [],
   "source": [
    "sc_ttau = SpectralCoord(np.linspace(200, 300, 11) * u.GHz,\n",
    "                        observer=alma, target=ttau)  \n",
    "sc_ttau"
   ]
  },
  {
   "cell_type": "code",
   "execution_count": null,
   "id": "1b8b991e-9986-47a8-b3ca-9c67b8c94a19",
   "metadata": {},
   "outputs": [],
   "source": []
  }
 ],
 "metadata": {
  "kernelspec": {
   "display_name": "Python 3 (ipykernel)",
   "language": "python",
   "name": "python3"
  },
  "language_info": {
   "codemirror_mode": {
    "name": "ipython",
    "version": 3
   },
   "file_extension": ".py",
   "mimetype": "text/x-python",
   "name": "python",
   "nbconvert_exporter": "python",
   "pygments_lexer": "ipython3",
   "version": "3.8.17"
  }
 },
 "nbformat": 4,
 "nbformat_minor": 5
}
