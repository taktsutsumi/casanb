{
 "cells": [
  {
   "cell_type": "markdown",
   "id": "a989575d-3910-419d-99b7-15f1f17017d7",
   "metadata": {},
   "source": [
    "### How to check if the ephemeris table has a sufficient time coverage for given MS data"
   ]
  },
  {
   "cell_type": "code",
   "execution_count": 1,
   "id": "32880caf-39c7-4e5e-8f0e-62ba70c67555",
   "metadata": {},
   "outputs": [],
   "source": [
    "from casatools import measures, table, quanta\n",
    "me = measures()\n",
    "qa = quanta()\n",
    "tb = table()\n",
    "import numpy as np"
   ]
  },
  {
   "cell_type": "markdown",
   "id": "42aa6d5f-b67e-4f53-95ae-6357f1cf5cb2",
   "metadata": {},
   "source": [
    "Specify MS, ephemeris table, telescope name, and field id"
   ]
  },
  {
   "cell_type": "code",
   "execution_count": 2,
   "id": "60aaa5e9-acbc-44eb-8934-dd4825179c66",
   "metadata": {},
   "outputs": [],
   "source": [
    "msname = 'europa.ms'\n",
    "ephemtab = f'{msname}/FIELD/EPHEM0_Europa_59280.6.tab'\n",
    "telescope = 'EVLA'\n",
    "fieldid = '0'"
   ]
  },
  {
   "cell_type": "code",
   "execution_count": 3,
   "id": "5b55d58d-8503-4443-83d6-31a03e101264",
   "metadata": {},
   "outputs": [
    {
     "data": {
      "text/plain": [
       "True"
      ]
     },
     "execution_count": 3,
     "metadata": {},
     "output_type": "execute_result"
    }
   ],
   "source": [
    "tb.open(msname)\n",
    "tb2 = tb.query(f'FIELD_ID={fieldid}', columns='TIME, FLAG_ROW')\n",
    "tm = tb2.getcol('TIME')\n",
    "flg = tb2.getcol('FLAG_ROW')\n",
    "tb2.done()\n",
    "tb.done()"
   ]
  },
  {
   "cell_type": "markdown",
   "id": "df7e7a1f-6cba-42c9-b255-d03facb7bf26",
   "metadata": {},
   "source": [
    "Extract unique time stamps takeing account of flags"
   ]
  },
  {
   "cell_type": "code",
   "execution_count": 4,
   "id": "0918ff40-f0a9-42d3-ba99-b3b0aadf6a2c",
   "metadata": {},
   "outputs": [
    {
     "name": "stdout",
     "output_type": "stream",
     "text": [
      "maked_tm: 51622272\n",
      "skipping masked ones: 31679757\n",
      "unique tm in tm_compressed 1752\n"
     ]
    }
   ],
   "source": [
    "import numpy.ma as ma\n",
    "masked_tm = ma.array(tm,mask=flg)\n",
    "print(f'maked_tm: {len(masked_tm)}')\n",
    "tm_compressed = masked_tm.compressed()\n",
    "print(f'skipping masked ones: {len(tm_compressed)}')\n",
    "tm_unique = np.unique(tm_compressed)\n",
    "print(f'unique tm in tm_compressed {len(tm_unique)}')"
   ]
  },
  {
   "cell_type": "code",
   "execution_count": 5,
   "id": "6108d568-8117-448d-a4ce-c9491e8dee05",
   "metadata": {},
   "outputs": [
    {
     "data": {
      "text/plain": [
       "'Frame: Epoch: 59280::14:04:31.0000 (TDB = 59280.6, UT1 = 59280.6, TT = 59280.6)\\n       Position: [-1.60116e+06, -5.04199e+06, 3.55488e+06]\\n        (Longitude = -1.87829 Latitude = 0.591675)\\n       Direction: [0, 0, 1]\\n        (J2000 = [0, 90] deg)\\n       Europa comet between MJD 59280.6 and 59280.7'"
      ]
     },
     "execution_count": 5,
     "metadata": {},
     "output_type": "execute_result"
    }
   ],
   "source": [
    "me.framecomet(ephemtab)\n",
    "me.doframe(me.observatory(telescope))\n",
    "me.doframe(me.epoch('utc', qa.quantity(tm_unique[0],'s')))\n",
    "me.showframe()"
   ]
  },
  {
   "cell_type": "code",
   "execution_count": 6,
   "id": "973cde68-1ae9-44b9-8ba8-b63479172a1c",
   "metadata": {},
   "outputs": [
    {
     "name": "stdout",
     "output_type": "stream",
     "text": [
      "Getting direction for 1752 timestamp(s), 1 failed.\n"
     ]
    },
    {
     "name": "stderr",
     "output_type": "stream",
     "text": [
      "2024-03-05 23:28:10\tWARN\t\tCannot convert due to missing frame information\n",
      "2024-03-05 23:28:10\tWARN\t+\tCannot convert measure\n",
      "2024-03-05 23:28:10\tSEVERE\t\tIllegal Measure record in MeasureHolder::fromRecord\n",
      "2024-03-05 23:28:10\tSEVERE\t+\tNon-measure type in measure conversion\n"
     ]
    }
   ],
   "source": [
    "nt = 0\n",
    "tfailed =[]\n",
    "for t in tm_unique:\n",
    "    me.doframe(me.epoch('utc',qa.quantity(t,'s')))\n",
    "    ret=me.measure(me.measure(me.direction('COMET'),'AZELGEO'),'ICRS')\n",
    "    if ret=={}:\n",
    "        tfailed.append(t)\n",
    "    nt += 1    \n",
    "print(f'Getting direction for {nt} timestamp(s), {len(tfailed)} failed.')"
   ]
  },
  {
   "cell_type": "code",
   "execution_count": 7,
   "id": "a9106055-529b-4983-ac8e-d50423d1eb15",
   "metadata": {},
   "outputs": [
    {
     "name": "stdout",
     "output_type": "stream",
     "text": [
      "[5121850019.0]\n"
     ]
    }
   ],
   "source": [
    "print(tfailed)"
   ]
  }
 ],
 "metadata": {
  "kernelspec": {
   "display_name": "Python 3 (ipykernel)",
   "language": "python",
   "name": "python3"
  },
  "language_info": {
   "codemirror_mode": {
    "name": "ipython",
    "version": 3
   },
   "file_extension": ".py",
   "mimetype": "text/x-python",
   "name": "python",
   "nbconvert_exporter": "python",
   "pygments_lexer": "ipython3",
   "version": "3.8.17"
  }
 },
 "nbformat": 4,
 "nbformat_minor": 5
}
