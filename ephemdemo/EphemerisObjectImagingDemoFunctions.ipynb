{
 "cells": [
  {
   "cell_type": "markdown",
   "id": "478b34b7-fac8-4127-96c1-e9ab7e74bb62",
   "metadata": {},
   "source": [
    "# Utility functions for Ephemeris Object Imaging \n",
    "This nootebook defines various utility functions used in the demo notebooks for the ephemeris object imaging."
   ]
  },
  {
   "cell_type": "code",
   "execution_count": 1,
   "id": "bc161f1a-baf3-4f18-80af-239f768d8214",
   "metadata": {
    "scrolled": true
   },
   "outputs": [],
   "source": [
    "# extra packages needed\n",
    "#import os\n",
    "#os.system('pip install astropy')\n",
    "# for plotting images\n",
    "#os.system('pop install aplpy')"
   ]
  },
  {
   "cell_type": "code",
   "execution_count": 11,
   "id": "9825647d-e987-4e18-83ff-ce6f66bd8ea5",
   "metadata": {},
   "outputs": [],
   "source": [
    "from casatasks import getephemtable, tclean, exportfits, listobs, clearstat, imstat\n",
    "from casatools import measures, quanta, table, image, msmetadata\n",
    "import os\n",
    "import aplpy\n",
    "from astropy.io import fits\n",
    "from astropy.wcs import WCS\n",
    "from matplotlib import pyplot\n",
    "import numpy as np\n",
    "import pylab as pl\n",
    "import shutil\n",
    "me = measures()\n",
    "qa = quanta()\n",
    "tb = table()\n",
    "ia = image()\n",
    "msmd = msmetadata()"
   ]
  },
  {
   "cell_type": "markdown",
   "id": "e7c31879-1745-4134-a0f6-a868c01e097a",
   "metadata": {},
   "source": [
    "## Functions"
   ]
  },
  {
   "cell_type": "raw",
   "id": "55e38fd1-280a-4cdb-9177-7c8f18063888",
   "metadata": {},
   "source": [
    "delete_tcleanimages: delete images from previous tclean run"
   ]
  },
  {
   "cell_type": "code",
   "execution_count": 3,
   "id": "09b8deed-32db-490f-b13f-b2b07b1eb986",
   "metadata": {},
   "outputs": [],
   "source": [
    "def delete_tcleanimages(imagename):\n",
    "    ''' clean up images from a previous run '''\n",
    "    imtypes = ['residual', 'image', 'psf', 'pb', 'model', 'sumwt','mask', 'weight']\n",
    "    for type in imtypes:\n",
    "        if os.path.exists(f'{imagename}.{type}'):\n",
    "            os.system(f'rm -rf {imagename}.{type}')"
   ]
  },
  {
   "cell_type": "raw",
   "id": "fa7d7464-7972-45f8-9b0c-785951c3e1de",
   "metadata": {},
   "source": [
    "get_attachedEphemtablepath: returns full eph table path for the corresponding field id"
   ]
  },
  {
   "cell_type": "code",
   "execution_count": 4,
   "id": "bb07c821-d313-496f-a74c-4b326a11862c",
   "metadata": {},
   "outputs": [],
   "source": [
    "#def get_attachedEphemtablepath(msfile, fieldid):\n",
    "#    ''' returns full path of attached eph table for a specified field ID'''\n",
    "#    import glob\n",
    "#    from casatools import table\n",
    "#    _tb = table()\n",
    "#    _tb.open(msfile+'/FIELD')\n",
    "#    ephemid = _tb.getcell('EPHEMERIS_ID',fieldid)\n",
    "#    _tb.close()\n",
    "#    tabname = glob.glob(f'{msfile}/FIELD/EPHEM{ephemid}*/')\n",
    "#    return os.path.abspath(tabname[0])"
   ]
  },
  {
   "cell_type": "code",
   "execution_count": 5,
   "id": "079afa21-d9b2-458f-8193-9791745462f3",
   "metadata": {},
   "outputs": [],
   "source": [
    "def get_attachedEphemtablepath(msfile, fieldname):\n",
    "    ''' returns full path of attached eph table for a specified field ID'''\n",
    "    from casatools import table, msmetadata\n",
    "    import glob\n",
    "    _tb = table()\n",
    "    _msmd = msmetadata()\n",
    "    _msmd.open(msfile)\n",
    "    fieldid = _msmd.fieldsforname(fieldname)[0]\n",
    "    _msmd.close()\n",
    "    _tb.open(msfile+'/FIELD')\n",
    "    ephemid = _tb.getcell('EPHEMERIS_ID',fieldid)\n",
    "    _tb.close()\n",
    "    tabname = glob.glob(f'{msfile}/FIELD/EPHEM{ephemid}*/')\n",
    "    return tabname[0]\n",
    "    "
   ]
  },
  {
   "cell_type": "markdown",
   "id": "33378344-c85f-4897-8a36-391837f6e215",
   "metadata": {},
   "source": [
    "Convert a CASA image to FITS image for displaying the image via aplpy"
   ]
  },
  {
   "cell_type": "code",
   "execution_count": 6,
   "id": "95bb409f-d192-4497-be48-837e17933da5",
   "metadata": {},
   "outputs": [],
   "source": [
    "# Define functions to use in displaying the image\n",
    "def displayImage(imgname, markers={}, title=''):\n",
    "    ''' convert casa image to fits and display the fits image'''\n",
    "    # export to a FITS image (overwrite if the output exists)\n",
    "    from casatools import quanta\n",
    "    _qa = quanta()\n",
    "    fitsimagename = imgname+'fits'\n",
    "    exportfits(imagename=imgname, fitsimage=fitsimagename, overwrite=True)\n",
    "    fits.setval(fitsimagename, 'TIMESYS', value='utc')\n",
    "    fig = pl.figure(figsize=(15,15))\n",
    "    img = aplpy.FITSFigure(fitsimagename, subplot=[0.1,0.1,0.5,0.5])\n",
    "    img.show_colorscale()\n",
    "    if markers!={}:\n",
    "       for ky, pos in markers.items(): \n",
    "          if 'ra' in pos and 'dec' in pos:\n",
    "             print(f'ky={ky}')\n",
    "             if 'ext' in ky: \n",
    "                 color = 'red'\n",
    "             else:\n",
    "                 color = 'yellow'\n",
    "             img.show_markers(pos['ra'], pos['dec'], edgecolor=color, marker='o',s=10, alpha=0.5)\n",
    "             marker_ra = _qa.time(_qa.quantity(pos['ra'],'deg'),prec=9)[0]\n",
    "             marker_dec = _qa.angle(_qa.quantity(pos['dec'],'deg'),prec=9)[0]\n",
    "             print(f'{ky} at: {marker_ra}, {marker_dec}')\n",
    "    pl.title(title)\n",
    "    fig.canvas.draw()\n",
    "    print('image center:',printImageCenter(imgname))\n",
    "\n",
    "#def displayImage(imgname, markers={}, title=''):\n",
    "#    ''' convert casa image to fits and display the fits image'''\n",
    "#    # export to a FITS image (overwrite if the output exists)\n",
    "#    fitsimagename = imgname+'fits'\n",
    "#    exportfits(imagename=imgname, fitsimage=fitsimagename, overwrite=True)\n",
    "#    fits.setval(fitsimagename, 'TIMESYS', value='utc')\n",
    "#    fig = pl.figure(figsize=(15,15))\n",
    "#    img = aplpy.FITSFigure(fitsimagename, subplot=[0.1,0.1,0.5,0.5])\n",
    "#    img.show_colorscale()\n",
    "#    if markers!={}:\n",
    "#       img.show_markers(markers['ra'], markers['dec'], edgecolor='red', marker='o',s=10, alpha=0.5)\n",
    "#       marker_ra = qa.time(qa.quantity(markers['ra'],'deg'),prec=9)[0]\n",
    "#       marker_dec = qa.angle(qa.quantity(markers['dec'],'deg'),prec=9)[0]\n",
    "#       print(f'marker at: {marker_ra}, {marker_dec}')\n",
    "#    pl.title(title)\n",
    "#    fig.canvas.draw()\n",
    "#    print('image center:',printImageCenter(imgname))\n",
    "\n",
    "def printImageCenter(imgname):\n",
    "    from casatools import image, quanta\n",
    "    _ia = image()\n",
    "    _qa = quanta()\n",
    "    _ia.open(imgname)\n",
    "    shape = _ia.shape()\n",
    "    csys = _ia.coordsys()\n",
    "    center = csys.toworld([shape[0]/2.,shape[1]/2.])\n",
    "    _ia.done()\n",
    "    return _qa.time(_qa.quantity(center['numeric'][0], 'rad'),prec=9)[0], _qa.angle(_qa.quantity(center['numeric'][1],'rad'),prec=9)[0]\n",
    "    "
   ]
  },
  {
   "cell_type": "raw",
   "id": "6270b364-74d5-4bcf-9902-97ed811d89c6",
   "metadata": {},
   "source": [
    "Returns direction of the ephemeris object at a given time (parallax collected)"
   ]
  },
  {
   "cell_type": "code",
   "execution_count": 7,
   "id": "e39eb5d4-d82f-43b0-b15d-44eb910a9483",
   "metadata": {},
   "outputs": [],
   "source": [
    "def ephem_dir(ephemtab, refep, observatory):\n",
    "    from casatools import measures\n",
    "    _me = measures()\n",
    "    _me.framecomet(ephemtab)\n",
    "    _me.doframe(_me.observatory(observatory))\n",
    "    _me.doframe(_me.epoch('utc',refep))\n",
    "    return _me.measure(_me.measure(_me.direction('COMET'), 'AZELGEO'),'ICRS')\n",
    "    "
   ]
  },
  {
   "cell_type": "raw",
   "id": "648c4085-e81b-4a47-87dd-f387467f55cf",
   "metadata": {},
   "source": [
    "Different display functions (adapted from simulation notebooks in CASADocs, modified "
   ]
  },
  {
   "cell_type": "code",
   "execution_count": 8,
   "id": "087a9e58-eb0c-4afd-ac4e-666f1ed47396",
   "metadata": {},
   "outputs": [],
   "source": [
    "def dispAstropy(imname='sim_onepoint_true.im', chanslice=0):\n",
    "        exportfits(imagename=imname, fitsimage=imname+'.fits', overwrite=True)\n",
    "        hdu = fits.open(imname+'.fits')[0]\n",
    "       # print(hdu.header)\n",
    "        wcs = WCS(hdu.header,naxis=2)\n",
    "        fig = pl.figure()\n",
    "        fig.add_subplot(121, projection=wcs)\n",
    "        pl.imshow(hdu.data[0,chanslice,:,:], origin='lower', cmap=pl.cm.viridis)\n",
    "        pl.xlabel('RA')\n",
    "        pl.ylabel('Dec')\n",
    "\n",
    "\n",
    "def dispImage(imname='sim_onepoint_true.im', chanslice=0, useAstropy=False):\n",
    "    from casatools import image\n",
    "    _ia = image()\n",
    "    _ia.open(imname)\n",
    "    pix = _ia.getchunk()\n",
    "    shp = _ia.shape()\n",
    "    _ia.close()\n",
    "    pl.figure(figsize=(20,10))\n",
    "    pl.clf()\n",
    "    #if shp[3]>1:   \n",
    "    if useAstropy==False:\n",
    "        pl.subplot(121)\n",
    "        pl.imshow(pix[chanslice,0,:,:])\n",
    "        pl.title(f'Image from channel {chanslice}')\n",
    "    else:\n",
    "        dispAstropy(imname,chanslice)\n",
    "        #displayImage(imname)\n",
    "    if shp[3]>1:\n",
    "        pl.subplot(122)\n",
    "        ploc = np.where( pix == pix.max() )\n",
    "        pl.plot(pix[ploc[0][0], ploc[1][0],0,:])\n",
    "        pl.title('Spectrum at source peak')\n",
    "        pl.xlabel('Channel')\n",
    "\n"
   ]
  },
  {
   "cell_type": "code",
   "execution_count": 9,
   "id": "b8aa7d5c-ff64-4866-98ef-d33f785d6749",
   "metadata": {},
   "outputs": [],
   "source": [
    "def casadatetoastropydate(casadatestring):\n",
    "    datelist = casadatestring.split('/')\n",
    "    retstr=''\n",
    "    if len(datelist)==4:\n",
    "        retstr=datelist[0]+'-'+datelist[1]+'-'+datelist[2]+'T'+datelist[3]\n",
    "    return retstr    "
   ]
  },
  {
   "cell_type": "code",
   "execution_count": null,
   "id": "b6dfd677-2a40-413d-a8e2-edd00590b447",
   "metadata": {},
   "outputs": [],
   "source": []
  }
 ],
 "metadata": {
  "kernelspec": {
   "display_name": "Python 3 (ipykernel)",
   "language": "python",
   "name": "python3"
  },
  "language_info": {
   "codemirror_mode": {
    "name": "ipython",
    "version": 3
   },
   "file_extension": ".py",
   "mimetype": "text/x-python",
   "name": "python",
   "nbconvert_exporter": "python",
   "pygments_lexer": "ipython3",
   "version": "3.8.17"
  }
 },
 "nbformat": 4,
 "nbformat_minor": 5
}
